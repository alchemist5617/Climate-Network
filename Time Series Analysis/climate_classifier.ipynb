{
 "cells": [
  {
   "cell_type": "code",
   "execution_count": 10,
   "metadata": {},
   "outputs": [],
   "source": [
    "import numpy as np\n",
    "import pandas as pd\n",
    "import pickle\n",
    "import csv\n",
    "import matplotlib.pyplot as plt\n",
    "from scipy import stats\n",
    "import math\n",
    "import matplotlib.pyplot as plt\n",
    "from mpl_toolkits.basemap import Basemap\n",
    "from matplotlib import cm\n",
    "from numpy import linspace, meshgrid"
   ]
  },
  {
   "cell_type": "code",
   "execution_count": 55,
   "metadata": {},
   "outputs": [],
   "source": [
    "def load_obj(name):\n",
    "    with open(name + '.pkl', 'rb') as f:\n",
    "        return pickle.load(f)\n",
    "    \n",
    "def removeOutliers_Idx(x, outlierConstant):\n",
    "    a = np.array(x)\n",
    "    upper_quartile = np.percentile(a, 75)\n",
    "    lower_quartile = np.percentile(a, 25)\n",
    "    IQR = (upper_quartile - lower_quartile) * outlierConstant\n",
    "    quartileSet = (lower_quartile - IQR, upper_quartile + IQR)   \n",
    "    Idx = np.where((a >= quartileSet[0]) & (a <= quartileSet[1]))\n",
    "    return(Idx)\n",
    "    \n",
    "def removeOutliers(x, outlierConstant):\n",
    "    a = np.array(x)\n",
    "    upper_quartile = np.percentile(a, 75)\n",
    "    lower_quartile = np.percentile(a, 25)\n",
    "    IQR = (upper_quartile - lower_quartile) * outlierConstant\n",
    "    quartileSet = (lower_quartile - IQR, upper_quartile + IQR)\n",
    "    \n",
    "    result = a[np.where((a >= quartileSet[0]) & (a <= quartileSet[1]))]\n",
    "    \n",
    "    return result.tolist()\n",
    "\n",
    "def studentT_test(first_var, second_var):\n",
    "    n_1 = len(first_var)\n",
    "    mean_1 = np.mean(first_var)\n",
    "    var_1 = np.var(first_var)\n",
    "    \n",
    "    n_2 = len(second_var)\n",
    "    mean_2 = np.mean(second_var)\n",
    "    var_2 = np.var(second_var)\n",
    "    \n",
    "    d_f = min(n_1 - 1, n_2 - 1)\n",
    "    \n",
    "    t_test = (mean_1 - mean_2) /math.sqrt(var_1/n_1 + var_2/n_2) \n",
    "    p_value = 1 - stats.t.cdf(t_test, d_f)\n",
    "    \n",
    "    return(t_test, p_value, n_1, n_2)"
   ]
  },
  {
   "cell_type": "code",
   "execution_count": 62,
   "metadata": {},
   "outputs": [],
   "source": [
    "stl = pd.read_csv(\"STL.csv\")\n",
    "ets = pd.read_csv(\"ets.csv\")\n",
    "auto = pd.read_csv(\"autoTemp.csv\")\n",
    "NN = pd.read_csv(\"NN.csv\")"
   ]
  },
  {
   "cell_type": "code",
   "execution_count": 7,
   "metadata": {},
   "outputs": [],
   "source": [
    "class_dic = load_obj(\"class_dic\")"
   ]
  },
  {
   "cell_type": "code",
   "execution_count": 47,
   "metadata": {},
   "outputs": [],
   "source": []
  },
  {
   "cell_type": "code",
   "execution_count": 61,
   "metadata": {},
   "outputs": [],
   "source": [
    "ets_error = ets[\"meanError\"].values\n",
    "ets_error = removeOutliers(ets_error, 1.5)\n",
    "         \n",
    "stl_error = stl[\"meanError\"].values\n",
    "stl_error = removeOutliers(stl_error, 1.5)\n",
    "        \n",
    "auto_error = auto[\"meanError\"].values\n",
    "auto_error = removeOutliers(auto_error, 1.5)\n",
    "        \n",
    "NN_error = NN[\"meanError\"].values\n",
    "NN_error = removeOutliers(NN_error, 1.5)"
   ]
  },
  {
   "cell_type": "code",
   "execution_count": 138,
   "metadata": {},
   "outputs": [
    {
     "data": {
      "text/plain": [
       "590"
      ]
     },
     "execution_count": 138,
     "metadata": {},
     "output_type": "execute_result"
    }
   ],
   "source": [
    "len(stl_error)"
   ]
  },
  {
   "cell_type": "raw",
   "metadata": {},
   "source": [
    "ETS and STL have the same performance:"
   ]
  },
  {
   "cell_type": "code",
   "execution_count": 139,
   "metadata": {},
   "outputs": [
    {
     "data": {
      "text/plain": [
       "Ttest_indResult(statistic=-0.021885624495291515, pvalue=0.9825429453278485)"
      ]
     },
     "execution_count": 139,
     "metadata": {},
     "output_type": "execute_result"
    }
   ],
   "source": [
    "# ets and stl are not different and they have same performance\n",
    "stats.ttest_ind(ets_error,stl_error,equal_var = False)"
   ]
  },
  {
   "cell_type": "code",
   "execution_count": null,
   "metadata": {},
   "outputs": [],
   "source": []
  },
  {
   "cell_type": "raw",
   "metadata": {},
   "source": [
    "ETS and auto.arima do not have the same performance:"
   ]
  },
  {
   "cell_type": "code",
   "execution_count": 140,
   "metadata": {},
   "outputs": [
    {
     "data": {
      "text/plain": [
       "Ttest_indResult(statistic=13.592249810792598, pvalue=2.619432119883204e-36)"
      ]
     },
     "execution_count": 140,
     "metadata": {},
     "output_type": "execute_result"
    }
   ],
   "source": [
    "# auto.arima and stl are different\n",
    "stats.ttest_ind(auto_error,stl_error,equal_var = False)"
   ]
  },
  {
   "cell_type": "raw",
   "metadata": {},
   "source": [
    "Both ETS and STL outperform auto.arima:"
   ]
  },
  {
   "cell_type": "code",
   "execution_count": 143,
   "metadata": {},
   "outputs": [
    {
     "data": {
      "text/plain": [
       "(13.606374722607141, 0.0, 477, 590)"
      ]
     },
     "execution_count": 143,
     "metadata": {},
     "output_type": "execute_result"
    }
   ],
   "source": [
    "#stl outperforms auto.arima\n",
    "studentT_test(auto_error, stl_error)"
   ]
  },
  {
   "cell_type": "code",
   "execution_count": 144,
   "metadata": {},
   "outputs": [
    {
     "data": {
      "text/plain": [
       "(13.593356691225793, 0.0, 477, 577)"
      ]
     },
     "execution_count": 144,
     "metadata": {},
     "output_type": "execute_result"
    }
   ],
   "source": [
    "#ets outperforms auto.arima\n",
    "studentT_test(auto_error, ets_error)"
   ]
  },
  {
   "cell_type": "code",
   "execution_count": null,
   "metadata": {},
   "outputs": [],
   "source": []
  },
  {
   "cell_type": "raw",
   "metadata": {},
   "source": [
    "Neural Network and stl performance are different:"
   ]
  },
  {
   "cell_type": "code",
   "execution_count": 145,
   "metadata": {},
   "outputs": [
    {
     "data": {
      "text/plain": [
       "Ttest_indResult(statistic=6.224261443236347, pvalue=6.74767810982762e-10)"
      ]
     },
     "execution_count": 145,
     "metadata": {},
     "output_type": "execute_result"
    }
   ],
   "source": [
    "# Neural Network and stl are different\n",
    "stats.ttest_ind(NN_error,stl_error,equal_var = False)"
   ]
  },
  {
   "cell_type": "code",
   "execution_count": null,
   "metadata": {},
   "outputs": [],
   "source": [
    "Both ETS and STL outperform Neural Network:"
   ]
  },
  {
   "cell_type": "code",
   "execution_count": 146,
   "metadata": {},
   "outputs": [
    {
     "data": {
      "text/plain": [
       "(6.229460294925986, 4.455882329779115e-10, 606, 590)"
      ]
     },
     "execution_count": 146,
     "metadata": {},
     "output_type": "execute_result"
    }
   ],
   "source": [
    "#stl outperforms auto.arima\n",
    "studentT_test(NN_error, stl_error)"
   ]
  },
  {
   "cell_type": "code",
   "execution_count": 147,
   "metadata": {},
   "outputs": [
    {
     "data": {
      "text/plain": [
       "(6.179080521968353, 6.100525640206911e-10, 606, 577)"
      ]
     },
     "execution_count": 147,
     "metadata": {},
     "output_type": "execute_result"
    }
   ],
   "source": [
    "#ets outperforms auto.arima\n",
    "studentT_test(NN_error, ets_error)"
   ]
  },
  {
   "cell_type": "code",
   "execution_count": null,
   "metadata": {},
   "outputs": [],
   "source": []
  },
  {
   "cell_type": "code",
   "execution_count": null,
   "metadata": {},
   "outputs": [],
   "source": [
    "Neural Network and auto.arima performance are different:"
   ]
  },
  {
   "cell_type": "code",
   "execution_count": 148,
   "metadata": {},
   "outputs": [
    {
     "data": {
      "text/plain": [
       "Ttest_indResult(statistic=-11.214705232392294, pvalue=1.9167680031558427e-26)"
      ]
     },
     "execution_count": 148,
     "metadata": {},
     "output_type": "execute_result"
    }
   ],
   "source": [
    "# Neural Network and auto.arima are different\n",
    "stats.ttest_ind(NN_error,auto_error,equal_var = False)"
   ]
  },
  {
   "cell_type": "code",
   "execution_count": null,
   "metadata": {},
   "outputs": [],
   "source": [
    "Neural Network outperforms auto.arima:"
   ]
  },
  {
   "cell_type": "code",
   "execution_count": 149,
   "metadata": {},
   "outputs": [
    {
     "data": {
      "text/plain": [
       "(11.22629052524761, 0.0, 477, 606)"
      ]
     },
     "execution_count": 149,
     "metadata": {},
     "output_type": "execute_result"
    }
   ],
   "source": [
    "#ets outperforms auto.arima\n",
    "studentT_test(auto_error, NN_error)"
   ]
  },
  {
   "cell_type": "raw",
   "metadata": {},
   "source": [
    "The overall ranking in terms of performance:\n",
    "\n",
    "1. ETS+classical decomposition (phase averaging) and ETS+STL decomposition\n",
    "2. Neural Network (Three layers, 100, 50 and 20 units)\n",
    "3. auto.arima"
   ]
  },
  {
   "cell_type": "code",
   "execution_count": null,
   "metadata": {},
   "outputs": [],
   "source": []
  },
  {
   "cell_type": "code",
   "execution_count": null,
   "metadata": {},
   "outputs": [],
   "source": []
  },
  {
   "cell_type": "code",
   "execution_count": 112,
   "metadata": {},
   "outputs": [],
   "source": [
    "climate_class = []\n",
    "for i in range(len(stl)):  \n",
    "    if stl[\"lon\"][i] < 180:\n",
    "        lon_key = stl[\"lon\"][i] \n",
    "    else:\n",
    "        lon_key = -(360 - stl[\"lon\"][i])   \n",
    "    lat_key = stl[\"lat\"][i] \n",
    "    if (lat_key,lon_key) in class_dic.keys():\n",
    "        climate_class.append(class_dic[(lat_key,lon_key)])\n",
    "    else:\n",
    "        climate_class.append(\"None\")"
   ]
  },
  {
   "cell_type": "code",
   "execution_count": 113,
   "metadata": {},
   "outputs": [],
   "source": [
    "climate_class_auto = []\n",
    "for i in range(len(auto)):  \n",
    "    if auto[\"lon\"].values[i] < 180:\n",
    "        lon_key = auto[\"lon\"].values[i] \n",
    "    else:\n",
    "        lon_key = -(360 - auto[\"lon\"].values[i])   \n",
    "    lat_key = auto[\"lat\"].values[i] \n",
    "    if (lat_key,lon_key) in class_dic.keys():\n",
    "        climate_class_auto.append(class_dic[(lat_key,lon_key)])\n",
    "    else:\n",
    "        climate_class_auto.append(\"None\")"
   ]
  },
  {
   "cell_type": "code",
   "execution_count": 114,
   "metadata": {},
   "outputs": [],
   "source": [
    "climate_class_NN = []\n",
    "for i in range(len(NN)):  \n",
    "    if NN[\"lon\"].values[i] < 180:\n",
    "        lon_key = NN[\"lon\"].values[i] \n",
    "    else:\n",
    "        lon_key = -(360 - NN[\"lon\"].values[i])   \n",
    "    lat_key = NN[\"lat\"].values[i] \n",
    "    if (lat_key,lon_key) in class_dic.keys():\n",
    "        climate_class_NN.append(class_dic[(lat_key,lon_key)])\n",
    "    else:\n",
    "        climate_class_NN.append(\"None\")"
   ]
  },
  {
   "cell_type": "code",
   "execution_count": 67,
   "metadata": {},
   "outputs": [],
   "source": [
    "#Xdata.loc[np.logical_and(np.logical_and(Xdata['year'] == curr_year,Xdata['lat'] == i),Xdata['lon'] == j),'mean_temp'] = np.nanmean(air[z*365 : z*365 + 365, i, j]"
   ]
  },
  {
   "cell_type": "code",
   "execution_count": 153,
   "metadata": {},
   "outputs": [],
   "source": [
    "stl[\"meanErrorEts\"] = ets[\"meanError\"].values\n",
    "stl[\"climateClasses\"] = climate_class\n",
    "auto[\"climateClasses\"] = climate_class_auto\n",
    "NN[\"climateClasses\"] = climate_class_NN"
   ]
  },
  {
   "cell_type": "code",
   "execution_count": 154,
   "metadata": {},
   "outputs": [],
   "source": [
    "classes = set(climate_class_auto)"
   ]
  },
  {
   "cell_type": "code",
   "execution_count": 155,
   "metadata": {},
   "outputs": [],
   "source": [
    "pd.set_option('display.float_format', lambda x: '%.4f' % x)"
   ]
  },
  {
   "cell_type": "code",
   "execution_count": 156,
   "metadata": {},
   "outputs": [],
   "source": [
    "item_class = []\n",
    "p_values = []\n",
    "t = []\n",
    "significant = []\n",
    "number = []\n",
    "for item in classes:\n",
    "    if item != \"None\":\n",
    "        \n",
    "        ets_error = ets.loc[stl['climateClasses'] == item][\"meanError\"]\n",
    "        ets_error = removeOutliers(ets_error, 1.5)\n",
    "         \n",
    "        stl_error = stl.loc[stl['climateClasses'] == item][\"meanError\"]\n",
    "        stl_error = removeOutliers(stl_error, 1.5)\n",
    "        \n",
    "        auto_error = auto.loc[auto['climateClasses'] == item][\"meanError\"]\n",
    "        auto_error = removeOutliers(auto_error, 1.5)\n",
    "        \n",
    "        NN_error = NN.loc[NN['climateClasses'] == item][\"meanError\"]\n",
    "        NN_error = removeOutliers(NN_error, 1.5)\n",
    "\n",
    "\n",
    "        t_test, p_value, n_auto, n_NN = studentT_test(auto_error, NN_error) \n",
    "        \n",
    "        item_class.append(item)\n",
    "        t.append(t_test)\n",
    "        number.append(n_NN)\n",
    "        significant.append(p_value < 0.05)      \n",
    "        p_values.append(p_value)"
   ]
  },
  {
   "cell_type": "code",
   "execution_count": 157,
   "metadata": {},
   "outputs": [],
   "source": [
    "NN_auto = pd.DataFrame({\"classes\":item_class,\"t test\":t, \"p_values\":p_values, \"95% significant\": significant, \"number\":number})"
   ]
  },
  {
   "cell_type": "code",
   "execution_count": 158,
   "metadata": {},
   "outputs": [
    {
     "data": {
      "text/html": [
       "<div>\n",
       "<style scoped>\n",
       "    .dataframe tbody tr th:only-of-type {\n",
       "        vertical-align: middle;\n",
       "    }\n",
       "\n",
       "    .dataframe tbody tr th {\n",
       "        vertical-align: top;\n",
       "    }\n",
       "\n",
       "    .dataframe thead th {\n",
       "        text-align: right;\n",
       "    }\n",
       "</style>\n",
       "<table border=\"1\" class=\"dataframe\">\n",
       "  <thead>\n",
       "    <tr style=\"text-align: right;\">\n",
       "      <th></th>\n",
       "      <th>95% significant</th>\n",
       "      <th>classes</th>\n",
       "      <th>number</th>\n",
       "      <th>p_values</th>\n",
       "      <th>t test</th>\n",
       "    </tr>\n",
       "  </thead>\n",
       "  <tbody>\n",
       "    <tr>\n",
       "      <th>0</th>\n",
       "      <td>False</td>\n",
       "      <td>Csa</td>\n",
       "      <td>26</td>\n",
       "      <td>0.1499</td>\n",
       "      <td>1.0677</td>\n",
       "    </tr>\n",
       "    <tr>\n",
       "      <th>1</th>\n",
       "      <td>True</td>\n",
       "      <td>Aw</td>\n",
       "      <td>108</td>\n",
       "      <td>0.0000</td>\n",
       "      <td>5.4871</td>\n",
       "    </tr>\n",
       "    <tr>\n",
       "      <th>2</th>\n",
       "      <td>False</td>\n",
       "      <td>Af</td>\n",
       "      <td>6</td>\n",
       "      <td>0.9890</td>\n",
       "      <td>-3.2822</td>\n",
       "    </tr>\n",
       "    <tr>\n",
       "      <th>3</th>\n",
       "      <td>False</td>\n",
       "      <td>BWk</td>\n",
       "      <td>13</td>\n",
       "      <td>0.1123</td>\n",
       "      <td>1.3319</td>\n",
       "    </tr>\n",
       "    <tr>\n",
       "      <th>4</th>\n",
       "      <td>True</td>\n",
       "      <td>Cwa</td>\n",
       "      <td>14</td>\n",
       "      <td>0.0218</td>\n",
       "      <td>2.2353</td>\n",
       "    </tr>\n",
       "    <tr>\n",
       "      <th>5</th>\n",
       "      <td>False</td>\n",
       "      <td>Cwb</td>\n",
       "      <td>7</td>\n",
       "      <td>0.0634</td>\n",
       "      <td>1.8295</td>\n",
       "    </tr>\n",
       "    <tr>\n",
       "      <th>6</th>\n",
       "      <td>False</td>\n",
       "      <td>As</td>\n",
       "      <td>4</td>\n",
       "      <td>0.8908</td>\n",
       "      <td>-1.7715</td>\n",
       "    </tr>\n",
       "    <tr>\n",
       "      <th>7</th>\n",
       "      <td>False</td>\n",
       "      <td>Cfb</td>\n",
       "      <td>3</td>\n",
       "      <td>0.2408</td>\n",
       "      <td>0.8573</td>\n",
       "    </tr>\n",
       "    <tr>\n",
       "      <th>8</th>\n",
       "      <td>False</td>\n",
       "      <td>Am</td>\n",
       "      <td>12</td>\n",
       "      <td>0.7834</td>\n",
       "      <td>-0.8164</td>\n",
       "    </tr>\n",
       "    <tr>\n",
       "      <th>9</th>\n",
       "      <td>False</td>\n",
       "      <td>Cfa</td>\n",
       "      <td>3</td>\n",
       "      <td>0.7085</td>\n",
       "      <td>-0.6488</td>\n",
       "    </tr>\n",
       "    <tr>\n",
       "      <th>10</th>\n",
       "      <td>True</td>\n",
       "      <td>BSh</td>\n",
       "      <td>72</td>\n",
       "      <td>0.0000</td>\n",
       "      <td>6.2082</td>\n",
       "    </tr>\n",
       "    <tr>\n",
       "      <th>11</th>\n",
       "      <td>False</td>\n",
       "      <td>BSk</td>\n",
       "      <td>17</td>\n",
       "      <td>0.3093</td>\n",
       "      <td>0.5155</td>\n",
       "    </tr>\n",
       "    <tr>\n",
       "      <th>12</th>\n",
       "      <td>False</td>\n",
       "      <td>Csb</td>\n",
       "      <td>4</td>\n",
       "      <td>0.1370</td>\n",
       "      <td>1.3355</td>\n",
       "    </tr>\n",
       "    <tr>\n",
       "      <th>13</th>\n",
       "      <td>True</td>\n",
       "      <td>BWh</td>\n",
       "      <td>217</td>\n",
       "      <td>0.0000</td>\n",
       "      <td>5.0320</td>\n",
       "    </tr>\n",
       "    <tr>\n",
       "      <th>14</th>\n",
       "      <td>False</td>\n",
       "      <td>Dsb</td>\n",
       "      <td>3</td>\n",
       "      <td>nan</td>\n",
       "      <td>-15.1367</td>\n",
       "    </tr>\n",
       "    <tr>\n",
       "      <th>15</th>\n",
       "      <td>False</td>\n",
       "      <td>Dsa</td>\n",
       "      <td>2</td>\n",
       "      <td>nan</td>\n",
       "      <td>-0.7758</td>\n",
       "    </tr>\n",
       "  </tbody>\n",
       "</table>\n",
       "</div>"
      ],
      "text/plain": [
       "    95% significant classes  number  p_values   t test\n",
       "0             False     Csa      26    0.1499   1.0677\n",
       "1              True      Aw     108    0.0000   5.4871\n",
       "2             False      Af       6    0.9890  -3.2822\n",
       "3             False     BWk      13    0.1123   1.3319\n",
       "4              True     Cwa      14    0.0218   2.2353\n",
       "5             False     Cwb       7    0.0634   1.8295\n",
       "6             False      As       4    0.8908  -1.7715\n",
       "7             False     Cfb       3    0.2408   0.8573\n",
       "8             False      Am      12    0.7834  -0.8164\n",
       "9             False     Cfa       3    0.7085  -0.6488\n",
       "10             True     BSh      72    0.0000   6.2082\n",
       "11            False     BSk      17    0.3093   0.5155\n",
       "12            False     Csb       4    0.1370   1.3355\n",
       "13             True     BWh     217    0.0000   5.0320\n",
       "14            False     Dsb       3       nan -15.1367\n",
       "15            False     Dsa       2       nan  -0.7758"
      ]
     },
     "execution_count": 158,
     "metadata": {},
     "output_type": "execute_result"
    }
   ],
   "source": [
    "NN_auto"
   ]
  },
  {
   "cell_type": "code",
   "execution_count": null,
   "metadata": {},
   "outputs": [],
   "source": []
  },
  {
   "cell_type": "code",
   "execution_count": 159,
   "metadata": {},
   "outputs": [],
   "source": [
    "item_class = []\n",
    "p_values = []\n",
    "t = []\n",
    "significant = []\n",
    "number = []\n",
    "for item in classes:\n",
    "    if item != \"None\":\n",
    "        \n",
    "        ets_error = ets.loc[stl['climateClasses'] == item][\"meanError\"]\n",
    "        ets_error = removeOutliers(ets_error, 1.5)\n",
    "                \n",
    "        auto_error = auto.loc[auto['climateClasses'] == item][\"meanError\"]\n",
    "        auto_error = removeOutliers(auto_error, 1.5)\n",
    "\n",
    "        t_test, p_value, n_auto, n_ets = studentT_test(auto_error, ets_error) \n",
    "        \n",
    "        item_class.append(item)\n",
    "        t.append(t_test)\n",
    "        number.append(n_ets)\n",
    "        significant.append(p_value < 0.05)      \n",
    "        p_values.append(p_value)"
   ]
  },
  {
   "cell_type": "code",
   "execution_count": 160,
   "metadata": {},
   "outputs": [],
   "source": [
    "ets_auto = pd.DataFrame({\"classes\":item_class,\"t test\":t, \"p_values\":p_values, \"95% significant\": significant, \n",
    "                        \"number\":number})"
   ]
  },
  {
   "cell_type": "code",
   "execution_count": 161,
   "metadata": {},
   "outputs": [
    {
     "data": {
      "text/html": [
       "<div>\n",
       "<style scoped>\n",
       "    .dataframe tbody tr th:only-of-type {\n",
       "        vertical-align: middle;\n",
       "    }\n",
       "\n",
       "    .dataframe tbody tr th {\n",
       "        vertical-align: top;\n",
       "    }\n",
       "\n",
       "    .dataframe thead th {\n",
       "        text-align: right;\n",
       "    }\n",
       "</style>\n",
       "<table border=\"1\" class=\"dataframe\">\n",
       "  <thead>\n",
       "    <tr style=\"text-align: right;\">\n",
       "      <th></th>\n",
       "      <th>95% significant</th>\n",
       "      <th>classes</th>\n",
       "      <th>number</th>\n",
       "      <th>p_values</th>\n",
       "      <th>t test</th>\n",
       "    </tr>\n",
       "  </thead>\n",
       "  <tbody>\n",
       "    <tr>\n",
       "      <th>0</th>\n",
       "      <td>True</td>\n",
       "      <td>Csa</td>\n",
       "      <td>25</td>\n",
       "      <td>0.0045</td>\n",
       "      <td>2.9263</td>\n",
       "    </tr>\n",
       "    <tr>\n",
       "      <th>1</th>\n",
       "      <td>True</td>\n",
       "      <td>Aw</td>\n",
       "      <td>106</td>\n",
       "      <td>0.0000</td>\n",
       "      <td>8.9082</td>\n",
       "    </tr>\n",
       "    <tr>\n",
       "      <th>2</th>\n",
       "      <td>False</td>\n",
       "      <td>Af</td>\n",
       "      <td>6</td>\n",
       "      <td>0.0827</td>\n",
       "      <td>1.6231</td>\n",
       "    </tr>\n",
       "    <tr>\n",
       "      <th>3</th>\n",
       "      <td>True</td>\n",
       "      <td>BWk</td>\n",
       "      <td>12</td>\n",
       "      <td>0.0401</td>\n",
       "      <td>2.0440</td>\n",
       "    </tr>\n",
       "    <tr>\n",
       "      <th>4</th>\n",
       "      <td>True</td>\n",
       "      <td>Cwa</td>\n",
       "      <td>13</td>\n",
       "      <td>0.0062</td>\n",
       "      <td>2.9407</td>\n",
       "    </tr>\n",
       "    <tr>\n",
       "      <th>5</th>\n",
       "      <td>True</td>\n",
       "      <td>Cwb</td>\n",
       "      <td>6</td>\n",
       "      <td>0.0081</td>\n",
       "      <td>3.5565</td>\n",
       "    </tr>\n",
       "    <tr>\n",
       "      <th>6</th>\n",
       "      <td>True</td>\n",
       "      <td>As</td>\n",
       "      <td>4</td>\n",
       "      <td>0.0072</td>\n",
       "      <td>8.2602</td>\n",
       "    </tr>\n",
       "    <tr>\n",
       "      <th>7</th>\n",
       "      <td>False</td>\n",
       "      <td>Cfb</td>\n",
       "      <td>3</td>\n",
       "      <td>0.1322</td>\n",
       "      <td>1.5360</td>\n",
       "    </tr>\n",
       "    <tr>\n",
       "      <th>8</th>\n",
       "      <td>False</td>\n",
       "      <td>Am</td>\n",
       "      <td>12</td>\n",
       "      <td>0.1927</td>\n",
       "      <td>0.9077</td>\n",
       "    </tr>\n",
       "    <tr>\n",
       "      <th>9</th>\n",
       "      <td>False</td>\n",
       "      <td>Cfa</td>\n",
       "      <td>3</td>\n",
       "      <td>0.2837</td>\n",
       "      <td>0.6787</td>\n",
       "    </tr>\n",
       "    <tr>\n",
       "      <th>10</th>\n",
       "      <td>True</td>\n",
       "      <td>BSh</td>\n",
       "      <td>63</td>\n",
       "      <td>0.0000</td>\n",
       "      <td>6.7885</td>\n",
       "    </tr>\n",
       "    <tr>\n",
       "      <th>11</th>\n",
       "      <td>True</td>\n",
       "      <td>BSk</td>\n",
       "      <td>17</td>\n",
       "      <td>0.0125</td>\n",
       "      <td>2.6841</td>\n",
       "    </tr>\n",
       "    <tr>\n",
       "      <th>12</th>\n",
       "      <td>False</td>\n",
       "      <td>Csb</td>\n",
       "      <td>3</td>\n",
       "      <td>0.0965</td>\n",
       "      <td>1.9331</td>\n",
       "    </tr>\n",
       "    <tr>\n",
       "      <th>13</th>\n",
       "      <td>True</td>\n",
       "      <td>BWh</td>\n",
       "      <td>205</td>\n",
       "      <td>0.0000</td>\n",
       "      <td>5.9177</td>\n",
       "    </tr>\n",
       "    <tr>\n",
       "      <th>14</th>\n",
       "      <td>False</td>\n",
       "      <td>Dsb</td>\n",
       "      <td>4</td>\n",
       "      <td>nan</td>\n",
       "      <td>12.7863</td>\n",
       "    </tr>\n",
       "    <tr>\n",
       "      <th>15</th>\n",
       "      <td>False</td>\n",
       "      <td>Dsa</td>\n",
       "      <td>2</td>\n",
       "      <td>nan</td>\n",
       "      <td>5.0387</td>\n",
       "    </tr>\n",
       "  </tbody>\n",
       "</table>\n",
       "</div>"
      ],
      "text/plain": [
       "    95% significant classes  number  p_values  t test\n",
       "0              True     Csa      25    0.0045  2.9263\n",
       "1              True      Aw     106    0.0000  8.9082\n",
       "2             False      Af       6    0.0827  1.6231\n",
       "3              True     BWk      12    0.0401  2.0440\n",
       "4              True     Cwa      13    0.0062  2.9407\n",
       "5              True     Cwb       6    0.0081  3.5565\n",
       "6              True      As       4    0.0072  8.2602\n",
       "7             False     Cfb       3    0.1322  1.5360\n",
       "8             False      Am      12    0.1927  0.9077\n",
       "9             False     Cfa       3    0.2837  0.6787\n",
       "10             True     BSh      63    0.0000  6.7885\n",
       "11             True     BSk      17    0.0125  2.6841\n",
       "12            False     Csb       3    0.0965  1.9331\n",
       "13             True     BWh     205    0.0000  5.9177\n",
       "14            False     Dsb       4       nan 12.7863\n",
       "15            False     Dsa       2       nan  5.0387"
      ]
     },
     "execution_count": 161,
     "metadata": {},
     "output_type": "execute_result"
    }
   ],
   "source": [
    "ets_auto"
   ]
  },
  {
   "cell_type": "code",
   "execution_count": null,
   "metadata": {},
   "outputs": [],
   "source": []
  },
  {
   "cell_type": "code",
   "execution_count": 165,
   "metadata": {},
   "outputs": [],
   "source": [
    "item_class = []\n",
    "p_values = []\n",
    "t = []\n",
    "significant = []\n",
    "number = []\n",
    "for item in classes:\n",
    "    if item != \"None\":\n",
    "        \n",
    "        ets_error = ets.loc[stl['climateClasses'] == item][\"meanError\"]\n",
    "        ets_error = removeOutliers(ets_error, 1.5)\n",
    "                \n",
    "        NN_error = NN.loc[NN['climateClasses'] == item][\"meanError\"]\n",
    "        NN_error = removeOutliers(NN_error, 1.5)\n",
    "\n",
    "        t_test, p_value, n_NN, n_ets = studentT_test(NN_error, ets_error) \n",
    "        \n",
    "        item_class.append(item)\n",
    "        t.append(t_test)\n",
    "        number.append(n_ets)\n",
    "        significant.append(p_value < 0.05)      \n",
    "        p_values.append(p_value)"
   ]
  },
  {
   "cell_type": "code",
   "execution_count": 166,
   "metadata": {},
   "outputs": [],
   "source": [
    "ets_NN = pd.DataFrame({\"classes\":item_class,\"t test\":t, \"p_values\":p_values, \"95% significant\": significant, \n",
    "                        \"number\":number})"
   ]
  },
  {
   "cell_type": "code",
   "execution_count": 167,
   "metadata": {},
   "outputs": [
    {
     "data": {
      "text/html": [
       "<div>\n",
       "<style scoped>\n",
       "    .dataframe tbody tr th:only-of-type {\n",
       "        vertical-align: middle;\n",
       "    }\n",
       "\n",
       "    .dataframe tbody tr th {\n",
       "        vertical-align: top;\n",
       "    }\n",
       "\n",
       "    .dataframe thead th {\n",
       "        text-align: right;\n",
       "    }\n",
       "</style>\n",
       "<table border=\"1\" class=\"dataframe\">\n",
       "  <thead>\n",
       "    <tr style=\"text-align: right;\">\n",
       "      <th></th>\n",
       "      <th>95% significant</th>\n",
       "      <th>classes</th>\n",
       "      <th>number</th>\n",
       "      <th>p_values</th>\n",
       "      <th>t test</th>\n",
       "    </tr>\n",
       "  </thead>\n",
       "  <tbody>\n",
       "    <tr>\n",
       "      <th>0</th>\n",
       "      <td>True</td>\n",
       "      <td>Csa</td>\n",
       "      <td>25</td>\n",
       "      <td>0.0004</td>\n",
       "      <td>3.8449</td>\n",
       "    </tr>\n",
       "    <tr>\n",
       "      <th>1</th>\n",
       "      <td>True</td>\n",
       "      <td>Aw</td>\n",
       "      <td>106</td>\n",
       "      <td>0.0000</td>\n",
       "      <td>10.1217</td>\n",
       "    </tr>\n",
       "    <tr>\n",
       "      <th>2</th>\n",
       "      <td>True</td>\n",
       "      <td>Af</td>\n",
       "      <td>6</td>\n",
       "      <td>0.0024</td>\n",
       "      <td>4.8069</td>\n",
       "    </tr>\n",
       "    <tr>\n",
       "      <th>3</th>\n",
       "      <td>False</td>\n",
       "      <td>BWk</td>\n",
       "      <td>12</td>\n",
       "      <td>0.0815</td>\n",
       "      <td>1.4953</td>\n",
       "    </tr>\n",
       "    <tr>\n",
       "      <th>4</th>\n",
       "      <td>True</td>\n",
       "      <td>Cwa</td>\n",
       "      <td>13</td>\n",
       "      <td>0.0000</td>\n",
       "      <td>10.9843</td>\n",
       "    </tr>\n",
       "    <tr>\n",
       "      <th>5</th>\n",
       "      <td>True</td>\n",
       "      <td>Cwb</td>\n",
       "      <td>6</td>\n",
       "      <td>0.0018</td>\n",
       "      <td>5.1558</td>\n",
       "    </tr>\n",
       "    <tr>\n",
       "      <th>6</th>\n",
       "      <td>True</td>\n",
       "      <td>As</td>\n",
       "      <td>4</td>\n",
       "      <td>0.0081</td>\n",
       "      <td>4.9060</td>\n",
       "    </tr>\n",
       "    <tr>\n",
       "      <th>7</th>\n",
       "      <td>False</td>\n",
       "      <td>Cfb</td>\n",
       "      <td>3</td>\n",
       "      <td>0.1144</td>\n",
       "      <td>1.7129</td>\n",
       "    </tr>\n",
       "    <tr>\n",
       "      <th>8</th>\n",
       "      <td>True</td>\n",
       "      <td>Am</td>\n",
       "      <td>12</td>\n",
       "      <td>0.0352</td>\n",
       "      <td>2.0026</td>\n",
       "    </tr>\n",
       "    <tr>\n",
       "      <th>9</th>\n",
       "      <td>False</td>\n",
       "      <td>Cfa</td>\n",
       "      <td>3</td>\n",
       "      <td>0.1698</td>\n",
       "      <td>1.2438</td>\n",
       "    </tr>\n",
       "    <tr>\n",
       "      <th>10</th>\n",
       "      <td>True</td>\n",
       "      <td>BSh</td>\n",
       "      <td>63</td>\n",
       "      <td>0.0000</td>\n",
       "      <td>4.9013</td>\n",
       "    </tr>\n",
       "    <tr>\n",
       "      <th>11</th>\n",
       "      <td>True</td>\n",
       "      <td>BSk</td>\n",
       "      <td>17</td>\n",
       "      <td>0.0094</td>\n",
       "      <td>2.6140</td>\n",
       "    </tr>\n",
       "    <tr>\n",
       "      <th>12</th>\n",
       "      <td>True</td>\n",
       "      <td>Csb</td>\n",
       "      <td>3</td>\n",
       "      <td>0.0413</td>\n",
       "      <td>3.2583</td>\n",
       "    </tr>\n",
       "    <tr>\n",
       "      <th>13</th>\n",
       "      <td>True</td>\n",
       "      <td>BWh</td>\n",
       "      <td>205</td>\n",
       "      <td>0.0000</td>\n",
       "      <td>4.1076</td>\n",
       "    </tr>\n",
       "    <tr>\n",
       "      <th>14</th>\n",
       "      <td>True</td>\n",
       "      <td>Dsb</td>\n",
       "      <td>4</td>\n",
       "      <td>0.0013</td>\n",
       "      <td>19.7568</td>\n",
       "    </tr>\n",
       "    <tr>\n",
       "      <th>15</th>\n",
       "      <td>False</td>\n",
       "      <td>Dsa</td>\n",
       "      <td>2</td>\n",
       "      <td>0.0800</td>\n",
       "      <td>3.8966</td>\n",
       "    </tr>\n",
       "  </tbody>\n",
       "</table>\n",
       "</div>"
      ],
      "text/plain": [
       "    95% significant classes  number  p_values  t test\n",
       "0              True     Csa      25    0.0004  3.8449\n",
       "1              True      Aw     106    0.0000 10.1217\n",
       "2              True      Af       6    0.0024  4.8069\n",
       "3             False     BWk      12    0.0815  1.4953\n",
       "4              True     Cwa      13    0.0000 10.9843\n",
       "5              True     Cwb       6    0.0018  5.1558\n",
       "6              True      As       4    0.0081  4.9060\n",
       "7             False     Cfb       3    0.1144  1.7129\n",
       "8              True      Am      12    0.0352  2.0026\n",
       "9             False     Cfa       3    0.1698  1.2438\n",
       "10             True     BSh      63    0.0000  4.9013\n",
       "11             True     BSk      17    0.0094  2.6140\n",
       "12             True     Csb       3    0.0413  3.2583\n",
       "13             True     BWh     205    0.0000  4.1076\n",
       "14             True     Dsb       4    0.0013 19.7568\n",
       "15            False     Dsa       2    0.0800  3.8966"
      ]
     },
     "execution_count": 167,
     "metadata": {},
     "output_type": "execute_result"
    }
   ],
   "source": [
    "ets_NN"
   ]
  },
  {
   "cell_type": "code",
   "execution_count": null,
   "metadata": {},
   "outputs": [],
   "source": []
  },
  {
   "cell_type": "code",
   "execution_count": null,
   "metadata": {},
   "outputs": [],
   "source": []
  },
  {
   "cell_type": "code",
   "execution_count": null,
   "metadata": {},
   "outputs": [],
   "source": []
  },
  {
   "cell_type": "code",
   "execution_count": null,
   "metadata": {},
   "outputs": [],
   "source": []
  },
  {
   "cell_type": "code",
   "execution_count": null,
   "metadata": {},
   "outputs": [],
   "source": []
  },
  {
   "cell_type": "code",
   "execution_count": 48,
   "metadata": {},
   "outputs": [],
   "source": [
    "item_class = []\n",
    "p_values = []\n",
    "t = []\n",
    "\n",
    "significant = []\n",
    "number = []\n",
    "for item in classes:\n",
    "    if item != \"None\":\n",
    "        #ets_error = stl.loc[stl['climateClasses'] == item][\"meanErrorEts\"]\n",
    "        #ets_error = removeOutliers(ets_error, 1.5)\n",
    "        \n",
    "        ets_error = ets.loc[stl['climateClasses'] == item][\"meanError\"]\n",
    "        ets_error = removeOutliers(stl_error, 1.5)\n",
    "        n_ets = len(ets_error)\n",
    "        ets_mean = np.mean(ets_error)\n",
    "        ets_var = np.var(ets_error)\n",
    "         \n",
    "        stl_error = stl.loc[stl['climateClasses'] == item][\"meanError\"]\n",
    "        stl_error = removeOutliers(stl_error, 1.5)\n",
    "        n_stl = len(stl_error)\n",
    "        stl_mean = np.mean(stl_error)\n",
    "        stl_var = np.var(stl_error)\n",
    "        \n",
    "        auto_error = auto.loc[auto['climateClasses'] == item][\"meanError\"]\n",
    "        auto_error = removeOutliers(auto_error, 1.5)\n",
    "        n_auto = len(auto_error)\n",
    "        auto_mean = np.mean(auto_error)\n",
    "        auto_var = np.var(auto_error)\n",
    "        \n",
    "        NN_error = NN.loc[NN['climateClasses'] == item][\"meanError\"]\n",
    "        NN_error = removeOutliers(NN_error, 1.5)\n",
    "        n_NN = len(NN_error)\n",
    "        NN_mean = np.mean(NN_error)\n",
    "        NN_var = np.var(NN_error)\n",
    "        \n",
    "        d_f = n_NN + n_auto - 2\n",
    "        \n",
    "        item_class.append(item)\n",
    "        t_test = (auto_mean - NN_mean) /math.sqrt(NN_var/n_NN + auto_var/n_auto) \n",
    "        \n",
    "        #t.append(stats.ttest_ind(auto_error,stl_error,equal_var = False)[0])\n",
    "        \n",
    "        t.append(t_test)\n",
    "        #t_border.append(stats.t.cdf(t_test, d_f))\n",
    "        #p_values.append(stats.ttest_ind(auto_error,stl_error,equal_var = False)[1])\n",
    "        number.append(n_NN)\n",
    "        p_value = 1 - stats.t.cdf(t_test, d_f)\n",
    "        significant.append(p_value < 0.05)      \n",
    "        p_values.append(p_value)"
   ]
  },
  {
   "cell_type": "code",
   "execution_count": 91,
   "metadata": {},
   "outputs": [],
   "source": []
  },
  {
   "cell_type": "code",
   "execution_count": 92,
   "metadata": {},
   "outputs": [
    {
     "data": {
      "text/html": [
       "<div>\n",
       "<style scoped>\n",
       "    .dataframe tbody tr th:only-of-type {\n",
       "        vertical-align: middle;\n",
       "    }\n",
       "\n",
       "    .dataframe tbody tr th {\n",
       "        vertical-align: top;\n",
       "    }\n",
       "\n",
       "    .dataframe thead th {\n",
       "        text-align: right;\n",
       "    }\n",
       "</style>\n",
       "<table border=\"1\" class=\"dataframe\">\n",
       "  <thead>\n",
       "    <tr style=\"text-align: right;\">\n",
       "      <th></th>\n",
       "      <th>95% significant</th>\n",
       "      <th>classes</th>\n",
       "      <th>number</th>\n",
       "      <th>p_values</th>\n",
       "      <th>t test</th>\n",
       "    </tr>\n",
       "  </thead>\n",
       "  <tbody>\n",
       "    <tr>\n",
       "      <th>0</th>\n",
       "      <td>False</td>\n",
       "      <td>Csa</td>\n",
       "      <td>19</td>\n",
       "      <td>0.1499</td>\n",
       "      <td>1.0677</td>\n",
       "    </tr>\n",
       "    <tr>\n",
       "      <th>1</th>\n",
       "      <td>True</td>\n",
       "      <td>Aw</td>\n",
       "      <td>96</td>\n",
       "      <td>0.0000</td>\n",
       "      <td>5.4871</td>\n",
       "    </tr>\n",
       "    <tr>\n",
       "      <th>2</th>\n",
       "      <td>False</td>\n",
       "      <td>Af</td>\n",
       "      <td>6</td>\n",
       "      <td>0.9890</td>\n",
       "      <td>-3.2822</td>\n",
       "    </tr>\n",
       "    <tr>\n",
       "      <th>3</th>\n",
       "      <td>False</td>\n",
       "      <td>BWk</td>\n",
       "      <td>8</td>\n",
       "      <td>0.1123</td>\n",
       "      <td>1.3319</td>\n",
       "    </tr>\n",
       "    <tr>\n",
       "      <th>4</th>\n",
       "      <td>True</td>\n",
       "      <td>Cwa</td>\n",
       "      <td>14</td>\n",
       "      <td>0.0218</td>\n",
       "      <td>2.2353</td>\n",
       "    </tr>\n",
       "    <tr>\n",
       "      <th>5</th>\n",
       "      <td>False</td>\n",
       "      <td>Cwb</td>\n",
       "      <td>6</td>\n",
       "      <td>0.0634</td>\n",
       "      <td>1.8295</td>\n",
       "    </tr>\n",
       "    <tr>\n",
       "      <th>6</th>\n",
       "      <td>False</td>\n",
       "      <td>As</td>\n",
       "      <td>3</td>\n",
       "      <td>0.8908</td>\n",
       "      <td>-1.7715</td>\n",
       "    </tr>\n",
       "    <tr>\n",
       "      <th>7</th>\n",
       "      <td>False</td>\n",
       "      <td>Cfb</td>\n",
       "      <td>4</td>\n",
       "      <td>0.2408</td>\n",
       "      <td>0.8573</td>\n",
       "    </tr>\n",
       "    <tr>\n",
       "      <th>8</th>\n",
       "      <td>False</td>\n",
       "      <td>Am</td>\n",
       "      <td>11</td>\n",
       "      <td>0.7834</td>\n",
       "      <td>-0.8164</td>\n",
       "    </tr>\n",
       "    <tr>\n",
       "      <th>9</th>\n",
       "      <td>False</td>\n",
       "      <td>Cfa</td>\n",
       "      <td>3</td>\n",
       "      <td>0.7085</td>\n",
       "      <td>-0.6488</td>\n",
       "    </tr>\n",
       "    <tr>\n",
       "      <th>10</th>\n",
       "      <td>True</td>\n",
       "      <td>BSh</td>\n",
       "      <td>56</td>\n",
       "      <td>0.0000</td>\n",
       "      <td>6.2082</td>\n",
       "    </tr>\n",
       "    <tr>\n",
       "      <th>11</th>\n",
       "      <td>False</td>\n",
       "      <td>BSk</td>\n",
       "      <td>10</td>\n",
       "      <td>0.3093</td>\n",
       "      <td>0.5155</td>\n",
       "    </tr>\n",
       "    <tr>\n",
       "      <th>12</th>\n",
       "      <td>False</td>\n",
       "      <td>Csb</td>\n",
       "      <td>4</td>\n",
       "      <td>0.1370</td>\n",
       "      <td>1.3355</td>\n",
       "    </tr>\n",
       "    <tr>\n",
       "      <th>13</th>\n",
       "      <td>True</td>\n",
       "      <td>BWh</td>\n",
       "      <td>145</td>\n",
       "      <td>0.0000</td>\n",
       "      <td>5.0320</td>\n",
       "    </tr>\n",
       "    <tr>\n",
       "      <th>14</th>\n",
       "      <td>False</td>\n",
       "      <td>Dsb</td>\n",
       "      <td>1</td>\n",
       "      <td>nan</td>\n",
       "      <td>-15.1367</td>\n",
       "    </tr>\n",
       "    <tr>\n",
       "      <th>15</th>\n",
       "      <td>False</td>\n",
       "      <td>Dsa</td>\n",
       "      <td>1</td>\n",
       "      <td>nan</td>\n",
       "      <td>-0.7758</td>\n",
       "    </tr>\n",
       "  </tbody>\n",
       "</table>\n",
       "</div>"
      ],
      "text/plain": [
       "    95% significant classes  number  p_values   t test\n",
       "0             False     Csa      19    0.1499   1.0677\n",
       "1              True      Aw      96    0.0000   5.4871\n",
       "2             False      Af       6    0.9890  -3.2822\n",
       "3             False     BWk       8    0.1123   1.3319\n",
       "4              True     Cwa      14    0.0218   2.2353\n",
       "5             False     Cwb       6    0.0634   1.8295\n",
       "6             False      As       3    0.8908  -1.7715\n",
       "7             False     Cfb       4    0.2408   0.8573\n",
       "8             False      Am      11    0.7834  -0.8164\n",
       "9             False     Cfa       3    0.7085  -0.6488\n",
       "10             True     BSh      56    0.0000   6.2082\n",
       "11            False     BSk      10    0.3093   0.5155\n",
       "12            False     Csb       4    0.1370   1.3355\n",
       "13             True     BWh     145    0.0000   5.0320\n",
       "14            False     Dsb       1       nan -15.1367\n",
       "15            False     Dsa       1       nan  -0.7758"
      ]
     },
     "execution_count": 92,
     "metadata": {},
     "output_type": "execute_result"
    }
   ],
   "source": [
    "NN_auto"
   ]
  },
  {
   "cell_type": "code",
   "execution_count": null,
   "metadata": {},
   "outputs": [],
   "source": []
  },
  {
   "cell_type": "code",
   "execution_count": null,
   "metadata": {},
   "outputs": [],
   "source": [
    "item_class = []\n",
    "p_values = []\n",
    "t = []\n",
    "t_border = []\n",
    "significant = []\n",
    "number = []\n",
    "for item in classes:\n",
    "    if item != \"None\":\n",
    "        #ets_error = stl.loc[stl['climateClasses'] == item][\"meanErrorEts\"]\n",
    "        #ets_error = removeOutliers(ets_error, 1.5)\n",
    "        \n",
    "        \n",
    "        stl_error = stl.loc[stl['climateClasses'] == item][\"meanError\"]\n",
    "        stl_error = removeOutliers(stl_error, 1.5)\n",
    "        n_stl = len(stl_error)\n",
    "        stl_mean = np.mean(stl_error)\n",
    "        stl_var = np.var(stl_error)\n",
    "        \n",
    "        auto_error = auto.loc[auto['climateClasses'] == item][\"meanError\"]\n",
    "        auto_error = removeOutliers(auto_error, 1.5)\n",
    "        n_auto = len(auto_error)\n",
    "        auto_mean = np.mean(auto_error)\n",
    "        auto_var = np.var(auto_error)\n",
    "        \n",
    "        NN_error = NN.loc[NN['climateClasses'] == item][\"meanError\"]\n",
    "        NN_error = removeOutliers(NN_error, 1.5)\n",
    "        n_NN = len(NN_error)\n",
    "        NN_mean = np.mean(NN_error)\n",
    "        NN_var = np.var(NN_error)\n",
    "        \n",
    "        d_f = n_NN + n_auto - 2\n",
    "        \n",
    "        item_class.append(item)\n",
    "        t_test = (auto_mean - NN_mean) /math.sqrt(NN_var/n_NN + auto_var/n_auto) \n",
    "        \n",
    "        #t.append(stats.ttest_ind(auto_error,stl_error,equal_var = False)[0])\n",
    "        \n",
    "        t.append(t_test)\n",
    "        #t_border.append(stats.t.cdf(t_test, d_f))\n",
    "        #p_values.append(stats.ttest_ind(auto_error,stl_error,equal_var = False)[1])\n",
    "        number.append(n_NN)\n",
    "        p_value = 1 - stats.t.cdf(t_test, d_f)\n",
    "        significant.append(p_value < 0.05)      \n",
    "        p_values.append(p_value)"
   ]
  },
  {
   "cell_type": "code",
   "execution_count": null,
   "metadata": {},
   "outputs": [],
   "source": []
  },
  {
   "cell_type": "code",
   "execution_count": null,
   "metadata": {},
   "outputs": [],
   "source": []
  },
  {
   "cell_type": "code",
   "execution_count": null,
   "metadata": {},
   "outputs": [],
   "source": []
  },
  {
   "cell_type": "code",
   "execution_count": null,
   "metadata": {},
   "outputs": [],
   "source": []
  },
  {
   "cell_type": "code",
   "execution_count": null,
   "metadata": {},
   "outputs": [],
   "source": []
  },
  {
   "cell_type": "code",
   "execution_count": null,
   "metadata": {},
   "outputs": [],
   "source": []
  },
  {
   "cell_type": "code",
   "execution_count": null,
   "metadata": {},
   "outputs": [],
   "source": []
  },
  {
   "cell_type": "code",
   "execution_count": null,
   "metadata": {},
   "outputs": [],
   "source": []
  },
  {
   "cell_type": "code",
   "execution_count": null,
   "metadata": {},
   "outputs": [],
   "source": []
  },
  {
   "cell_type": "code",
   "execution_count": 31,
   "metadata": {},
   "outputs": [],
   "source": [
    "stl_error = stl.loc[stl['climateClasses'] == \"Am\"][\"meanError\"]"
   ]
  },
  {
   "cell_type": "code",
   "execution_count": 32,
   "metadata": {},
   "outputs": [
    {
     "data": {
      "text/plain": [
       "34    65.3610\n",
       "50    58.4328\n",
       "154   48.2470\n",
       "155   90.2665\n",
       "196   43.2032\n",
       "279   27.5514\n",
       "309   26.3790\n",
       "340   28.4047\n",
       "368   24.3218\n",
       "398   29.6515\n",
       "427   39.3172\n",
       "575   62.0515\n",
       "Name: meanError, dtype: float64"
      ]
     },
     "execution_count": 32,
     "metadata": {},
     "output_type": "execute_result"
    }
   ],
   "source": [
    "stl_error"
   ]
  },
  {
   "cell_type": "code",
   "execution_count": 65,
   "metadata": {},
   "outputs": [
    {
     "data": {
      "text/plain": [
       "1    101.599764\n",
       "1     70.235909\n",
       "1     68.589554\n",
       "1    224.611617\n",
       "1     49.421052\n",
       "Name: meanError, dtype: float64"
      ]
     },
     "execution_count": 65,
     "metadata": {},
     "output_type": "execute_result"
    }
   ],
   "source": [
    "auto.loc[auto['climateClasses'] == \"Am\"][\"meanError\"]"
   ]
  },
  {
   "cell_type": "code",
   "execution_count": 67,
   "metadata": {},
   "outputs": [],
   "source": [
    "auto_error = removeOutliers(auto_error, 1.5)"
   ]
  },
  {
   "cell_type": "code",
   "execution_count": 33,
   "metadata": {},
   "outputs": [
    {
     "data": {
      "text/plain": [
       "[101.599763992047,\n",
       " 70.23590938606479,\n",
       " 68.5895538230056,\n",
       " 49.4210524407475,\n",
       " 31.691962258554803,\n",
       " 29.681908461971396,\n",
       " 33.1642720282376,\n",
       " 26.592986626293698,\n",
       " 34.240486210224105,\n",
       " 42.656269980215505]"
      ]
     },
     "execution_count": 33,
     "metadata": {},
     "output_type": "execute_result"
    }
   ],
   "source": [
    "auto_error"
   ]
  },
  {
   "cell_type": "code",
   "execution_count": 15,
   "metadata": {},
   "outputs": [],
   "source": []
  },
  {
   "cell_type": "code",
   "execution_count": 16,
   "metadata": {},
   "outputs": [
    {
     "data": {
      "text/plain": [
       "[0.1458087227352236,\n",
       " 6.077106107227337e-08,\n",
       " 0.9958710718299387,\n",
       " 0.09933252955196414,\n",
       " 0.017103175219687405,\n",
       " 0.047268468497368876,\n",
       " 0.9316609545389493,\n",
       " 0.21521518835867637,\n",
       " 0.7882783505544153,\n",
       " 0.7240763152864467,\n",
       " 3.5690856936554383e-09,\n",
       " 0.30535174137682297,\n",
       " 0.11507730418610662,\n",
       " 3.8397174062509976e-07,\n",
       " 0.9978319312419707,\n",
       " 0.710026065770232]"
      ]
     },
     "execution_count": 16,
     "metadata": {},
     "output_type": "execute_result"
    }
   ],
   "source": [
    "p_values"
   ]
  },
  {
   "cell_type": "code",
   "execution_count": 17,
   "metadata": {},
   "outputs": [],
   "source": []
  },
  {
   "cell_type": "code",
   "execution_count": 18,
   "metadata": {},
   "outputs": [],
   "source": []
  },
  {
   "cell_type": "code",
   "execution_count": 19,
   "metadata": {},
   "outputs": [
    {
     "data": {
      "text/html": [
       "<div>\n",
       "<style scoped>\n",
       "    .dataframe tbody tr th:only-of-type {\n",
       "        vertical-align: middle;\n",
       "    }\n",
       "\n",
       "    .dataframe tbody tr th {\n",
       "        vertical-align: top;\n",
       "    }\n",
       "\n",
       "    .dataframe thead th {\n",
       "        text-align: right;\n",
       "    }\n",
       "</style>\n",
       "<table border=\"1\" class=\"dataframe\">\n",
       "  <thead>\n",
       "    <tr style=\"text-align: right;\">\n",
       "      <th></th>\n",
       "      <th>classes</th>\n",
       "      <th>p_values</th>\n",
       "      <th>t test</th>\n",
       "    </tr>\n",
       "  </thead>\n",
       "  <tbody>\n",
       "    <tr>\n",
       "      <th>0</th>\n",
       "      <td>Csa</td>\n",
       "      <td>0.1458</td>\n",
       "      <td>1.0677</td>\n",
       "    </tr>\n",
       "    <tr>\n",
       "      <th>1</th>\n",
       "      <td>Aw</td>\n",
       "      <td>0.0000</td>\n",
       "      <td>5.4871</td>\n",
       "    </tr>\n",
       "    <tr>\n",
       "      <th>2</th>\n",
       "      <td>Af</td>\n",
       "      <td>0.9959</td>\n",
       "      <td>-3.2822</td>\n",
       "    </tr>\n",
       "    <tr>\n",
       "      <th>3</th>\n",
       "      <td>BWk</td>\n",
       "      <td>0.0993</td>\n",
       "      <td>1.3319</td>\n",
       "    </tr>\n",
       "    <tr>\n",
       "      <th>4</th>\n",
       "      <td>Cwa</td>\n",
       "      <td>0.0171</td>\n",
       "      <td>2.2353</td>\n",
       "    </tr>\n",
       "    <tr>\n",
       "      <th>5</th>\n",
       "      <td>Cwb</td>\n",
       "      <td>0.0473</td>\n",
       "      <td>1.8295</td>\n",
       "    </tr>\n",
       "    <tr>\n",
       "      <th>6</th>\n",
       "      <td>As</td>\n",
       "      <td>0.9317</td>\n",
       "      <td>-1.7715</td>\n",
       "    </tr>\n",
       "    <tr>\n",
       "      <th>7</th>\n",
       "      <td>Cfb</td>\n",
       "      <td>0.2152</td>\n",
       "      <td>0.8573</td>\n",
       "    </tr>\n",
       "    <tr>\n",
       "      <th>8</th>\n",
       "      <td>Am</td>\n",
       "      <td>0.7883</td>\n",
       "      <td>-0.8164</td>\n",
       "    </tr>\n",
       "    <tr>\n",
       "      <th>9</th>\n",
       "      <td>Cfa</td>\n",
       "      <td>0.7241</td>\n",
       "      <td>-0.6488</td>\n",
       "    </tr>\n",
       "    <tr>\n",
       "      <th>10</th>\n",
       "      <td>BSh</td>\n",
       "      <td>0.0000</td>\n",
       "      <td>6.2082</td>\n",
       "    </tr>\n",
       "    <tr>\n",
       "      <th>11</th>\n",
       "      <td>BSk</td>\n",
       "      <td>0.3054</td>\n",
       "      <td>0.5155</td>\n",
       "    </tr>\n",
       "    <tr>\n",
       "      <th>12</th>\n",
       "      <td>Csb</td>\n",
       "      <td>0.1151</td>\n",
       "      <td>1.3355</td>\n",
       "    </tr>\n",
       "    <tr>\n",
       "      <th>13</th>\n",
       "      <td>BWh</td>\n",
       "      <td>0.0000</td>\n",
       "      <td>5.0320</td>\n",
       "    </tr>\n",
       "    <tr>\n",
       "      <th>14</th>\n",
       "      <td>Dsb</td>\n",
       "      <td>0.9978</td>\n",
       "      <td>-15.1367</td>\n",
       "    </tr>\n",
       "    <tr>\n",
       "      <th>15</th>\n",
       "      <td>Dsa</td>\n",
       "      <td>0.7100</td>\n",
       "      <td>-0.7758</td>\n",
       "    </tr>\n",
       "  </tbody>\n",
       "</table>\n",
       "</div>"
      ],
      "text/plain": [
       "   classes  p_values   t test\n",
       "0      Csa    0.1458   1.0677\n",
       "1       Aw    0.0000   5.4871\n",
       "2       Af    0.9959  -3.2822\n",
       "3      BWk    0.0993   1.3319\n",
       "4      Cwa    0.0171   2.2353\n",
       "5      Cwb    0.0473   1.8295\n",
       "6       As    0.9317  -1.7715\n",
       "7      Cfb    0.2152   0.8573\n",
       "8       Am    0.7883  -0.8164\n",
       "9      Cfa    0.7241  -0.6488\n",
       "10     BSh    0.0000   6.2082\n",
       "11     BSk    0.3054   0.5155\n",
       "12     Csb    0.1151   1.3355\n",
       "13     BWh    0.0000   5.0320\n",
       "14     Dsb    0.9978 -15.1367\n",
       "15     Dsa    0.7100  -0.7758"
      ]
     },
     "execution_count": 19,
     "metadata": {},
     "output_type": "execute_result"
    }
   ],
   "source": [
    "df"
   ]
  },
  {
   "cell_type": "code",
   "execution_count": 11,
   "metadata": {},
   "outputs": [],
   "source": [
    "ets_error = stl.loc[stl['climateClasses'] == \"Csa\"][\"meanErrorEts\"]\n",
    "ets_error = removeOutliers(ets_error, 1.5)\n",
    "stl_error = stl.loc[stl['climateClasses'] == \"Csa\"][\"meanError\"]\n",
    "stl_error = removeOutliers(stl_error, 1.5)\n",
    "#diff = ets_error - stl_error"
   ]
  },
  {
   "cell_type": "code",
   "execution_count": 16,
   "metadata": {},
   "outputs": [
    {
     "data": {
      "text/plain": [
       "0.5150377883244484"
      ]
     },
     "execution_count": 16,
     "metadata": {},
     "output_type": "execute_result"
    }
   ],
   "source": [
    "stats.ttest_ind(ets_error,stl_error)[1]"
   ]
  },
  {
   "cell_type": "code",
   "execution_count": 12,
   "metadata": {},
   "outputs": [
    {
     "data": {
      "text/plain": [
       "Ttest_indResult(statistic=-0.6584817233714783, pvalue=0.5133963619646056)"
      ]
     },
     "execution_count": 12,
     "metadata": {},
     "output_type": "execute_result"
    }
   ],
   "source": [
    "stats.ttest_ind(ets_error,stl_error, equal_var=False)"
   ]
  },
  {
   "cell_type": "code",
   "execution_count": 111,
   "metadata": {},
   "outputs": [],
   "source": [
    "#diff[(np.abs(stats.zscore(diff)) < 3).all(axis=0)]"
   ]
  },
  {
   "cell_type": "code",
   "execution_count": 169,
   "metadata": {},
   "outputs": [],
   "source": [
    "diff = removeOutliers(diff.values, 1.5)"
   ]
  },
  {
   "cell_type": "code",
   "execution_count": 170,
   "metadata": {},
   "outputs": [],
   "source": [
    "n = len(diff)"
   ]
  },
  {
   "cell_type": "code",
   "execution_count": 171,
   "metadata": {},
   "outputs": [],
   "source": [
    "avg = np.mean(diff)"
   ]
  },
  {
   "cell_type": "code",
   "execution_count": 172,
   "metadata": {},
   "outputs": [
    {
     "data": {
      "text/plain": [
       "-0.09613237381726929"
      ]
     },
     "execution_count": 172,
     "metadata": {},
     "output_type": "execute_result"
    }
   ],
   "source": [
    "avg"
   ]
  },
  {
   "cell_type": "code",
   "execution_count": 173,
   "metadata": {},
   "outputs": [],
   "source": [
    "sd = np.std(diff)"
   ]
  },
  {
   "cell_type": "code",
   "execution_count": 174,
   "metadata": {},
   "outputs": [
    {
     "data": {
      "text/plain": [
       "0.32344716539535073"
      ]
     },
     "execution_count": 174,
     "metadata": {},
     "output_type": "execute_result"
    }
   ],
   "source": [
    "sd"
   ]
  },
  {
   "cell_type": "code",
   "execution_count": 175,
   "metadata": {},
   "outputs": [],
   "source": [
    "z = avg/(sd/math.sqrt(n))"
   ]
  },
  {
   "cell_type": "code",
   "execution_count": 176,
   "metadata": {},
   "outputs": [
    {
     "data": {
      "text/plain": [
       "-3.7594672721243887"
      ]
     },
     "execution_count": 176,
     "metadata": {},
     "output_type": "execute_result"
    }
   ],
   "source": [
    "z"
   ]
  },
  {
   "cell_type": "code",
   "execution_count": 177,
   "metadata": {},
   "outputs": [
    {
     "name": "stdout",
     "output_type": "stream",
     "text": [
      "t-statistic = -3.759 pvalue = 0.0001\n"
     ]
    }
   ],
   "source": [
    "pval = stats.t.sf(np.abs(z), n-1)  # two-sided pvalue = Prob(abs(t)>tt)\n",
    "print('t-statistic = %6.3f pvalue = %6.4f' % (z, pval))"
   ]
  },
  {
   "cell_type": "code",
   "execution_count": 187,
   "metadata": {},
   "outputs": [
    {
     "data": {
      "text/plain": [
       "(array([221.,   0.,   0.,   0.,   0.,   0.,   0.,   0.,   0.,   1.]),\n",
       " array([-21018.86724701,  67034.23639865, 155087.34004431, 243140.44368998,\n",
       "        331193.54733564, 419246.6509813 , 507299.75462696, 595352.85827262,\n",
       "        683405.96191829, 771459.06556395, 859512.16920961]),\n",
       " <a list of 10 Patch objects>)"
      ]
     },
     "execution_count": 187,
     "metadata": {},
     "output_type": "execute_result"
    },
    {
     "data": {
      "image/png": "[encoded data removed]",
      "text/plain": [
       "<Figure size 432x288 with 1 Axes>"
      ]
     },
     "metadata": {},
     "output_type": "display_data"
    }
   ],
   "source": [
    "plt.hist(diff)"
   ]
  },
  {
   "cell_type": "code",
   "execution_count": 14,
   "metadata": {},
   "outputs": [
    {
     "ename": "NameError",
     "evalue": "name 'ets_error' is not defined",
     "output_type": "error",
     "traceback": [
      "\u001b[0;31m---------------------------------------------------------------------------\u001b[0m",
      "\u001b[0;31mNameError\u001b[0m                                 Traceback (most recent call last)",
      "\u001b[0;32m<ipython-input-14-8d1d88d01937>\u001b[0m in \u001b[0;36m<module>\u001b[0;34m()\u001b[0m\n\u001b[0;32m----> 1\u001b[0;31m \u001b[0mstats\u001b[0m\u001b[0;34m.\u001b[0m\u001b[0mttest_ind\u001b[0m\u001b[0;34m(\u001b[0m\u001b[0mets_error\u001b[0m\u001b[0;34m,\u001b[0m\u001b[0mstl_error\u001b[0m\u001b[0;34m)\u001b[0m\u001b[0;34m\u001b[0m\u001b[0;34m\u001b[0m\u001b[0m\n\u001b[0m",
      "\u001b[0;31mNameError\u001b[0m: name 'ets_error' is not defined"
     ]
    }
   ],
   "source": [
    "stats.ttest_ind(ets_error,stl_error)"
   ]
  },
  {
   "cell_type": "code",
   "execution_count": null,
   "metadata": {},
   "outputs": [],
   "source": []
  }
 ],
 "metadata": {
  "kernelspec": {
   "display_name": "Python 3",
   "language": "python",
   "name": "python3"
  },
  "language_info": {
   "codemirror_mode": {
    "name": "ipython",
    "version": 3
   },
   "file_extension": ".py",
   "mimetype": "text/x-python",
   "name": "python",
   "nbconvert_exporter": "python",
   "pygments_lexer": "ipython3",
   "version": "3.6.9"
  }
 },
 "nbformat": 4,
 "nbformat_minor": 2
}
