{
 "cells": [
  {
   "cell_type": "code",
   "execution_count": 89,
   "metadata": {},
   "outputs": [],
   "source": [
    "from pyunicorn.timeseries.surrogates import Surrogates\n",
    "import numpy as np\n",
    "from scipy.stats import norm"
   ]
  },
  {
   "cell_type": "code",
   "execution_count": 63,
   "metadata": {},
   "outputs": [],
   "source": [
    "data = np.load('data.npy')"
   ]
  },
  {
   "cell_type": "code",
   "execution_count": 65,
   "metadata": {},
   "outputs": [],
   "source": [
    "result = []\n",
    "\n",
    "for i in range(data.shape[0]):\n",
    "    for j in range(data.shape[1]):\n",
    "        if not data[i,j,-1]<0:\n",
    "            result.append(data[i,j,:])\n"
   ]
  },
  {
   "cell_type": "code",
   "execution_count": 69,
   "metadata": {},
   "outputs": [],
   "source": [
    "data = np.matrix(result)"
   ]
  },
  {
   "cell_type": "code",
   "execution_count": 99,
   "metadata": {},
   "outputs": [
    {
     "name": "stdout",
     "output_type": "stream",
     "text": [
      "Generated an instance of the Surrogates class.\n",
      "Generating correlated noise surrogates...\n",
      "Generated an instance of the Surrogates class.\n",
      "Generating correlated noise surrogates...\n",
      "Generated an instance of the Surrogates class.\n",
      "Generating correlated noise surrogates...\n",
      "Generated an instance of the Surrogates class.\n",
      "Generating correlated noise surrogates...\n",
      "Generated an instance of the Surrogates class.\n",
      "Generating correlated noise surrogates...\n",
      "Generated an instance of the Surrogates class.\n",
      "Generating correlated noise surrogates...\n",
      "Generated an instance of the Surrogates class.\n",
      "Generating correlated noise surrogates...\n",
      "Generated an instance of the Surrogates class.\n",
      "Generating correlated noise surrogates...\n",
      "Generated an instance of the Surrogates class.\n",
      "Generating correlated noise surrogates...\n",
      "Generated an instance of the Surrogates class.\n",
      "Generating correlated noise surrogates...\n",
      "Generated an instance of the Surrogates class.\n",
      "Generating correlated noise surrogates...\n",
      "Generated an instance of the Surrogates class.\n",
      "Generating correlated noise surrogates...\n",
      "Generated an instance of the Surrogates class.\n",
      "Generating correlated noise surrogates...\n",
      "Generated an instance of the Surrogates class.\n",
      "Generating correlated noise surrogates...\n",
      "Generated an instance of the Surrogates class.\n",
      "Generating correlated noise surrogates...\n",
      "Generated an instance of the Surrogates class.\n",
      "Generating correlated noise surrogates...\n",
      "Generated an instance of the Surrogates class.\n",
      "Generating correlated noise surrogates...\n",
      "Generated an instance of the Surrogates class.\n",
      "Generating correlated noise surrogates...\n",
      "Generated an instance of the Surrogates class.\n",
      "Generating correlated noise surrogates...\n",
      "Generated an instance of the Surrogates class.\n",
      "Generating correlated noise surrogates...\n",
      "Generated an instance of the Surrogates class.\n",
      "Generating correlated noise surrogates...\n",
      "Generated an instance of the Surrogates class.\n",
      "Generating correlated noise surrogates...\n",
      "Generated an instance of the Surrogates class.\n",
      "Generating correlated noise surrogates...\n",
      "Generated an instance of the Surrogates class.\n",
      "Generating correlated noise surrogates...\n",
      "Generated an instance of the Surrogates class.\n",
      "Generating correlated noise surrogates...\n",
      "Generated an instance of the Surrogates class.\n",
      "Generating correlated noise surrogates...\n",
      "Generated an instance of the Surrogates class.\n",
      "Generating correlated noise surrogates...\n",
      "Generated an instance of the Surrogates class.\n",
      "Generating correlated noise surrogates...\n",
      "Generated an instance of the Surrogates class.\n",
      "Generating correlated noise surrogates...\n",
      "Generated an instance of the Surrogates class.\n",
      "Generating correlated noise surrogates...\n",
      "Generated an instance of the Surrogates class.\n",
      "Generating correlated noise surrogates...\n",
      "Generated an instance of the Surrogates class.\n",
      "Generating correlated noise surrogates...\n",
      "Generated an instance of the Surrogates class.\n",
      "Generating correlated noise surrogates...\n",
      "Generated an instance of the Surrogates class.\n",
      "Generating correlated noise surrogates...\n",
      "Generated an instance of the Surrogates class.\n",
      "Generating correlated noise surrogates...\n",
      "Generated an instance of the Surrogates class.\n",
      "Generating correlated noise surrogates...\n",
      "Generated an instance of the Surrogates class.\n",
      "Generating correlated noise surrogates...\n",
      "Generated an instance of the Surrogates class.\n",
      "Generating correlated noise surrogates...\n",
      "Generated an instance of the Surrogates class.\n",
      "Generating correlated noise surrogates...\n",
      "Generated an instance of the Surrogates class.\n",
      "Generating correlated noise surrogates...\n",
      "Generated an instance of the Surrogates class.\n",
      "Generating correlated noise surrogates...\n",
      "Generated an instance of the Surrogates class.\n",
      "Generating correlated noise surrogates...\n",
      "Generated an instance of the Surrogates class.\n",
      "Generating correlated noise surrogates...\n",
      "Generated an instance of the Surrogates class.\n",
      "Generating correlated noise surrogates...\n",
      "Generated an instance of the Surrogates class.\n",
      "Generating correlated noise surrogates...\n",
      "Generated an instance of the Surrogates class.\n",
      "Generating correlated noise surrogates...\n",
      "Generated an instance of the Surrogates class.\n",
      "Generating correlated noise surrogates...\n",
      "Generated an instance of the Surrogates class.\n",
      "Generating correlated noise surrogates...\n",
      "Generated an instance of the Surrogates class.\n",
      "Generating correlated noise surrogates...\n",
      "Generated an instance of the Surrogates class.\n",
      "Generating correlated noise surrogates...\n",
      "Generated an instance of the Surrogates class.\n",
      "Generating correlated noise surrogates...\n",
      "Generated an instance of the Surrogates class.\n",
      "Generating correlated noise surrogates...\n",
      "Generated an instance of the Surrogates class.\n",
      "Generating correlated noise surrogates...\n",
      "Generated an instance of the Surrogates class.\n",
      "Generating correlated noise surrogates...\n",
      "Generated an instance of the Surrogates class.\n",
      "Generating correlated noise surrogates...\n",
      "Generated an instance of the Surrogates class.\n",
      "Generating correlated noise surrogates...\n",
      "Generated an instance of the Surrogates class.\n",
      "Generating correlated noise surrogates...\n",
      "Generated an instance of the Surrogates class.\n",
      "Generating correlated noise surrogates...\n",
      "Generated an instance of the Surrogates class.\n",
      "Generating correlated noise surrogates...\n",
      "Generated an instance of the Surrogates class.\n",
      "Generating correlated noise surrogates...\n",
      "Generated an instance of the Surrogates class.\n",
      "Generating correlated noise surrogates...\n",
      "Generated an instance of the Surrogates class.\n",
      "Generating correlated noise surrogates...\n",
      "Generated an instance of the Surrogates class.\n",
      "Generating correlated noise surrogates...\n",
      "Generated an instance of the Surrogates class.\n",
      "Generating correlated noise surrogates...\n",
      "Generated an instance of the Surrogates class.\n",
      "Generating correlated noise surrogates...\n",
      "Generated an instance of the Surrogates class.\n",
      "Generating correlated noise surrogates...\n",
      "Generated an instance of the Surrogates class.\n",
      "Generating correlated noise surrogates...\n",
      "Generated an instance of the Surrogates class.\n",
      "Generating correlated noise surrogates...\n",
      "Generated an instance of the Surrogates class.\n",
      "Generating correlated noise surrogates...\n",
      "Generated an instance of the Surrogates class.\n",
      "Generating correlated noise surrogates...\n",
      "Generated an instance of the Surrogates class.\n",
      "Generating correlated noise surrogates...\n",
      "Generated an instance of the Surrogates class.\n",
      "Generating correlated noise surrogates...\n",
      "Generated an instance of the Surrogates class.\n",
      "Generating correlated noise surrogates...\n",
      "Generated an instance of the Surrogates class.\n",
      "Generating correlated noise surrogates...\n",
      "Generated an instance of the Surrogates class.\n",
      "Generating correlated noise surrogates...\n",
      "Generated an instance of the Surrogates class.\n",
      "Generating correlated noise surrogates...\n",
      "Generated an instance of the Surrogates class.\n",
      "Generating correlated noise surrogates...\n",
      "Generated an instance of the Surrogates class.\n",
      "Generating correlated noise surrogates...\n",
      "Generated an instance of the Surrogates class.\n",
      "Generating correlated noise surrogates...\n",
      "Generated an instance of the Surrogates class.\n",
      "Generating correlated noise surrogates...\n",
      "Generated an instance of the Surrogates class.\n",
      "Generating correlated noise surrogates...\n",
      "Generated an instance of the Surrogates class.\n",
      "Generating correlated noise surrogates...\n",
      "Generated an instance of the Surrogates class.\n",
      "Generating correlated noise surrogates...\n",
      "Generated an instance of the Surrogates class.\n",
      "Generating correlated noise surrogates...\n",
      "Generated an instance of the Surrogates class.\n",
      "Generating correlated noise surrogates...\n",
      "Generated an instance of the Surrogates class.\n",
      "Generating correlated noise surrogates...\n",
      "Generated an instance of the Surrogates class.\n",
      "Generating correlated noise surrogates...\n",
      "Generated an instance of the Surrogates class.\n",
      "Generating correlated noise surrogates...\n",
      "Generated an instance of the Surrogates class.\n",
      "Generating correlated noise surrogates...\n",
      "Generated an instance of the Surrogates class.\n",
      "Generating correlated noise surrogates...\n",
      "Generated an instance of the Surrogates class.\n",
      "Generating correlated noise surrogates...\n",
      "Generated an instance of the Surrogates class.\n",
      "Generating correlated noise surrogates...\n",
      "Generated an instance of the Surrogates class.\n",
      "Generating correlated noise surrogates...\n"
     ]
    },
    {
     "name": "stdout",
     "output_type": "stream",
     "text": [
      "Generated an instance of the Surrogates class.\n",
      "Generating correlated noise surrogates...\n",
      "Generated an instance of the Surrogates class.\n",
      "Generating correlated noise surrogates...\n",
      "Generated an instance of the Surrogates class.\n",
      "Generating correlated noise surrogates...\n",
      "Generated an instance of the Surrogates class.\n",
      "Generating correlated noise surrogates...\n",
      "Generated an instance of the Surrogates class.\n",
      "Generating correlated noise surrogates...\n",
      "Generated an instance of the Surrogates class.\n",
      "Generating correlated noise surrogates...\n",
      "Generated an instance of the Surrogates class.\n",
      "Generating correlated noise surrogates...\n"
     ]
    }
   ],
   "source": [
    "N = 100\n",
    "M = data.shape[0]\n",
    "result = np.zeros((N,M))\n",
    "for i in range(N):\n",
    "    ts = Surrogates(data)\n",
    "    sample = ts.correlated_noise_surrogates(data)\n",
    "    eigenValues, eigenVectors = np.linalg.eig(np.cov(sample))\n",
    "    idx = eigenValues.argsort()[::-1]   \n",
    "    eigenValues = eigenValues[idx]\n",
    "    result[i,:] = eigenValues\n",
    "    ts.clear_cache()"
   ]
  },
  {
   "cell_type": "code",
   "execution_count": 100,
   "metadata": {},
   "outputs": [],
   "source": [
    "eigenValues, eigenVectors = np.linalg.eig(np.cov(data))\n",
    "idx = eigenValues.argsort()[::-1]   \n",
    "eigenValues = eigenValues[idx]"
   ]
  },
  {
   "cell_type": "code",
   "execution_count": 103,
   "metadata": {},
   "outputs": [
    {
     "data": {
      "text/plain": [
       "0.9772498680518208"
      ]
     },
     "execution_count": 103,
     "metadata": {},
     "output_type": "execute_result"
    }
   ],
   "source": [
    "norm.cdf(2)"
   ]
  },
  {
   "cell_type": "code",
   "execution_count": 101,
   "metadata": {},
   "outputs": [
    {
     "name": "stdout",
     "output_type": "stream",
     "text": [
      "0.000000\n",
      "0.000000\n",
      "0.004731\n",
      "0.041116\n",
      "0.119569\n",
      "0.198830\n",
      "0.243543\n",
      "0.257473\n",
      "0.288882\n",
      "0.306030\n",
      "0.321041\n",
      "0.339405\n",
      "0.346280\n",
      "0.380963\n",
      "0.393959\n",
      "0.398749\n",
      "0.404178\n",
      "0.409623\n",
      "0.429249\n",
      "0.437046\n",
      "0.438979\n",
      "0.447201\n",
      "0.452259\n",
      "0.456054\n",
      "0.459150\n",
      "0.461932\n",
      "0.466221\n",
      "0.470326\n",
      "0.473220\n",
      "0.474580\n",
      "0.477175\n",
      "0.481162\n",
      "0.482885\n",
      "0.485857\n",
      "0.488400\n",
      "0.489398\n",
      "0.491075\n",
      "0.492880\n",
      "0.494011\n",
      "0.496742\n",
      "0.497551\n",
      "0.499745\n",
      "0.501655\n",
      "0.502370\n",
      "0.503688\n",
      "0.504840\n",
      "0.505774\n",
      "0.506189\n",
      "0.507526\n",
      "0.508716\n",
      "0.509326\n",
      "0.511003\n",
      "0.511297\n",
      "0.512244\n",
      "0.512432\n",
      "0.513463\n",
      "0.513758\n",
      "0.514470\n",
      "0.515324\n",
      "0.515715\n",
      "0.516121\n",
      "0.516666\n",
      "0.517599\n",
      "0.518564\n",
      "0.519004\n",
      "0.519460\n",
      "0.519599\n",
      "0.519946\n",
      "0.520365\n",
      "0.520776\n",
      "0.521044\n",
      "0.521496\n",
      "0.521762\n",
      "0.522275\n",
      "0.522688\n",
      "0.522688\n",
      "0.522870\n",
      "0.523165\n",
      "0.523691\n",
      "0.524018\n",
      "0.524237\n",
      "0.524257\n",
      "0.524810\n",
      "0.524706\n",
      "0.525034\n",
      "0.525201\n",
      "0.525474\n",
      "0.525689\n",
      "0.525937\n",
      "0.526121\n",
      "0.526283\n",
      "0.526333\n",
      "0.526694\n",
      "0.526864\n",
      "0.526701\n",
      "0.527155\n",
      "0.527142\n",
      "0.527994\n",
      "0.528200\n",
      "0.528210\n"
     ]
    }
   ],
   "source": [
    "for i in range(N):\n",
    "    print(\"%f\"%(1 - norm.cdf((eigenValues[i] - result[i,:].mean())/result[i,:].std())))"
   ]
  },
  {
   "cell_type": "code",
   "execution_count": 34,
   "metadata": {},
   "outputs": [],
   "source": [
    "d = np.row_stack((a,b,c))"
   ]
  },
  {
   "cell_type": "code",
   "execution_count": 48,
   "metadata": {},
   "outputs": [
    {
     "name": "stdout",
     "output_type": "stream",
     "text": [
      "Generated an instance of the Surrogates class.\n"
     ]
    }
   ],
   "source": [
    "ts = Surrogates(d)"
   ]
  },
  {
   "cell_type": "code",
   "execution_count": 47,
   "metadata": {},
   "outputs": [
    {
     "name": "stdout",
     "output_type": "stream",
     "text": [
      "Generating correlated noise surrogates...\n"
     ]
    },
    {
     "ename": "AttributeError",
     "evalue": "'Surrogates' object has no attribute '_original_data_fft'",
     "output_type": "error",
     "traceback": [
      "\u001b[0;31m---------------------------------------------------------------------------\u001b[0m",
      "\u001b[0;31mAttributeError\u001b[0m                            Traceback (most recent call last)",
      "\u001b[0;32m<ipython-input-47-0e29b96d58a9>\u001b[0m in \u001b[0;36m<module>\u001b[0;34m()\u001b[0m\n\u001b[0;32m----> 1\u001b[0;31m \u001b[0mts\u001b[0m\u001b[0;34m.\u001b[0m\u001b[0mAAFT_surrogates\u001b[0m\u001b[0;34m(\u001b[0m\u001b[0md\u001b[0m\u001b[0;34m)\u001b[0m\u001b[0;34m\u001b[0m\u001b[0;34m\u001b[0m\u001b[0m\n\u001b[0m",
      "\u001b[0;32m~/anaconda3/lib/python3.6/site-packages/pyunicorn/timeseries/surrogates.py\u001b[0m in \u001b[0;36mAAFT_surrogates\u001b[0;34m(self, original_data)\u001b[0m\n\u001b[1;32m    386\u001b[0m         \u001b[0;31m#  Phase randomize rescaled data\u001b[0m\u001b[0;34m\u001b[0m\u001b[0;34m\u001b[0m\u001b[0;34m\u001b[0m\u001b[0m\n\u001b[1;32m    387\u001b[0m         \u001b[0mphase_randomized_data\u001b[0m \u001b[0;34m=\u001b[0m\u001b[0;31m \u001b[0m\u001b[0;31m\\\u001b[0m\u001b[0;34m\u001b[0m\u001b[0;34m\u001b[0m\u001b[0m\n\u001b[0;32m--> 388\u001b[0;31m             \u001b[0mself\u001b[0m\u001b[0;34m.\u001b[0m\u001b[0mcorrelated_noise_surrogates\u001b[0m\u001b[0;34m(\u001b[0m\u001b[0mrescaled_data\u001b[0m\u001b[0;34m)\u001b[0m\u001b[0;34m\u001b[0m\u001b[0;34m\u001b[0m\u001b[0m\n\u001b[0m\u001b[1;32m    389\u001b[0m \u001b[0;34m\u001b[0m\u001b[0m\n\u001b[1;32m    390\u001b[0m         \u001b[0;31m#  Rescale back to amplitude distribution of original data\u001b[0m\u001b[0;34m\u001b[0m\u001b[0;34m\u001b[0m\u001b[0;34m\u001b[0m\u001b[0m\n",
      "\u001b[0;32m~/anaconda3/lib/python3.6/site-packages/pyunicorn/timeseries/surrogates.py\u001b[0m in \u001b[0;36mcorrelated_noise_surrogates\u001b[0;34m(self, original_data)\u001b[0m\n\u001b[1;32m    339\u001b[0m         \u001b[0;31m#  so it is stored in self._original_data_fft.\u001b[0m\u001b[0;34m\u001b[0m\u001b[0;34m\u001b[0m\u001b[0;34m\u001b[0m\u001b[0m\n\u001b[1;32m    340\u001b[0m         \u001b[0;32mif\u001b[0m \u001b[0mself\u001b[0m\u001b[0;34m.\u001b[0m\u001b[0m_fft_cached\u001b[0m\u001b[0;34m:\u001b[0m\u001b[0;34m\u001b[0m\u001b[0;34m\u001b[0m\u001b[0m\n\u001b[0;32m--> 341\u001b[0;31m             \u001b[0msurrogates\u001b[0m \u001b[0;34m=\u001b[0m \u001b[0mself\u001b[0m\u001b[0;34m.\u001b[0m\u001b[0m_original_data_fft\u001b[0m\u001b[0;34m\u001b[0m\u001b[0;34m\u001b[0m\u001b[0m\n\u001b[0m\u001b[1;32m    342\u001b[0m         \u001b[0;32melse\u001b[0m\u001b[0;34m:\u001b[0m\u001b[0;34m\u001b[0m\u001b[0;34m\u001b[0m\u001b[0m\n\u001b[1;32m    343\u001b[0m             \u001b[0msurrogates\u001b[0m \u001b[0;34m=\u001b[0m \u001b[0mnp\u001b[0m\u001b[0;34m.\u001b[0m\u001b[0mfft\u001b[0m\u001b[0;34m.\u001b[0m\u001b[0mrfft\u001b[0m\u001b[0;34m(\u001b[0m\u001b[0moriginal_data\u001b[0m\u001b[0;34m,\u001b[0m \u001b[0maxis\u001b[0m\u001b[0;34m=\u001b[0m\u001b[0;36m1\u001b[0m\u001b[0;34m)\u001b[0m\u001b[0;34m\u001b[0m\u001b[0;34m\u001b[0m\u001b[0m\n",
      "\u001b[0;31mAttributeError\u001b[0m: 'Surrogates' object has no attribute '_original_data_fft'"
     ]
    }
   ],
   "source": [
    "ts.AAFT_surrogates(d)"
   ]
  },
  {
   "cell_type": "code",
   "execution_count": 49,
   "metadata": {},
   "outputs": [
    {
     "name": "stdout",
     "output_type": "stream",
     "text": [
      "Generating correlated noise surrogates...\n"
     ]
    },
    {
     "data": {
      "text/plain": [
       "array([[ 3.9791028 ,  5.45287519,  5.02532696,  1.94243231,  1.3774935 ,\n",
       "         3.02007958,  1.86420421,  3.7646391 ],\n",
       "       [ 4.22527408,  2.90988095,  7.94998781,  3.50909721, -2.71409865,\n",
       "         4.7119573 ,  4.94455026,  4.76008565],\n",
       "       [-3.59516812, -1.97702414, -6.70089651, -6.96161177, -6.30666783,\n",
       "        -5.75830119, -4.50530105, -3.28342285]])"
      ]
     },
     "execution_count": 49,
     "metadata": {},
     "output_type": "execute_result"
    }
   ],
   "source": []
  },
  {
   "cell_type": "code",
   "execution_count": 39,
   "metadata": {},
   "outputs": [
    {
     "name": "stdout",
     "output_type": "stream",
     "text": [
      "Generating white noise surrogates by random shuffling...\n"
     ]
    },
    {
     "data": {
      "text/plain": [
       "array([[ 3,  5,  5,  1,  3,  5,  4,  2],\n",
       "       [ 8, 12,  7,  6,  5,  3,  3,  4],\n",
       "       [ 2,  7,  6,  7,  5,  4,  6,  3]])"
      ]
     },
     "execution_count": 39,
     "metadata": {},
     "output_type": "execute_result"
    }
   ],
   "source": [
    "ts.white_noise_surrogates(d)"
   ]
  },
  {
   "cell_type": "code",
   "execution_count": 45,
   "metadata": {},
   "outputs": [
    {
     "ename": "AttributeError",
     "evalue": "'Surrogates' object has no attribute '_original_data_fft'",
     "output_type": "error",
     "traceback": [
      "\u001b[0;31m---------------------------------------------------------------------------\u001b[0m",
      "\u001b[0;31mAttributeError\u001b[0m                            Traceback (most recent call last)",
      "\u001b[0;32m<ipython-input-45-ecdd0d57b9bc>\u001b[0m in \u001b[0;36m<module>\u001b[0;34m()\u001b[0m\n\u001b[0;32m----> 1\u001b[0;31m \u001b[0mts\u001b[0m\u001b[0;34m.\u001b[0m\u001b[0mrefined_AAFT_surrogates\u001b[0m\u001b[0;34m(\u001b[0m\u001b[0md\u001b[0m\u001b[0;34m,\u001b[0m\u001b[0;36m1000\u001b[0m\u001b[0;34m)\u001b[0m\u001b[0;34m\u001b[0m\u001b[0;34m\u001b[0m\u001b[0m\n\u001b[0m",
      "\u001b[0;32m~/anaconda3/lib/python3.6/site-packages/pyunicorn/timeseries/surrogates.py\u001b[0m in \u001b[0;36mrefined_AAFT_surrogates\u001b[0;34m(self, original_data, n_iterations, output)\u001b[0m\n\u001b[1;32m    426\u001b[0m         \u001b[0;31m#  Get Fourier transform of original data with caching\u001b[0m\u001b[0;34m\u001b[0m\u001b[0;34m\u001b[0m\u001b[0;34m\u001b[0m\u001b[0m\n\u001b[1;32m    427\u001b[0m         \u001b[0;32mif\u001b[0m \u001b[0mself\u001b[0m\u001b[0;34m.\u001b[0m\u001b[0m_fft_cached\u001b[0m\u001b[0;34m:\u001b[0m\u001b[0;34m\u001b[0m\u001b[0;34m\u001b[0m\u001b[0m\n\u001b[0;32m--> 428\u001b[0;31m             \u001b[0mfourier_transform\u001b[0m \u001b[0;34m=\u001b[0m \u001b[0mself\u001b[0m\u001b[0;34m.\u001b[0m\u001b[0m_original_data_fft\u001b[0m\u001b[0;34m\u001b[0m\u001b[0;34m\u001b[0m\u001b[0m\n\u001b[0m\u001b[1;32m    429\u001b[0m         \u001b[0;32melse\u001b[0m\u001b[0;34m:\u001b[0m\u001b[0;34m\u001b[0m\u001b[0;34m\u001b[0m\u001b[0m\n\u001b[1;32m    430\u001b[0m             \u001b[0mfourier_transform\u001b[0m \u001b[0;34m=\u001b[0m \u001b[0mnp\u001b[0m\u001b[0;34m.\u001b[0m\u001b[0mfft\u001b[0m\u001b[0;34m.\u001b[0m\u001b[0mrfft\u001b[0m\u001b[0;34m(\u001b[0m\u001b[0moriginal_data\u001b[0m\u001b[0;34m,\u001b[0m \u001b[0maxis\u001b[0m\u001b[0;34m=\u001b[0m\u001b[0;36m1\u001b[0m\u001b[0;34m)\u001b[0m\u001b[0;34m\u001b[0m\u001b[0;34m\u001b[0m\u001b[0m\n",
      "\u001b[0;31mAttributeError\u001b[0m: 'Surrogates' object has no attribute '_original_data_fft'"
     ]
    }
   ],
   "source": [
    "ts.refined_AAFT_surrogates(d,1000)"
   ]
  },
  {
   "cell_type": "code",
   "execution_count": 58,
   "metadata": {},
   "outputs": [
    {
     "name": "stdout",
     "output_type": "stream",
     "text": [
      "Generated an instance of the Surrogates class.\n",
      "Generating correlated noise surrogates...\n",
      "Generated an instance of the Surrogates class.\n",
      "Generating correlated noise surrogates...\n",
      "Generated an instance of the Surrogates class.\n",
      "Generating correlated noise surrogates...\n",
      "Generated an instance of the Surrogates class.\n",
      "Generating correlated noise surrogates...\n",
      "Generated an instance of the Surrogates class.\n",
      "Generating correlated noise surrogates...\n",
      "Generated an instance of the Surrogates class.\n",
      "Generating correlated noise surrogates...\n",
      "Generated an instance of the Surrogates class.\n",
      "Generating correlated noise surrogates...\n",
      "Generated an instance of the Surrogates class.\n",
      "Generating correlated noise surrogates...\n",
      "Generated an instance of the Surrogates class.\n",
      "Generating correlated noise surrogates...\n",
      "Generated an instance of the Surrogates class.\n",
      "Generating correlated noise surrogates...\n"
     ]
    }
   ],
   "source": [
    "N = 10\n",
    "result = np.zeros((N,3))\n",
    "for i in range(N):\n",
    "    ts = Surrogates(d)\n",
    "    sample = ts.correlated_noise_surrogates(d)\n",
    "    eigenValues, eigenVectors = np.linalg.eig(np.cov(sample))\n",
    "    idx = eigenValues.argsort()[::-1]   \n",
    "    eigenValues = eigenValues[idx]\n",
    "    result[i,:] = eigenValues\n",
    "    ts.clear_cache()"
   ]
  },
  {
   "cell_type": "code",
   "execution_count": 50,
   "metadata": {},
   "outputs": [
    {
     "data": {
      "text/plain": [
       "array([[ 2.28571429, -1.28571429,  2.71428571],\n",
       "       [-1.28571429,  9.14285714, -1.        ],\n",
       "       [ 2.71428571, -1.        ,  3.42857143]])"
      ]
     },
     "execution_count": 50,
     "metadata": {},
     "output_type": "execute_result"
    }
   ],
   "source": [
    "np.cov(d)"
   ]
  },
  {
   "cell_type": "code",
   "execution_count": 51,
   "metadata": {},
   "outputs": [
    {
     "data": {
      "text/plain": [
       "array([[ 1,  2,  3,  3,  4,  5,  5,  5],\n",
       "       [12,  3,  4,  5,  6,  7,  3,  8],\n",
       "       [ 2,  3,  4,  5,  6,  7,  6,  7]])"
      ]
     },
     "execution_count": 51,
     "metadata": {},
     "output_type": "execute_result"
    }
   ],
   "source": [
    "d"
   ]
  },
  {
   "cell_type": "code",
   "execution_count": 60,
   "metadata": {},
   "outputs": [],
   "source": [
    "eigenValues, eigenVectors = np.linalg.eig(np.cov(d))\n",
    "idx = eigenValues.argsort()[::-1]   \n",
    "eigenValues = eigenValues[idx]"
   ]
  },
  {
   "cell_type": "code",
   "execution_count": 59,
   "metadata": {},
   "outputs": [
    {
     "data": {
      "text/plain": [
       "array([[ 9.90562985,  3.93204551,  0.82269823],\n",
       "       [10.91110084,  2.33278413,  1.31345101],\n",
       "       [11.46662559,  2.34593331,  0.78591232],\n",
       "       [10.25746858,  3.63521738,  0.62321524],\n",
       "       [11.58200185,  2.7306186 ,  0.15794229],\n",
       "       [ 9.92805697,  3.51538064,  1.12691524],\n",
       "       [10.02253596,  3.37299933,  1.38606517],\n",
       "       [ 9.21170952,  4.57287297,  0.99065836],\n",
       "       [10.01374339,  4.10176874,  0.3919988 ],\n",
       "       [10.86831356,  3.15128156,  0.55702729]])"
      ]
     },
     "execution_count": 59,
     "metadata": {},
     "output_type": "execute_result"
    }
   ],
   "source": [
    "result"
   ]
  },
  {
   "cell_type": "code",
   "execution_count": 61,
   "metadata": {},
   "outputs": [
    {
     "data": {
      "text/plain": [
       "array([9.76570372, 5.02381354, 0.06762559])"
      ]
     },
     "execution_count": 61,
     "metadata": {},
     "output_type": "execute_result"
    }
   ],
   "source": [
    "eigenValues"
   ]
  },
  {
   "cell_type": "code",
   "execution_count": null,
   "metadata": {},
   "outputs": [],
   "source": []
  }
 ],
 "metadata": {
  "kernelspec": {
   "display_name": "Python 3",
   "language": "python",
   "name": "python3"
  },
  "language_info": {
   "codemirror_mode": {
    "name": "ipython",
    "version": 3
   },
   "file_extension": ".py",
   "mimetype": "text/x-python",
   "name": "python",
   "nbconvert_exporter": "python",
   "pygments_lexer": "ipython3",
   "version": "3.6.9"
  }
 },
 "nbformat": 4,
 "nbformat_minor": 2
}
