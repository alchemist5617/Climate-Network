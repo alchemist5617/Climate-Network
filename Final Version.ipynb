{
 "cells": [
  {
   "cell_type": "code",
   "execution_count": 1,
   "metadata": {},
   "outputs": [
    {
     "name": "stderr",
     "output_type": "stream",
     "text": [
      "/home/mathsys2/anaconda3/lib/python3.6/site-packages/sklearn/ensemble/weight_boosting.py:29: DeprecationWarning: numpy.core.umath_tests is an internal NumPy module and should not be imported. It will be removed in a future NumPy release.\n",
      "  from numpy.core.umath_tests import inner1d\n"
     ]
    }
   ],
   "source": [
    "import climate_functions as cf\n",
    "import numpy as np\n",
    "import synthetic_data as sd\n",
    "import network_builder as nb\n",
    "import networkx as nx\n",
    "from sklearn.neural_network import MLPRegressor\n",
    "from sklearn.metrics import r2_score\n",
    "from sklearn.ensemble import RandomForestRegressor\n",
    "#from fastdtw import fastdtw\n",
    "#from dtaidistance import dtw\n",
    "#from dtaidistance import dtw_visualisation as dtwvis\n",
    "#from dtaidistance import clustering\n",
    "from sklearn.metrics import mean_squared_error\n",
    "import matplotlib.pyplot as plt\n",
    "import seaborn as sns\n",
    "from sklearn import linear_model\n",
    "sns.set()\n",
    "import random\n",
    "import pandas as pd\n",
    "from netCDF4 import Dataset\n",
    "from stldecompose import decompose, forecast\n",
    "import folium\n",
    "import math\n",
    "import scipy.stats as st\n",
    "#import cufflinks as cf\n",
    "import plotly \n",
    "import plotly.plotly as py\n",
    "import plotly.graph_objs as go\n",
    "plotly.tools.set_credentials_file(username='mohammad5617', api_key='yElRsXEjk0sRoqCmfVBn')\n",
    "import plotly.io as pio\n",
    "import plotly.plotly as py\n",
    "import plotly.figure_factory as ff\n",
    "import plotly.graph_objs as go"
   ]
  },
  {
   "cell_type": "code",
   "execution_count": 2,
   "metadata": {},
   "outputs": [],
   "source": [
    "f_pre = Dataset('precipitation.nc')\n",
    "pr = f_pre.variables['precip']\n",
    "lon = f_pre.variables['lon'][:]\n",
    "lat = f_pre.variables['lat'][:]\n",
    "pr = np.swapaxes(pr,0,2)\n",
    "\n",
    "r = np.arange(0.05,1,0.05)"
   ]
  },
  {
   "cell_type": "code",
   "execution_count": 3,
   "metadata": {},
   "outputs": [],
   "source": [
    "#data = pr[10:22,3:11,:]\n",
    "data = pr[16:23,10:16,:]\n",
    "data = cf.unflatten(data)\n",
    "data = np.swapaxes(data,0,1)"
   ]
  },
  {
   "cell_type": "markdown",
   "metadata": {},
   "source": [
    "# Cross validation"
   ]
  },
  {
   "cell_type": "code",
   "execution_count": null,
   "metadata": {},
   "outputs": [],
   "source": [
    "data_deseasonal= cf.deseasonal_STL(data)\n",
    "data = pr[16:23,10:16,:]\n",
    "data = cf.unflatten(data)\n",
    "data = np.swapaxes(data,0,1)\n",
    "data_deseasonal_monthly= cf.deseasonal_monthly_anomaly(data)\n",
    "data = pr[16:23,10:16,:]\n",
    "data = cf.unflatten(data)\n",
    "data = np.swapaxes(data,0,1)\n",
    "\n",
    "upper_bound = go.Scatter(\n",
    "    name='Upper Bound',\n",
    "    x=r,\n",
    "    y=r2_upper,\n",
    "    mode='lines',\n",
    "    marker=dict(color=\"#444\"),\n",
    "    line=dict(width=0),\n",
    "    fillcolor='rgba(68, 68, 68, 0.3)',\n",
    "    fill='tonexty'\n",
    ")\n",
    "\n",
    "lower_bound = go.Scatter(\n",
    "    name='Lower Bound',\n",
    "    x=r,\n",
    "    y=r2_lower,\n",
    "    mode='lines',\n",
    "    marker=dict(color=\"#444\"),\n",
    "    line=dict(width=0)\n",
    ")"
   ]
  },
  {
   "cell_type": "code",
   "execution_count": 4,
   "metadata": {},
   "outputs": [],
   "source": [
    "MSEds_list = []\n",
    "MSE_list = []\n",
    "MSEdm_list = []\n",
    "null_list =[]\n",
    "for i in range(0,840,168):\n",
    "    MSE, average_betweennes, average_shortest_path_length,density = cf.model(data,\"LR\",\"normal\",start=i,end=i+168, data_type=\"normal\")\n",
    "    MSE_list.append(MSE)\n",
    "    \n",
    "    MSE_ds, average_betweennes_ds, average_shortest_path_length_ds, density_ds = cf.model(data,\"LR\",\"normal\",start=i,end=i+168, data_type=\"STL\")\n",
    "    MSEds_list.append(MSE_ds)\n",
    "\n",
    "    MSE_dm, average_betweennes_dm, average_shortest_path_length_dm,density_dm = cf.model(data,\"LR\",\"normal\",start=i,end=i+168, data_type=\"PA\")\n",
    "    MSEdm_list.append(MSE_dm)\n",
    "    \n",
    " #   null = cf.exponential_smoothing(data[i:i+168-1,:], 0.95)\n",
    " #   error = mean_squared_error(data[i+168-1,:], null)\n",
    " #   null_list.append(error)"
   ]
  },
  {
   "cell_type": "code",
   "execution_count": 64,
   "metadata": {},
   "outputs": [],
   "source": [
    "#f = np.matrix(r2_list).std(axis=0)/math.sqrt(20) * 1.96\n",
    "#r2_list_bounds = np.reshape(f,(18,1))\n",
    "#r2_list_bounds = r2_list_bounds.tolist()[0]\n"
   ]
  },
  {
   "cell_type": "code",
   "execution_count": 5,
   "metadata": {},
   "outputs": [],
   "source": [
    "#null = np.mean(null_list)\n",
    "#nullr2ds = np.mean(nullds_list)"
   ]
  },
  {
   "cell_type": "code",
   "execution_count": 5,
   "metadata": {},
   "outputs": [],
   "source": [
    "f = np.matrix(MSE_list).mean(axis=0)\n",
    "MSE = np.reshape(f,(19,1))\n",
    "\n",
    "f1 = np.matrix(MSEds_list).mean(axis=0)\n",
    "MSE_ds = np.reshape(f1,(19,1))\n",
    "\n",
    "f2 = np.matrix(MSEdm_list).mean(axis=0)\n",
    "MSE_dm = np.reshape(f2,(19,1))\n",
    "\n",
    "#r_rev = r[::-1]#\n",
    "\n",
    "#r2_upper = r2 + r2_list_bounds\n",
    "#r2_lower = r2 - r2_list_bounds"
   ]
  },
  {
   "cell_type": "code",
   "execution_count": 12,
   "metadata": {},
   "outputs": [
    {
     "data": {
      "text/html": [
       "<iframe id=\"igraph\" scrolling=\"no\" style=\"border:none;\" seamless=\"seamless\" src=\"https://plot.ly/~mohammad5617/8.embed\" height=\"800px\" width=\"800px\"></iframe>"
      ],
      "text/plain": [
       "<chart_studio.tools.PlotlyDisplay object>"
      ]
     },
     "execution_count": 12,
     "metadata": {},
     "output_type": "execute_result"
    }
   ],
   "source": [
    "trace0 = go.Scatter(\n",
    "    x = r,\n",
    "    y = MSE,\n",
    "    name = 'Original data',\n",
    "    line = dict(\n",
    "        color = ('rgb(205, 12, 24)'),\n",
    "        width = 2,)\n",
    ")\n",
    "trace1 = go.Scatter(\n",
    "    x = r,\n",
    "    y = MSE_ds,\n",
    "    name = 'STL decomposition',\n",
    "    line = dict(\n",
    "        color = ('rgb(22, 167, 40)'),\n",
    "        width = 2,\n",
    "        dash = 'dot')\n",
    ")    \n",
    "\n",
    "trace2 = go.Scatter(\n",
    "    x = r,\n",
    "    y = MSE_dm,\n",
    "    name = 'Phase Averaging',\n",
    "    line = dict(\n",
    "        color = ('rgb(33, 164, 242)'),\n",
    "        width = 4,\n",
    "        dash = 'dash')\n",
    ")\n",
    "\n",
    "\n",
    "d = [trace0,trace1, trace2]\n",
    "    \n",
    "layout = dict(title = 'Models Performance',\n",
    "              height=800,\n",
    "              width = 800,\n",
    "              xaxis = dict(title = 'Thresholds',              \n",
    "              showticklabels=True,\n",
    "              tickmode='linear',\n",
    "              ticks='outside',\n",
    "              tick0=0,\n",
    "              dtick=0.05,),\n",
    "              yaxis = dict(title = 'Mean Square Error',\n",
    "              range = [0,800]            )\n",
    "       )\n",
    "\n",
    "fig = dict(data=d, layout=layout)\n",
    "pio.write_image(fig, 'performance_cross.png')\n",
    "py.iplot(fig, filename='styled-line')"
   ]
  },
  {
   "cell_type": "code",
   "execution_count": 19,
   "metadata": {},
   "outputs": [
    {
     "data": {
      "text/html": [
       "<iframe id=\"igraph\" scrolling=\"no\" style=\"border:none;\" seamless=\"seamless\" src=\"https://plot.ly/~mohammad5617/8.embed\" height=\"800px\" width=\"800px\"></iframe>"
      ],
      "text/plain": [
       "<chart_studio.tools.PlotlyDisplay object>"
      ]
     },
     "execution_count": 19,
     "metadata": {},
     "output_type": "execute_result"
    }
   ],
   "source": [
    "trace0 = go.Scatter(\n",
    "    x = r,\n",
    "    y = MSE,\n",
    "    name = 'Original data',\n",
    "    line = dict(\n",
    "        color = ('rgb(205, 12, 24)'),\n",
    "        width = 2,)\n",
    ")\n",
    "trace1 = go.Scatter(\n",
    "    x = r,\n",
    "    y = MSE_ds,\n",
    "    name = 'STL decomposition',\n",
    "    line = dict(\n",
    "        color = ('rgb(22, 167, 40)'),\n",
    "        width = 2,\n",
    "        dash = 'dot')\n",
    ")    \n",
    "\n",
    "trace2 = go.Scatter(\n",
    "    x = r,\n",
    "    y = MSE_dm,\n",
    "    name = 'Phase Averaging',\n",
    "    line = dict(\n",
    "        color = ('rgb(33, 164, 242)'),\n",
    "        width = 4,\n",
    "        dash = 'dash')\n",
    ")\n",
    "\n",
    "trace3 = go.Scatter(\n",
    "    x = r,\n",
    "    y = np.repeat(error, 19),\n",
    "    name = 'Exponential smoothing',\n",
    "    line = dict(\n",
    "        color = ('rgb(100, 10, 240)'),\n",
    "        width = 0.5, \n",
    "        dash = 'longdash')\n",
    ")\n",
    "\n",
    "d = [trace0,trace1, trace2, trace3]\n",
    "    \n",
    "layout = dict(title = 'Models Performance',\n",
    "              height=800,\n",
    "              width = 800,\n",
    "              xaxis = dict(title = 'Thresholds',              \n",
    "              showticklabels=True,\n",
    "              tickmode='linear',\n",
    "              ticks='outside',\n",
    "              tick0=0,\n",
    "              dtick=0.05,),\n",
    "              yaxis = dict(title = 'Mean Square Error')\n",
    "       )\n",
    "\n",
    "fig = dict(data=d, layout=layout)\n",
    "pio.write_image(fig, 'performance_cross.png')\n",
    "py.iplot(fig, filename='styled-line')\n"
   ]
  },
  {
   "cell_type": "code",
   "execution_count": 16,
   "metadata": {},
   "outputs": [
    {
     "data": {
      "text/html": [
       "<iframe id=\"igraph\" scrolling=\"no\" style=\"border:none;\" seamless=\"seamless\" src=\"https://plot.ly/~mohammad5617/8.embed\" height=\"800px\" width=\"1000px\"></iframe>"
      ],
      "text/plain": [
       "<chart_studio.tools.PlotlyDisplay object>"
      ]
     },
     "execution_count": 16,
     "metadata": {},
     "output_type": "execute_result"
    }
   ],
   "source": [
    "\n",
    "trace0 = go.Scatter(\n",
    "    x = r ,\n",
    "    y = MSE,\n",
    "    name = 'normal data',\n",
    "    mode = 'lines',\n",
    "    line = dict(\n",
    "        color = ('rgb(205, 12, 24)'),\n",
    "        width = 2,dash = 'dot'),\n",
    "   # fillcolor='rgba(68, 68, 68, 0.3)',\n",
    "    #fill='tonexty'\n",
    ")\n",
    "\n",
    "trace1 = go.Scatter(\n",
    "    x = r,\n",
    "    y = MSE_ds,\n",
    "    name = 'STL deseasonal data',\n",
    "    line = dict(\n",
    "        color = ('rgb(22, 96, 167)'),\n",
    "        width = 2,\n",
    "        dash = 'dot')\n",
    ")   \n",
    "trace2 = go.Scatter(\n",
    "    x = r,\n",
    "    y = MSE_dm,\n",
    "    name = 'PA deseasonal data',\n",
    "    line = dict(\n",
    "        color = ('rgb(33, 164, 242)'),\n",
    "        width = 4,\n",
    "        dash = 'dash')\n",
    ")\n",
    "\n",
    "\n",
    "\n",
    "d = [trace0, trace1]\n",
    "    \n",
    "layout = dict(title = 'Comparison of normal and deseasonal data',\n",
    "              width=1000,\n",
    "              height=800,\n",
    "              xaxis = dict(title = 'Thresholds',\n",
    "              showticklabels=True,\n",
    "              tickmode='linear',\n",
    "              ticks='outside',\n",
    "              tick0=0,\n",
    "              dtick=0.05,\n",
    "              ticklen=8,\n",
    "              tickwidth=4,\n",
    "              tickcolor='#000'),\n",
    "              yaxis = dict(title = 'R-squared',\n",
    "              showticklabels=True,\n",
    "              tickmode='linear',\n",
    "              ticks='outside',\n",
    "              tick0=0,\n",
    "              dtick=0.1,\n",
    "              ticklen=8,\n",
    "              tickwidth=4,\n",
    "              tickcolor='#000')\n",
    "            \n",
    "              )\n",
    "\n",
    "fig = dict(data=d, layout=layout)\n",
    "py.iplot(fig, filename='styled-line')"
   ]
  },
  {
   "cell_type": "markdown",
   "metadata": {},
   "source": [
    "# Matrix Distribution"
   ]
  },
  {
   "cell_type": "code",
   "execution_count": 19,
   "metadata": {},
   "outputs": [],
   "source": [
    "end = 1\n",
    "start= 0 "
   ]
  },
  {
   "cell_type": "code",
   "execution_count": 20,
   "metadata": {},
   "outputs": [],
   "source": [
    "data_deseasonal = data\n",
    "data_seasonal = np.zeros(data.shape[1]) \n",
    "m = nb.weighted_matrix(data_deseasonal[start:-end-1,:])"
   ]
  },
  {
   "cell_type": "code",
   "execution_count": 22,
   "metadata": {},
   "outputs": [
    {
     "data": {
      "text/html": [
       "<iframe id=\"igraph\" scrolling=\"no\" style=\"border:none;\" seamless=\"seamless\" src=\"https://plot.ly/~mohammad5617/12.embed\" height=\"525px\" width=\"100%\"></iframe>"
      ],
      "text/plain": [
       "<chart_studio.tools.PlotlyDisplay object>"
      ]
     },
     "execution_count": 22,
     "metadata": {},
     "output_type": "execute_result"
    }
   ],
   "source": [
    "h = cf.flatten2d(np.absolute(m))\n",
    "layout = dict(title = 'Distribution of edge weights made from original data')\n",
    "d = [go.Histogram(x=h)]\n",
    "fig = go.Figure(data=d, layout=layout)\n",
    "pio.write_image(fig, 'distribution_normal.png')\n",
    "py.iplot(fig, filename='basic histogram')"
   ]
  },
  {
   "cell_type": "code",
   "execution_count": 31,
   "metadata": {},
   "outputs": [],
   "source": [
    "#data = pr[10:22,3:11,:]\n",
    "data = pr[16:23,10:16,:]\n",
    "data = cf.unflatten(data)\n",
    "data = np.swapaxes(data,0,1)"
   ]
  },
  {
   "cell_type": "code",
   "execution_count": 32,
   "metadata": {},
   "outputs": [],
   "source": [
    "data_deseasonal, data_seasonal = cf.deseasonal_monthly_anomaly(data)\n",
    "data_seasonal = data_seasonal[0,:]\n",
    "m = nb.weighted_matrix(data_deseasonal[start:-end-1,:])"
   ]
  },
  {
   "cell_type": "code",
   "execution_count": 33,
   "metadata": {},
   "outputs": [
    {
     "data": {
      "text/html": [
       "<iframe id=\"igraph\" scrolling=\"no\" style=\"border:none;\" seamless=\"seamless\" src=\"https://plot.ly/~mohammad5617/12.embed\" height=\"525px\" width=\"100%\"></iframe>"
      ],
      "text/plain": [
       "<chart_studio.tools.PlotlyDisplay object>"
      ]
     },
     "execution_count": 33,
     "metadata": {},
     "output_type": "execute_result"
    }
   ],
   "source": [
    "h = cf.flatten2d(np.absolute(m))\n",
    "layout = dict(title = 'Distribution of edge weights made from phase averaging deseasonal data')\n",
    "d = [go.Histogram(x=h)]\n",
    "fig = go.Figure(data=d, layout=layout)\n",
    "pio.write_image(fig, 'distribution_pa.png')\n",
    "py.iplot(d, filename='basic histogram')"
   ]
  },
  {
   "cell_type": "code",
   "execution_count": 28,
   "metadata": {},
   "outputs": [],
   "source": [
    "data = pr[16:23,10:16,:]\n",
    "data = cf.unflatten(data)\n",
    "data = np.swapaxes(data,0,1)"
   ]
  },
  {
   "cell_type": "code",
   "execution_count": 29,
   "metadata": {},
   "outputs": [],
   "source": [
    "data_deseasonal, data_seasonal = cf.deseasonal_STL(data)\n",
    "data_seasonal = data_seasonal[-end,:]\n",
    "m = nb.weighted_matrix(data_deseasonal[start:-end-1,:])"
   ]
  },
  {
   "cell_type": "code",
   "execution_count": 30,
   "metadata": {},
   "outputs": [
    {
     "data": {
      "text/html": [
       "<iframe id=\"igraph\" scrolling=\"no\" style=\"border:none;\" seamless=\"seamless\" src=\"https://plot.ly/~mohammad5617/12.embed\" height=\"525px\" width=\"100%\"></iframe>"
      ],
      "text/plain": [
       "<chart_studio.tools.PlotlyDisplay object>"
      ]
     },
     "execution_count": 30,
     "metadata": {},
     "output_type": "execute_result"
    }
   ],
   "source": [
    "h = cf.flatten2d(np.absolute(m))\n",
    "layout = dict(title = 'Distribution of edge weights made from STL deseasonal data')\n",
    "d = [go.Histogram(x=h)]\n",
    "fig = go.Figure(data=d, layout=layout)\n",
    "pio.write_image(fig, 'distribution_STL.png')\n",
    "py.iplot(d, filename='basic histogram')"
   ]
  },
  {
   "cell_type": "code",
   "execution_count": null,
   "metadata": {},
   "outputs": [],
   "source": []
  },
  {
   "cell_type": "markdown",
   "metadata": {},
   "source": [
    "# Linear Regression"
   ]
  },
  {
   "cell_type": "code",
   "execution_count": 17,
   "metadata": {},
   "outputs": [],
   "source": [
    "MSE, average_betweennes, average_shortest_path_length, density = cf.model(data,\"LR\",\"normal\")"
   ]
  },
  {
   "cell_type": "code",
   "execution_count": 18,
   "metadata": {},
   "outputs": [],
   "source": [
    "data = pr[16:23,10:16,:]\n",
    "data = cf.unflatten(data)\n",
    "data = np.swapaxes(data,0,1)\n",
    "MSE_ds, average_betweennes_ds, average_shortest_path_length_ds, density_ds = cf.model(data,\"LR\",\"normal\",data_type = \"STL\")"
   ]
  },
  {
   "cell_type": "code",
   "execution_count": 19,
   "metadata": {},
   "outputs": [],
   "source": [
    "data = pr[16:23,10:16,:]\n",
    "data = cf.unflatten(data)\n",
    "data = np.swapaxes(data,0,1)\n",
    "MSE_dsm, average_betweennes_dsm, average_shortest_path_length_dsm, density_dm = cf.model(data,\"LR\",\"normal\",data_type = \"PA\")"
   ]
  },
  {
   "cell_type": "code",
   "execution_count": 8,
   "metadata": {},
   "outputs": [],
   "source": [
    "null = cf.exponential_smoothing(data, 0.95)\n",
    "error = mean_squared_error(data[-end,:], null)"
   ]
  },
  {
   "cell_type": "code",
   "execution_count": 10,
   "metadata": {},
   "outputs": [
    {
     "data": {
      "text/html": [
       "<iframe id=\"igraph\" scrolling=\"no\" style=\"border:none;\" seamless=\"seamless\" src=\"https://plot.ly/~mohammad5617/8.embed\" height=\"800px\" width=\"800px\"></iframe>"
      ],
      "text/plain": [
       "<chart_studio.tools.PlotlyDisplay object>"
      ]
     },
     "execution_count": 10,
     "metadata": {},
     "output_type": "execute_result"
    }
   ],
   "source": [
    "trace0 = go.Scatter(\n",
    "    x = r,\n",
    "    y = MSE,\n",
    "    name = 'Original data',\n",
    "    line = dict(\n",
    "        color = ('rgb(205, 12, 24)'),\n",
    "        width = 2,)\n",
    ")\n",
    "trace1 = go.Scatter(\n",
    "    x = r,\n",
    "    y = MSE_ds,\n",
    "    name = 'STL decomposition',\n",
    "    line = dict(\n",
    "        color = ('rgb(22, 167, 40)'),\n",
    "        width = 2,\n",
    "        dash = 'dot')\n",
    ")    \n",
    "\n",
    "trace2 = go.Scatter(\n",
    "    x = r,\n",
    "    y = MSE_dsm,\n",
    "    name = 'Phase Averaging',\n",
    "    line = dict(\n",
    "        color = ('rgb(33, 164, 242)'),\n",
    "        width = 4,\n",
    "        dash = 'dash')\n",
    ")\n",
    "\n",
    "trace3 = go.Scatter(\n",
    "    x = r,\n",
    "    y = np.repeat(error, 19),\n",
    "    name = 'Exponential smoothing',\n",
    "    line = dict(\n",
    "        color = ('rgb(100, 10, 240)'),\n",
    "        width = 0.5, \n",
    "        dash = 'longdash')\n",
    ")\n",
    "\n",
    "d = [trace0,trace1, trace2, trace3]\n",
    "    \n",
    "layout = dict(title = 'Models Performance',\n",
    "              height=800,\n",
    "              width = 800,\n",
    "              xaxis = dict(title = 'Thresholds',              \n",
    "              showticklabels=True,\n",
    "              tickmode='linear',\n",
    "              ticks='outside',\n",
    "              tick0=0,\n",
    "              dtick=0.05,),\n",
    "              yaxis = dict(title = 'Mean Square Error',range=[0,200])\n",
    "       )\n",
    "\n",
    "fig = dict(data=d, layout=layout)\n",
    "pio.write_image(fig, 'performance.png')\n",
    "py.iplot(fig, filename='styled-line')\n"
   ]
  },
  {
   "cell_type": "code",
   "execution_count": 10,
   "metadata": {},
   "outputs": [
    {
     "data": {
      "text/html": [
       "<iframe id=\"igraph\" scrolling=\"no\" style=\"border:none;\" seamless=\"seamless\" src=\"https://plot.ly/~mohammad5617/8.embed\" height=\"800px\" width=\"800px\"></iframe>"
      ],
      "text/plain": [
       "<chart_studio.tools.PlotlyDisplay object>"
      ]
     },
     "execution_count": 10,
     "metadata": {},
     "output_type": "execute_result"
    }
   ],
   "source": [
    "trace0 = go.Scatter(\n",
    "    x = r,\n",
    "    y = MSE,\n",
    "    name = 'Original data',\n",
    "    line = dict(\n",
    "        color = ('rgb(205, 12, 24)'),\n",
    "        width = 2,)\n",
    ")\n",
    "trace1 = go.Scatter(\n",
    "    x = r,\n",
    "    y = MSE_ds,\n",
    "    name = 'STL decomposition',\n",
    "    line = dict(\n",
    "        color = ('rgb(22, 167, 40)'),\n",
    "        width = 2,\n",
    "        dash = 'dot')\n",
    ")    \n",
    "\n",
    "trace2 = go.Scatter(\n",
    "    x = r,\n",
    "    y = MSE_dsm,\n",
    "    name = 'Phase Averaging',\n",
    "    line = dict(\n",
    "        color = ('rgb(33, 164, 242)'),\n",
    "        width = 4,\n",
    "        dash = 'dash')\n",
    ")\n",
    "\n",
    "trace3 = go.Scatter(\n",
    "    x = r,\n",
    "    y = np.repeat(error, 19),\n",
    "    name = 'Exponential smoothing',\n",
    "    line = dict(\n",
    "        color = ('rgb(100, 10, 240)'),\n",
    "        width = 0.5, \n",
    "        dash = 'longdash')\n",
    ")\n",
    "\n",
    "d = [trace0,trace1, trace2, trace3]\n",
    "    \n",
    "layout = dict(title = 'Models Performance',\n",
    "              height=800,\n",
    "              width = 800,\n",
    "              xaxis = dict(title = 'Thresholds',              \n",
    "              showticklabels=True,\n",
    "              tickmode='linear',\n",
    "              ticks='outside',\n",
    "              tick0=0,\n",
    "              dtick=0.05,),\n",
    "              yaxis = dict(title = 'Mean Square Error',range=[0,800])\n",
    "       )\n",
    "\n",
    "fig = dict(data=d, layout=layout)\n",
    "pio.write_image(fig, 'performance.png')\n",
    "py.iplot(fig, filename='styled-line')\n"
   ]
  },
  {
   "cell_type": "code",
   "execution_count": 15,
   "metadata": {},
   "outputs": [
    {
     "data": {
      "text/html": [
       "<iframe id=\"igraph\" scrolling=\"no\" style=\"border:none;\" seamless=\"seamless\" src=\"https://plot.ly/~mohammad5617/8.embed\" height=\"800px\" width=\"100%\"></iframe>"
      ],
      "text/plain": [
       "<chart_studio.tools.PlotlyDisplay object>"
      ]
     },
     "execution_count": 15,
     "metadata": {},
     "output_type": "execute_result"
    }
   ],
   "source": [
    "trace0 = go.Scatter(\n",
    "    x = r,\n",
    "    y = MSE,\n",
    "    name = 'MSE of normal data',\n",
    "    line = dict(\n",
    "        color = ('rgb(205, 12, 24)'),\n",
    "        width = 2,)\n",
    ")\n",
    "trace1 = go.Scatter(\n",
    "    x = r,\n",
    "    y = MSE_ds,\n",
    "    name = 'MSE of STL deseasonal data',\n",
    "    line = dict(\n",
    "        color = ('rgb(22, 96, 167)'),\n",
    "        width = 2,\n",
    "        dash = 'dot')\n",
    ")    \n",
    "\n",
    "trace2 = go.Scatter(\n",
    "    x = r,\n",
    "    y = MSE_dsm,\n",
    "    name = 'MSE of monthly deseasonal data',\n",
    "    line = dict(\n",
    "        color = ('rgb(33, 164, 242)'),\n",
    "        width = 4,\n",
    "        dash = 'dash')\n",
    ")\n",
    "\n",
    "d = [trace0, trace1, trace2]\n",
    "    \n",
    "layout = dict(title = 'Comparison of normal and deseasonal data',\n",
    "              height=800,\n",
    "              xaxis = dict(title = 'Thresholds',\n",
    "              showticklabels=True,\n",
    "              tickmode='linear',\n",
    "              ticks='outside',\n",
    "              tick0=0,\n",
    "              dtick=0.05,\n",
    "              ticklen=8,\n",
    "              tickwidth=4,\n",
    "              tickcolor='#000'),\n",
    "              yaxis = dict(title = 'R-squared',\n",
    "              showticklabels=True,\n",
    "              tickmode='linear',\n",
    "              ticks='outside',\n",
    "              tick0=0,\n",
    "             # dtick=0.1,\n",
    "              ticklen=8,\n",
    "              tickwidth=4,\n",
    "              tickcolor='#000')\n",
    "            \n",
    "              )\n",
    "\n",
    "fig = dict(data=d, layout=layout)\n",
    "py.iplot(fig, filename='styled-line')"
   ]
  },
  {
   "cell_type": "code",
   "execution_count": null,
   "metadata": {},
   "outputs": [],
   "source": []
  },
  {
   "cell_type": "code",
   "execution_count": 21,
   "metadata": {},
   "outputs": [
    {
     "data": {
      "text/html": [
       "<iframe id=\"igraph\" scrolling=\"no\" style=\"border:none;\" seamless=\"seamless\" src=\"https://plot.ly/~mohammad5617/8.embed\" height=\"800px\" width=\"100%\"></iframe>"
      ],
      "text/plain": [
       "<chart_studio.tools.PlotlyDisplay object>"
      ]
     },
     "execution_count": 21,
     "metadata": {},
     "output_type": "execute_result"
    }
   ],
   "source": [
    "trace0 = go.Scatter(\n",
    "    x = r,\n",
    "    y = MSE,\n",
    "    name = 'MSE of normal data',\n",
    "    line = dict(\n",
    "        color = ('rgb(205, 12, 24)'),\n",
    "        width = 2,)\n",
    ")\n",
    "trace1 = go.Scatter(\n",
    "    x = r,\n",
    "    y = MSE_ds,\n",
    "    name = 'MSE of STL deseasonal data',\n",
    "    line = dict(\n",
    "        color = ('rgb(22, 96, 167)'),\n",
    "        width = 2,\n",
    "        dash = 'dot')\n",
    ")    \n",
    "\n",
    "trace2 = go.Scatter(\n",
    "    x = r,\n",
    "    y = MSE_dsm,\n",
    "    name = 'MSE of monthly deseasonal data',\n",
    "    line = dict(\n",
    "        color = ('rgb(33, 164, 242)'),\n",
    "        width = 4,\n",
    "        dash = 'dash')\n",
    ")\n",
    "\n",
    "d = [trace0, trace1, trace2]\n",
    "    \n",
    "layout = dict(title = 'Comparison of normal and deseasonal data',\n",
    "              height=800,\n",
    "              xaxis = dict(title = 'Thresholds',\n",
    "              showticklabels=True,\n",
    "              tickmode='linear',\n",
    "              ticks='outside',\n",
    "              tick0=0,\n",
    "              dtick=0.05,\n",
    "              ticklen=8,\n",
    "              tickwidth=4,\n",
    "              tickcolor='#000'),\n",
    "              yaxis = dict(title = 'R-squared',\n",
    "              showticklabels=True,\n",
    "\n",
    "              tickmode='linear',\n",
    "              ticks='outside',\n",
    "              tick0=0,\n",
    "              dtick=0.1,\n",
    "              ticklen=8,\n",
    "              tickwidth=4,\n",
    "              tickcolor='#000'),\n",
    "       )\n",
    "\n",
    "fig = dict(data=d, layout=layout)\n",
    "py.iplot(fig, filename='styled-line')"
   ]
  },
  {
   "cell_type": "code",
   "execution_count": 11,
   "metadata": {},
   "outputs": [
    {
     "data": {
      "text/html": [
       "<iframe id=\"igraph\" scrolling=\"no\" style=\"border:none;\" seamless=\"seamless\" src=\"https://plot.ly/~mohammad5617/8.embed\" height=\"525px\" width=\"100%\"></iframe>"
      ],
      "text/plain": [
       "<chart_studio.tools.PlotlyDisplay object>"
      ]
     },
     "execution_count": 11,
     "metadata": {},
     "output_type": "execute_result"
    }
   ],
   "source": [
    "trace0 = go.Scatter(\n",
    "    x = r,\n",
    "    y = average_shortest_path_length,\n",
    "    name = 'Average Shortest Path of normal data',\n",
    "    line = dict(\n",
    "        color = ('rgb(205, 12, 24)'),\n",
    "        width = 2)\n",
    ")\n",
    "trace1 = go.Scatter(\n",
    "    x = r,\n",
    "    y = average_shortest_path_length_ds,\n",
    "    name = 'Average Shortest Path of deseasonal data',\n",
    "    line = dict(\n",
    "        color = ('rgb(22, 96, 167)'),\n",
    "        width = 2,)\n",
    ") \n",
    "\n",
    "trace2 = go.Scatter(\n",
    "    x = r,\n",
    "    y = average_shortest_path_length_dsm,\n",
    "    name = 'Average Shortest Path of deseasonal data',\n",
    "    line = dict(\n",
    "        color = ('rgb(33, 164, 242)'),\n",
    "        width = 2,\n",
    "    dash = 'dash')\n",
    ")\n",
    " \n",
    "d = [trace0, trace1, trace2]\n",
    "    \n",
    "layout = dict(title = 'Comparison of Average Shortest Path',\n",
    "              xaxis = dict(title = 'Thresholds'),\n",
    "              yaxis = dict(title = 'Average Shortest Path'),\n",
    " #             shapes = [\n",
    " #       {\n",
    " #           'type': 'line',\n",
    " #           'x0': 0.35,\n",
    " #           'y0': 0,\n",
    " #           'x1': 0.35,\n",
    " #           'y1': 3.5,\n",
    "  #          'line': {\n",
    "   #             'color': 'rgb(0, 0, 0)',\n",
    "   #             'width': 0.5,\n",
    "   #         },\n",
    "    #    }]\n",
    "              )\n",
    "\n",
    "fig = dict(data=d, layout=layout)\n",
    "py.iplot(fig, filename='styled-line')"
   ]
  },
  {
   "cell_type": "code",
   "execution_count": 13,
   "metadata": {},
   "outputs": [
    {
     "data": {
      "text/html": [
       "<iframe id=\"igraph\" scrolling=\"no\" style=\"border:none;\" seamless=\"seamless\" src=\"https://plot.ly/~mohammad5617/8.embed\" height=\"525px\" width=\"100%\"></iframe>"
      ],
      "text/plain": [
       "<chart_studio.tools.PlotlyDisplay object>"
      ]
     },
     "execution_count": 13,
     "metadata": {},
     "output_type": "execute_result"
    }
   ],
   "source": [
    "trace0 = go.Scatter(\n",
    "    x = r,\n",
    "    y = average_betweennes,\n",
    "    name = 'Average Betweenness of normal data',\n",
    "    line = dict(\n",
    "        color = ('rgb(205, 12, 24)'),\n",
    "        width = 2)\n",
    ")\n",
    "trace1 = go.Scatter(\n",
    "    x = r,\n",
    "    y = average_betweennes_ds,\n",
    "    name = 'Average Betweenness of STL deseasonal data',\n",
    "    line = dict(\n",
    "        color = ('rgb(22, 96, 167)'),\n",
    "        width = 2,)\n",
    ")    \n",
    "trace2 = go.Scatter(\n",
    "    x = r,\n",
    "    y = average_betweennes_dsm,\n",
    "    name = 'Average Betweenness of Anomalydeseasonal data',\n",
    "    line = dict(\n",
    "        color = ('rgb(33, 164, 242)'),\n",
    "        width = 2,\n",
    "    dash = 'dash')\n",
    ")\n",
    "d = [trace0, trace1, trace2]\n",
    "    \n",
    "layout = dict(title = 'Comparison of Betweenness',\n",
    "              xaxis = dict(title = 'Thresholds'),\n",
    "              yaxis = dict(title = 'Average Betweennes'),\n",
    "              )\n",
    "\n",
    "fig = dict(data=d, layout=layout)\n",
    "py.iplot(fig, filename='styled-line')"
   ]
  },
  {
   "cell_type": "code",
   "execution_count": 14,
   "metadata": {},
   "outputs": [],
   "source": [
    "density = np.array(density)\n",
    "density_ds = np.array(density_ds)\n",
    "density_dm = np.array(density_dm)"
   ]
  },
  {
   "cell_type": "code",
   "execution_count": 15,
   "metadata": {},
   "outputs": [
    {
     "data": {
      "text/html": [
       "<iframe id=\"igraph\" scrolling=\"no\" style=\"border:none;\" seamless=\"seamless\" src=\"https://plot.ly/~mohammad5617/8.embed\" height=\"525px\" width=\"100%\"></iframe>"
      ],
      "text/plain": [
       "<chart_studio.tools.PlotlyDisplay object>"
      ]
     },
     "execution_count": 15,
     "metadata": {},
     "output_type": "execute_result"
    }
   ],
   "source": [
    "trace0 = go.Scatter(\n",
    "    x = r,\n",
    "    y = density,\n",
    "    name = 'confidence of normal data',\n",
    "    line = dict(\n",
    "        color = ('rgb(205, 12, 24)'),\n",
    "        width = 2)\n",
    ")\n",
    "trace1 = go.Scatter(\n",
    "    x = r,\n",
    "    y = density_ds,\n",
    "    name = 'confidence of deseasonal data',\n",
    "    line = dict(\n",
    "        color = ('rgb(22, 96, 167)'),\n",
    "        width = 2,)\n",
    ") \n",
    "trace2 = go.Scatter(\n",
    "    x = r,\n",
    "    y = density_ds,\n",
    "    name = 'confidence of deseasonal data',\n",
    "    line = dict(\n",
    "        color = ('rgb(22, 196, 067)'),\n",
    "        width = 2,)\n",
    ")\n",
    "d = [trace0, trace1, trace2]\n",
    "    \n",
    "\n",
    "layout = dict(title = 'Comparison of Confidence',\n",
    "              xaxis = dict(title = 'Thresholds',\n",
    "              showticklabels=True,\n",
    "              tickmode='linear',\n",
    "              ticks='outside',\n",
    "              tick0=0,\n",
    "              dtick=0.05,\n",
    "              ticklen=8,\n",
    "              tickwidth=4,\n",
    "              tickcolor='#000'),\n",
    "              yaxis = dict(title = 'Confidence',\n",
    "              showticklabels=True,\n",
    "              tickmode='linear',\n",
    "              ticks='outside',\n",
    "              tick0=0,\n",
    "              dtick=0.1,\n",
    "              ticklen=8,\n",
    "              tickwidth=4,\n",
    "              tickcolor='#000')\n",
    "              )\n",
    "\n",
    "fig = dict(data=d, layout=layout)\n",
    "py.iplot(fig, filename='styled-line')"
   ]
  },
  {
   "cell_type": "markdown",
   "metadata": {},
   "source": [
    "# Neural Network"
   ]
  },
  {
   "cell_type": "code",
   "execution_count": 78,
   "metadata": {},
   "outputs": [],
   "source": [
    "data = pr[16:23,10:16,:]\n",
    "data = cf.unflatten(data)\n",
    "data = np.swapaxes(data,0,1)"
   ]
  },
  {
   "cell_type": "code",
   "execution_count": 79,
   "metadata": {},
   "outputs": [],
   "source": [
    "R2, MSE, average_betweennes, average_shortest_path_length, error, null_r2, density = cf.model(data,\"NN\",\"normal\")\n",
    "\n",
    "data_deseasonal= cf.deseasonal_STL(data)\n",
    "R2_ds, MSE_ds, average_betweennes_ds, average_shortest_path_length_ds, error_ds, null_r2_ds, density_ds = cf.model(data_deseasonal,\"NN\",\"normal\")\n",
    "\n",
    "data_deseasonal_monthly= cf.deseasonal_monthly_anomaly(data)\n",
    "R2_dsm, MSE_dsm, average_betweennes_dsm, average_shortest_path_length_dsm, error_dsm, null_r2_dsm, density_dm = cf.model(data_deseasonal_monthly,\"NN\",\"normal\")\n"
   ]
  },
  {
   "cell_type": "code",
   "execution_count": 80,
   "metadata": {},
   "outputs": [
    {
     "data": {
      "text/html": [
       "<iframe id=\"igraph\" scrolling=\"no\" style=\"border:none;\" seamless=\"seamless\" src=\"https://plot.ly/~mohammad5617/8.embed\" height=\"525px\" width=\"100%\"></iframe>"
      ],
      "text/plain": [
       "<chart_studio.tools.PlotlyDisplay object>"
      ]
     },
     "execution_count": 80,
     "metadata": {},
     "output_type": "execute_result"
    }
   ],
   "source": [
    "trace0 = go.Scatter(\n",
    "    x = r,\n",
    "    y = R2,\n",
    "    name = 'R2 of normal data',\n",
    "    line = dict(\n",
    "        color = ('rgb(205, 12, 24)'),\n",
    "        width = 2,)\n",
    ")\n",
    "trace1 = go.Scatter(\n",
    "    x = r,\n",
    "    y = R2_ds,\n",
    "    name = 'R2 of STL deseasonal data',\n",
    "    line = dict(\n",
    "        color = ('rgb(22, 96, 167)'),\n",
    "        width = 2,\n",
    "        dash = 'dot')\n",
    ")    \n",
    "\n",
    "trace2 = go.Scatter(\n",
    "    x = r,\n",
    "    y = R2_dsm,\n",
    "    name = 'R2 of monthly deseasonal data',\n",
    "    line = dict(\n",
    "        color = ('rgb(33, 164, 242)'),\n",
    "        width = 4,\n",
    "        dash = 'dash')\n",
    ")\n",
    "\n",
    "d = [trace0, trace1]\n",
    "    \n",
    "layout = dict(title = 'Comparison of normal and deseasonal data',\n",
    "              xaxis = dict(title = 'Thresholds',\n",
    "              showticklabels=True,\n",
    "              tickmode='linear',\n",
    "              ticks='outside',\n",
    "              tick0=0,\n",
    "              dtick=0.05,\n",
    "              ticklen=8,\n",
    "              tickwidth=4,\n",
    "              tickcolor='#000'),\n",
    "              yaxis = dict(title = 'R-squared',\n",
    "              showticklabels=True,\n",
    "              tickmode='linear',\n",
    "              ticks='outside',\n",
    "              tick0=0,\n",
    "              dtick=0.1,\n",
    "              ticklen=8,\n",
    "              tickwidth=4,\n",
    "              tickcolor='#000'),\n",
    "              )\n",
    "\n",
    "fig = dict(data=d, layout=layout)\n",
    "py.iplot(fig, filename='styled-line')"
   ]
  },
  {
   "cell_type": "markdown",
   "metadata": {},
   "source": [
    "# Random Forest"
   ]
  },
  {
   "cell_type": "code",
   "execution_count": 17,
   "metadata": {},
   "outputs": [],
   "source": [
    "data = pr[16:23,10:16,:]\n",
    "data = cf.unflatten(data)\n",
    "data = np.swapaxes(data,0,1)"
   ]
  },
  {
   "cell_type": "code",
   "execution_count": 19,
   "metadata": {},
   "outputs": [],
   "source": [
    "MSE, average_betweennes, average_shortest_path_length,density,b = cf.model(data,\"RF\",\"normal\")\n",
    "\n",
    "\n",
    "MSE_ds, average_betweennes_ds, average_shortest_path_length_ds, density_ds,b = cf.model(data,\"RF\",\"normal\",data_type = \"STL\")\n",
    "\n",
    "MSE_dsm, average_betweennes_dsm, average_shortest_path_length_dsm, density_dm,b = cf.model(data,\"RF\",\"normal\",data_type = \"PA\")"
   ]
  },
  {
   "cell_type": "code",
   "execution_count": 26,
   "metadata": {
    "scrolled": true
   },
   "outputs": [
    {
     "data": {
      "text/html": [
       "<iframe id=\"igraph\" scrolling=\"no\" style=\"border:none;\" seamless=\"seamless\" src=\"https://plot.ly/~mohammad5617/8.embed\" height=\"800px\" width=\"800px\"></iframe>"
      ],
      "text/plain": [
       "<chart_studio.tools.PlotlyDisplay object>"
      ]
     },
     "execution_count": 26,
     "metadata": {},
     "output_type": "execute_result"
    }
   ],
   "source": [
    "trace0 = go.Scatter(\n",
    "    x = r,\n",
    "    y = MSE,\n",
    "    name = 'Original data',\n",
    "    line = dict(\n",
    "        color = ('rgb(205, 12, 24)'),\n",
    "        width = 2,)\n",
    ")\n",
    "trace1 = go.Scatter(\n",
    "    x = r,\n",
    "    y = MSE_ds,\n",
    "    name = 'STL decomposition',\n",
    "    line = dict(\n",
    "        color = ('rgb(22, 167, 40)'),\n",
    "        width = 2,\n",
    "        dash = 'dot')\n",
    ")    \n",
    "\n",
    "trace2 = go.Scatter(\n",
    "    x = r,\n",
    "    y = MSE_dsm,\n",
    "    name = 'Phase Averaging',\n",
    "    line = dict(\n",
    "        color = ('rgb(33, 164, 242)'),\n",
    "        width = 4,\n",
    "        dash = 'dash')\n",
    ")\n",
    "\n",
    "trace3 = go.Scatter(\n",
    "    x = r,\n",
    "    y = np.repeat(error, 19),\n",
    "    name = 'Exponential smoothing',\n",
    "    line = dict(\n",
    "        color = ('rgb(100, 10, 240)'),\n",
    "        width = 0.5, \n",
    "        dash = 'longdash')\n",
    ")\n",
    "\n",
    "d = [trace0,trace1, trace2, trace3]\n",
    "    \n",
    "layout = dict(title = 'Models Performance',\n",
    "              height=800,\n",
    "              width = 800,\n",
    "              xaxis = dict(title = 'Thresholds',              \n",
    "              showticklabels=True,\n",
    "              tickmode='linear',\n",
    "              ticks='outside',\n",
    "              tick0=0,\n",
    "              dtick=0.05,),\n",
    "              yaxis = dict(title = 'Mean Square Error',range=[100,800])\n",
    "       )\n",
    "\n",
    "fig = dict(data=d, layout=layout)\n",
    "pio.write_image(fig, 'performance_RF.png')\n",
    "py.iplot(fig, filename='styled-line')\n"
   ]
  },
  {
   "cell_type": "code",
   "execution_count": null,
   "metadata": {},
   "outputs": [],
   "source": []
  },
  {
   "cell_type": "code",
   "execution_count": null,
   "metadata": {},
   "outputs": [],
   "source": []
  },
  {
   "cell_type": "code",
   "execution_count": 33,
   "metadata": {},
   "outputs": [],
   "source": [
    "data = pr[16:23,10:16,:]\n",
    "data = cf.unflatten(data)\n",
    "data = np.swapaxes(data,0,1)"
   ]
  },
  {
   "cell_type": "code",
   "execution_count": 34,
   "metadata": {},
   "outputs": [],
   "source": [
    "r = np.arange(0.1,1,0.05)\n",
    "df = cf.feature_importance(data)"
   ]
  },
  {
   "cell_type": "code",
   "execution_count": 35,
   "metadata": {},
   "outputs": [
    {
     "data": {
      "text/html": [
       "<iframe id=\"igraph\" scrolling=\"no\" style=\"border:none;\" seamless=\"seamless\" src=\"https://plot.ly/~mohammad5617/8.embed\" height=\"525px\" width=\"100%\"></iframe>"
      ],
      "text/plain": [
       "<chart_studio.tools.PlotlyDisplay object>"
      ]
     },
     "execution_count": 35,
     "metadata": {},
     "output_type": "execute_result"
    }
   ],
   "source": [
    "trace0 = go.Scatter(\n",
    "    x = r,\n",
    "    y = df['degree'],\n",
    "    name = 'degree',\n",
    "    line = dict(\n",
    "        color = ('rgb(205, 12, 24)'),\n",
    "        width = 2,\n",
    "    dash = 'solid')\n",
    ")\n",
    " \n",
    "trace2 = go.Scatter(\n",
    "    x = r,\n",
    "    y = df['closseness'],\n",
    "    name = 'closseness',\n",
    "    line = dict(\n",
    "        color = ('rgb(33, 164, 242)'),\n",
    "        width = 4,\n",
    "        dash = 'dash')\n",
    ")\n",
    "\n",
    "trace3 = go.Scatter(\n",
    "    x = r,\n",
    "    y = df['kcore'],\n",
    "    name = 'kcore',\n",
    "    line = dict(\n",
    "        color = ('rgb(202, 125, 68)'),\n",
    "        width = 4,\n",
    "        dash = 'dot')\n",
    ")\n",
    "trace4 = go.Scatter(\n",
    "    x = r,\n",
    "    y = df['betweeness'],\n",
    "    name = 'betweeness',\n",
    "    line = dict(\n",
    "        color = ('rgb(105, 184, 68)'),\n",
    "        width = 4,\n",
    "        dash = 'dashdot')\n",
    ")\n",
    "trace5 = go.Scatter(\n",
    "    x = r,\n",
    "    y = df['pagerank'],\n",
    "    name = 'pagerank',\n",
    "    line = dict(\n",
    "        color = ('rgb(3, 1, 5)'),\n",
    "        width = 4,\n",
    "        dash = 'longdashdot')\n",
    ")\n",
    "trace6 = go.Scatter(\n",
    "    x = r,\n",
    "    y = df['eigenvector'],\n",
    "    name = 'eigenvector',\n",
    "    line = dict(\n",
    "        color = ('rgb(239, 38, 205)'),\n",
    "        width = 4,\n",
    "        dash = 'longdash')\n",
    ")\n",
    "trace7 = go.Scatter(\n",
    "    x = r,\n",
    "    y = df['clustering'],\n",
    "    name = 'clustering',\n",
    "    line = dict(\n",
    "        color = ('rgb(248, 215, 34)'),\n",
    "        width = 4,\n",
    "        dash = 'dash')\n",
    ")\n",
    "d = [trace0, trace2, trace3, trace4, trace5, trace6, trace7]\n",
    "\n",
    "layout = dict(title = 'Features Importance using Original Data',\n",
    "              xaxis = dict(title = 'Thresholds',\n",
    "              showticklabels=True,\n",
    "              tickmode='linear',\n",
    "              ticks='outside',\n",
    "              tick0=0,\n",
    "              dtick=0.05,\n",
    "              ticklen=8,\n",
    "              tickwidth=4,\n",
    "              tickcolor='#000'),\n",
    "              yaxis = dict(title = 'Importance',\n",
    "              showticklabels=True,\n",
    "              tickmode='linear',\n",
    "              ticks='outside',\n",
    "              tick0=0,\n",
    "              dtick=1,\n",
    "              ticklen=8,\n",
    "              tickwidth=4,\n",
    "              tickcolor='#000'),\n",
    "              )\n",
    "\n",
    "fig = dict(data=d, layout=layout)\n",
    "py.iplot(fig, filename='styled-line')"
   ]
  },
  {
   "cell_type": "code",
   "execution_count": 36,
   "metadata": {},
   "outputs": [],
   "source": [
    "data = pr[16:23,10:16,:]\n",
    "data = cf.unflatten(data)\n",
    "data = np.swapaxes(data,0,1)"
   ]
  },
  {
   "cell_type": "code",
   "execution_count": 38,
   "metadata": {},
   "outputs": [
    {
     "data": {
      "text/html": [
       "<iframe id=\"igraph\" scrolling=\"no\" style=\"border:none;\" seamless=\"seamless\" src=\"https://plot.ly/~mohammad5617/8.embed\" height=\"525px\" width=\"100%\"></iframe>"
      ],
      "text/plain": [
       "<chart_studio.tools.PlotlyDisplay object>"
      ]
     },
     "execution_count": 38,
     "metadata": {},
     "output_type": "execute_result"
    }
   ],
   "source": [
    "data_deseasonal, data_seasonal= cf.deseasonal_STL(data)\n",
    "df = cf.feature_importance(data_deseasonal)\n",
    "\n",
    "trace0 = go.Scatter(\n",
    "    x = r,\n",
    "    y = df['degree'],\n",
    "    name = 'degree',\n",
    "    line = dict(\n",
    "        color = ('rgb(205, 12, 24)'),\n",
    "        width = 2,\n",
    "    dash = 'solid')\n",
    ")\n",
    " \n",
    "trace2 = go.Scatter(\n",
    "    x = r,\n",
    "    y = df['closseness'],\n",
    "    name = 'closseness',\n",
    "    line = dict(\n",
    "        color = ('rgb(33, 164, 242)'),\n",
    "        width = 4,\n",
    "        dash = 'dash')\n",
    ")\n",
    "\n",
    "trace3 = go.Scatter(\n",
    "    x = r,\n",
    "    y = df['kcore'],\n",
    "    name = 'kcore',\n",
    "    line = dict(\n",
    "        color = ('rgb(202, 125, 68)'),\n",
    "        width = 4,\n",
    "        dash = 'dot')\n",
    ")\n",
    "trace4 = go.Scatter(\n",
    "    x = r,\n",
    "    y = df['betweeness'],\n",
    "    name = 'betweeness',\n",
    "    line = dict(\n",
    "        color = ('rgb(105, 184, 68)'),\n",
    "        width = 4,\n",
    "        dash = 'dashdot')\n",
    ")\n",
    "trace5 = go.Scatter(\n",
    "    x = r,\n",
    "    y = df['pagerank'],\n",
    "    name = 'pagerank',\n",
    "    line = dict(\n",
    "        color = ('rgb(3, 1, 5)'),\n",
    "        width = 4,\n",
    "        dash = 'longdashdot')\n",
    ")\n",
    "trace6 = go.Scatter(\n",
    "    x = r,\n",
    "    y = df['eigenvector'],\n",
    "    name = 'eigenvector',\n",
    "    line = dict(\n",
    "        color = ('rgb(239, 38, 205)'),\n",
    "        width = 4,\n",
    "        dash = 'longdash')\n",
    ")\n",
    "trace7 = go.Scatter(\n",
    "    x = r,\n",
    "    y = df['clustering'],\n",
    "    name = 'clustering',\n",
    "    line = dict(\n",
    "        color = ('rgb(248, 215, 34)'),\n",
    "        width = 4,\n",
    "        dash = 'dash')\n",
    ")\n",
    "d = [trace0, trace2, trace3, trace4, trace5, trace6, trace7]\n",
    "\n",
    "layout = dict(title = 'Features Importance using STL deseasonal Data',\n",
    "              xaxis = dict(title = 'Thresholds',\n",
    "              showticklabels=True,\n",
    "              tickmode='linear',\n",
    "              ticks='outside',\n",
    "              tick0=0,\n",
    "              dtick=0.05,\n",
    "              ticklen=8,\n",
    "              tickwidth=4,\n",
    "              tickcolor='#000'),\n",
    "              yaxis = dict(title = 'Importance',\n",
    "              showticklabels=True,\n",
    "              tickmode='linear',\n",
    "              ticks='outside',\n",
    "              tick0=0,\n",
    "              dtick=1,\n",
    "              ticklen=8,\n",
    "              tickwidth=4,\n",
    "              tickcolor='#000'),\n",
    "              )\n",
    "\n",
    "fig = dict(data=d, layout=layout)\n",
    "py.iplot(fig, filename='styled-line')"
   ]
  },
  {
   "cell_type": "code",
   "execution_count": 41,
   "metadata": {},
   "outputs": [],
   "source": [
    "data = pr[16:23,10:16,:]\n",
    "data = cf.unflatten(data)\n",
    "data = np.swapaxes(data,0,1)"
   ]
  },
  {
   "cell_type": "code",
   "execution_count": 42,
   "metadata": {},
   "outputs": [
    {
     "data": {
      "text/html": [
       "<iframe id=\"igraph\" scrolling=\"no\" style=\"border:none;\" seamless=\"seamless\" src=\"https://plot.ly/~mohammad5617/8.embed\" height=\"525px\" width=\"100%\"></iframe>"
      ],
      "text/plain": [
       "<chart_studio.tools.PlotlyDisplay object>"
      ]
     },
     "execution_count": 42,
     "metadata": {},
     "output_type": "execute_result"
    }
   ],
   "source": [
    "data_deseasonal, data_seasonal= cf.deseasonal_monthly_anomaly(data)\n",
    "df = cf.feature_importance(data_deseasonal)\n",
    "\n",
    "trace0 = go.Scatter(\n",
    "    x = r,\n",
    "    y = df['degree'],\n",
    "    name = 'degree',\n",
    "    line = dict(\n",
    "        color = ('rgb(205, 12, 24)'),\n",
    "        width = 2,\n",
    "    dash = 'solid')\n",
    ")\n",
    " \n",
    "trace2 = go.Scatter(\n",
    "    x = r,\n",
    "    y = df['closseness'],\n",
    "    name = 'closseness',\n",
    "    line = dict(\n",
    "        color = ('rgb(33, 164, 242)'),\n",
    "        width = 4,\n",
    "        dash = 'dash')\n",
    ")\n",
    "\n",
    "trace3 = go.Scatter(\n",
    "    x = r,\n",
    "    y = df['kcore'],\n",
    "    name = 'kcore',\n",
    "    line = dict(\n",
    "        color = ('rgb(202, 125, 68)'),\n",
    "        width = 4,\n",
    "        dash = 'dot')\n",
    ")\n",
    "trace4 = go.Scatter(\n",
    "    x = r,\n",
    "    y = df['betweeness'],\n",
    "    name = 'betweeness',\n",
    "    line = dict(\n",
    "        color = ('rgb(105, 184, 68)'),\n",
    "        width = 4,\n",
    "        dash = 'dashdot')\n",
    ")\n",
    "trace5 = go.Scatter(\n",
    "    x = r,\n",
    "    y = df['pagerank'],\n",
    "    name = 'pagerank',\n",
    "    line = dict(\n",
    "        color = ('rgb(3, 1, 5)'),\n",
    "        width = 4,\n",
    "        dash = 'longdashdot')\n",
    ")\n",
    "trace6 = go.Scatter(\n",
    "    x = r,\n",
    "    y = df['eigenvector'],\n",
    "    name = 'eigenvector',\n",
    "    line = dict(\n",
    "        color = ('rgb(239, 38, 205)'),\n",
    "        width = 4,\n",
    "        dash = 'longdash')\n",
    ")\n",
    "trace7 = go.Scatter(\n",
    "    x = r,\n",
    "    y = df['clustering'],\n",
    "    name = 'clustering',\n",
    "    line = dict(\n",
    "        color = ('rgb(248, 215, 34)'),\n",
    "        width = 4,\n",
    "        dash = 'dash')\n",
    ")\n",
    "d = [trace0, trace2, trace3, trace4, trace5, trace6, trace7]\n",
    "\n",
    "layout = dict(title = 'Features Importance using Anomaly deseasonal Data',\n",
    "              xaxis = dict(title = 'Thresholds',\n",
    "              showticklabels=True,\n",
    "              tickmode='linear',\n",
    "              ticks='outside',\n",
    "              tick0=0,\n",
    "              dtick=0.05,\n",
    "              ticklen=8,\n",
    "              tickwidth=4,\n",
    "              tickcolor='#000'),\n",
    "              yaxis = dict(title = 'Importance',\n",
    "              showticklabels=True,\n",
    "              tickmode='linear',\n",
    "              ticks='outside',\n",
    "              tick0=0,\n",
    "              dtick=1,\n",
    "              ticklen=8,\n",
    "              tickwidth=4,\n",
    "              tickcolor='#000'),\n",
    "              )\n",
    "\n",
    "fig = dict(data=d, layout=layout)\n",
    "py.iplot(fig, filename='styled-line')"
   ]
  },
  {
   "cell_type": "code",
   "execution_count": null,
   "metadata": {},
   "outputs": [],
   "source": []
  },
  {
   "cell_type": "code",
   "execution_count": null,
   "metadata": {},
   "outputs": [],
   "source": []
  },
  {
   "cell_type": "code",
   "execution_count": null,
   "metadata": {},
   "outputs": [],
   "source": []
  },
  {
   "cell_type": "code",
   "execution_count": null,
   "metadata": {},
   "outputs": [],
   "source": []
  },
  {
   "cell_type": "code",
   "execution_count": null,
   "metadata": {},
   "outputs": [],
   "source": []
  },
  {
   "cell_type": "code",
   "execution_count": 8,
   "metadata": {},
   "outputs": [
    {
     "data": {
      "text/html": [
       "<iframe id=\"igraph\" scrolling=\"no\" style=\"border:none;\" seamless=\"seamless\" src=\"https://plot.ly/~mohammad5617/6.embed\" height=\"525px\" width=\"100%\"></iframe>"
      ],
      "text/plain": [
       "<chart_studio.tools.PlotlyDisplay object>"
      ]
     },
     "execution_count": 8,
     "metadata": {},
     "output_type": "execute_result"
    }
   ],
   "source": [
    "trace = go.Scatter(\n",
    "    x = r,\n",
    "    y = MSE\n",
    ")\n",
    "\n",
    "data = [trace]\n",
    "layout = {}\n",
    "fig = go.Figure(data = data, layout = layout)\n",
    "py.iplot(fig, filename='line-mode')"
   ]
  },
  {
   "cell_type": "code",
   "execution_count": null,
   "metadata": {},
   "outputs": [],
   "source": []
  }
 ],
 "metadata": {
  "kernelspec": {
   "display_name": "Python 3",
   "language": "python",
   "name": "python3"
  },
  "language_info": {
   "codemirror_mode": {
    "name": "ipython",
    "version": 3
   },
   "file_extension": ".py",
   "mimetype": "text/x-python",
   "name": "python",
   "nbconvert_exporter": "python",
   "pygments_lexer": "ipython3",
   "version": "3.6.8"
  }
 },
 "nbformat": 4,
 "nbformat_minor": 2
}
