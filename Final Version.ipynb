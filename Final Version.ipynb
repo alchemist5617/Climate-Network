{
 "cells": [
  {
   "cell_type": "code",
   "execution_count": 1,
   "metadata": {},
   "outputs": [
    {
     "name": "stderr",
     "output_type": "stream",
     "text": [
      "/home/mathsys2/anaconda3/lib/python3.6/site-packages/sklearn/ensemble/weight_boosting.py:29: DeprecationWarning: numpy.core.umath_tests is an internal NumPy module and should not be imported. It will be removed in a future NumPy release.\n",
      "  from numpy.core.umath_tests import inner1d\n"
     ]
    }
   ],
   "source": [
    "import climate_functions as cf\n",
    "import numpy as np\n",
    "import synthetic_data as sd\n",
    "import network_builder as nb\n",
    "import networkx as nx\n",
    "from sklearn.neural_network import MLPRegressor\n",
    "from sklearn.metrics import r2_score\n",
    "from sklearn.ensemble import RandomForestRegressor\n",
    "#from fastdtw import fastdtw\n",
    "#from dtaidistance import dtw\n",
    "#from dtaidistance import dtw_visualisation as dtwvis\n",
    "#from dtaidistance import clustering\n",
    "from sklearn.metrics import mean_squared_error\n",
    "import matplotlib.pyplot as plt\n",
    "import seaborn as sns\n",
    "from sklearn import linear_model\n",
    "sns.set()\n",
    "import random\n",
    "import pandas as pd\n",
    "from netCDF4 import Dataset\n",
    "from stldecompose import decompose, forecast\n",
    "import folium\n",
    "import math\n",
    "import scipy.stats as st\n",
    "#import cufflinks as cf\n",
    "import plotly \n",
    "import plotly.plotly as py\n",
    "import plotly.graph_objs as go\n",
    "plotly.tools.set_credentials_file(username='mohammad5617', api_key='yElRsXEjk0sRoqCmfVBn')"
   ]
  },
  {
   "cell_type": "code",
   "execution_count": 19,
   "metadata": {},
   "outputs": [],
   "source": [
    "f_pre = Dataset('precipitation.nc')\n",
    "pr = f_pre.variables['precip']\n",
    "lon = f_pre.variables['lon'][:]\n",
    "lat = f_pre.variables['lat'][:]\n",
    "pr = np.swapaxes(pr,0,2)"
   ]
  },
  {
   "cell_type": "code",
   "execution_count": 42,
   "metadata": {},
   "outputs": [],
   "source": [
    "#data = pr[10:22,3:11,:]\n",
    "data = pr[16:23,10:16,:]\n",
    "data = cf.unflatten(data)\n",
    "data = np.swapaxes(data,0,1)"
   ]
  },
  {
   "cell_type": "code",
   "execution_count": 43,
   "metadata": {},
   "outputs": [],
   "source": [
    "r = np.arange(0.1,1,0.05)"
   ]
  },
  {
   "cell_type": "code",
   "execution_count": 44,
   "metadata": {},
   "outputs": [],
   "source": [
    "data_deseasonal= cf.deseasonal_STL(data)\n",
    "data = pr[16:23,10:16,:]\n",
    "data = cf.unflatten(data)\n",
    "data = np.swapaxes(data,0,1)\n",
    "data_deseasonal_monthly= cf.deseasonal_monthly_anomaly(data)\n",
    "data = pr[16:23,10:16,:]\n",
    "data = cf.unflatten(data)\n",
    "data = np.swapaxes(data,0,1)\n",
    "MSEds_list = []\n",
    "r2ds_list = []\n",
    "MSE_list = []\n",
    "r2_list = []\n",
    "MSEdm_list = []\n",
    "r2dm_list = []\n",
    "null_list =[]\n",
    "nullds_list = []\n",
    "nulldm_list = []\n",
    "for i in range(200,1,-10):\n",
    "    R2_ds, MSE_ds, average_betweennes_ds, average_shortest_path_length_ds, error_ds, null_r2_ds = cf.model(data_deseasonal,\"LR\",\"normal\",start=i+300,end=i)\n",
    "    MSEds_list.append(MSE_ds)\n",
    "    r2ds_list.append(R2_ds)\n",
    "    nullds_list.append(null_r2_ds)\n",
    "    R2, MSE, average_betweennes, average_shortest_path_length, error, null_r2 = cf.model(data,\"LR\",\"normal\",start=i+300,end=i)\n",
    "    MSE_list.append(MSE)\n",
    "    r2_list.append(R2)\n",
    "    null_list.append(null_r2)\n",
    "    R2_dm, MSE_dm, average_betweennes_dm, average_shortest_path_length_dm, error_dm, null_r2_dm = cf.model(data_deseasonal_monthly,\"LR\",\"normal\",start=i+300,end=i)\n",
    "    MSEdm_list.append(MSE_dm)\n",
    "    r2dm_list.append(R2_dm)\n",
    "    nulldm_list.append(null_r2_dm)"
   ]
  },
  {
   "cell_type": "code",
   "execution_count": 55,
   "metadata": {},
   "outputs": [],
   "source": [
    "nullr2 = np.mean(nullds_list)"
   ]
  },
  {
   "cell_type": "code",
   "execution_count": 59,
   "metadata": {},
   "outputs": [
    {
     "data": {
      "text/plain": [
       "0.682158346416158"
      ]
     },
     "execution_count": 59,
     "metadata": {},
     "output_type": "execute_result"
    }
   ],
   "source": [
    "nullr2"
   ]
  },
  {
   "cell_type": "code",
   "execution_count": 46,
   "metadata": {},
   "outputs": [],
   "source": [
    "f = np.matrix(r2_list).mean(axis=0)\n",
    "r2_list = np.reshape(f,(18,1))\n",
    "\n",
    "f1 = np.matrix(r2ds_list).mean(axis=0)\n",
    "r2ds_list = np.reshape(f1,(18,1))\n",
    "\n",
    "f2 = np.matrix(r2dm_list).mean(axis=0)\n",
    "r2dm_list = np.reshape(f2,(18,1))\n",
    "\n"
   ]
  },
  {
   "cell_type": "code",
   "execution_count": 66,
   "metadata": {},
   "outputs": [
    {
     "data": {
      "text/html": [
       "<iframe id=\"igraph\" scrolling=\"no\" style=\"border:none;\" seamless=\"seamless\" src=\"https://plot.ly/~mohammad5617/8.embed\" height=\"525px\" width=\"100%\"></iframe>"
      ],
      "text/plain": [
       "<chart_studio.tools.PlotlyDisplay object>"
      ]
     },
     "execution_count": 66,
     "metadata": {},
     "output_type": "execute_result"
    }
   ],
   "source": [
    "trace0 = go.Scatter(\n",
    "    x = r,\n",
    "    y = r2_list,\n",
    "    name = 'R2 of normal data',\n",
    "    line = dict(\n",
    "        color = ('rgb(205, 12, 24)'),\n",
    "        width = 2,)\n",
    ")\n",
    "trace1 = go.Scatter(\n",
    "    x = r,\n",
    "    y = r2ds_list,\n",
    "    name = 'R2 of STL deseasonal data',\n",
    "    line = dict(\n",
    "        color = ('rgb(22, 96, 167)'),\n",
    "        width = 2,\n",
    "        dash = 'dot')\n",
    ")   \n",
    "trace2 = go.Scatter(\n",
    "    x = r,\n",
    "    y = r2dm_list,\n",
    "    name = 'R2 of monthly deseasonal data',\n",
    "    line = dict(\n",
    "        color = ('rgb(33, 164, 242)'),\n",
    "        width = 4,\n",
    "        dash = 'dash')\n",
    ")\n",
    "\n",
    "\n",
    "\n",
    "d = [trace0, trace1]\n",
    "    \n",
    "layout = dict(title = 'Comparison of normal and deseasonal data',\n",
    "              xaxis = dict(title = 'Thresholds',\n",
    "              showticklabels=True,\n",
    "              tickmode='linear',\n",
    "              ticks='outside',\n",
    "              tick0=0,\n",
    "              dtick=0.05,\n",
    "              ticklen=8,\n",
    "              tickwidth=4,\n",
    "              tickcolor='#000'),\n",
    "              yaxis = dict(title = 'R-squared',\n",
    "              showticklabels=True,\n",
    "              range=[-0.4, 0.8],\n",
    "              tickmode='linear',\n",
    "              ticks='outside',\n",
    "              tick0=0,\n",
    "              dtick=0.1,\n",
    "              ticklen=8,\n",
    "              tickwidth=4,\n",
    "              tickcolor='#000'),\n",
    "                            shapes = [\n",
    "        {\n",
    "            'type': 'line',\n",
    "            'x0': 0,\n",
    "            'y0': nullr2,\n",
    "            'x1': 1,\n",
    "            'y1': nullr2,\n",
    "            'line': {\n",
    "                'color': 'rgb(255, 0, 0)',\n",
    "                'width': 0.5,\n",
    "            },\n",
    "        }]\n",
    "              )\n",
    "\n",
    "fig = dict(data=d, layout=layout)\n",
    "py.iplot(fig, filename='styled-line')"
   ]
  },
  {
   "cell_type": "code",
   "execution_count": 12,
   "metadata": {},
   "outputs": [],
   "source": [
    "\n",
    "for i in range(20,1,-1):\n",
    "    R2, MSE, average_betweennes, average_shortest_path_length, error, null_r2 = cf.model(data,\"LR\",\"normal\", lag=i)\n",
    "    MSE_list.append(MSE)\n",
    "    r2_list.append(R2)"
   ]
  },
  {
   "cell_type": "code",
   "execution_count": 29,
   "metadata": {},
   "outputs": [],
   "source": [
    "f = np.matrix(r2_list).mean(axis=0)\n",
    "f = np.reshape(f,(18,1))"
   ]
  },
  {
   "cell_type": "code",
   "execution_count": 24,
   "metadata": {},
   "outputs": [
    {
     "data": {
      "text/plain": [
       "[<matplotlib.lines.Line2D at 0x7f33ae8ba6a0>]"
      ]
     },
     "execution_count": 24,
     "metadata": {},
     "output_type": "execute_result"
    },
    {
     "data": {
      "image/png": "[encoded data removed]",
      "text/plain": [
       "<Figure size 900x468 with 1 Axes>"
      ]
     },
     "metadata": {},
     "output_type": "display_data"
    }
   ],
   "source": [
    "fig, ax = plt.subplots()\n",
    "fig.set_size_inches(12.5, 6.5)\n",
    "plt.ylabel(\"Mean Squared Error\")\n",
    "plt.xlabel(\"Thresholds\")\n",
    "plt.xticks(r)\n",
    "plt.plot(r,f)\n",
    "#plt.axhline(y=error, color='r', linestyle='-');"
   ]
  },
  {
   "cell_type": "code",
   "execution_count": 23,
   "metadata": {},
   "outputs": [],
   "source": [
    "R2, MSE, average_betweennes, average_shortest_path_length, error, null_r2 = cf.model(data,\"LR\",\"normal\", lag=400)\n",
    "\n",
    "data_deseasonal= cf.deseasonal_STL(data)\n",
    "R2_ds, MSE_ds, average_betweennes_ds, average_shortest_path_length_ds, error_ds, null_r2_ds = cf.model(data_deseasonal,\"LR\",\"normal\",lag=400)\n",
    "\n",
    "data_deseasonal_monthly= cf.deseasonal_monthly_anomaly(data)\n",
    "R2_dsm, MSE_dsm, average_betweennes_dsm, average_shortest_path_length_dsm, error_dsm, null_r2_dsm = cf.model(data_deseasonal_monthly,\"LR\",\"normal\",lag=400)\n"
   ]
  },
  {
   "cell_type": "code",
   "execution_count": 24,
   "metadata": {},
   "outputs": [
    {
     "data": {
      "text/html": [
       "<iframe id=\"igraph\" scrolling=\"no\" style=\"border:none;\" seamless=\"seamless\" src=\"https://plot.ly/~mohammad5617/8.embed\" height=\"525px\" width=\"100%\"></iframe>"
      ],
      "text/plain": [
       "<chart_studio.tools.PlotlyDisplay object>"
      ]
     },
     "execution_count": 24,
     "metadata": {},
     "output_type": "execute_result"
    }
   ],
   "source": [
    "trace0 = go.Scatter(\n",
    "    x = r,\n",
    "    y = R2,\n",
    "    name = 'R2 of normal data',\n",
    "    line = dict(\n",
    "        color = ('rgb(205, 12, 24)'),\n",
    "        width = 2,)\n",
    ")\n",
    "trace1 = go.Scatter(\n",
    "    x = r,\n",
    "    y = R2_ds,\n",
    "    name = 'R2 of STL deseasonal data',\n",
    "    line = dict(\n",
    "        color = ('rgb(22, 96, 167)'),\n",
    "        width = 2,\n",
    "        dash = 'dot')\n",
    ")    \n",
    "\n",
    "trace2 = go.Scatter(\n",
    "    x = r,\n",
    "    y = R2_dsm,\n",
    "    name = 'R2 of monthly deseasonal data',\n",
    "    line = dict(\n",
    "        color = ('rgb(33, 164, 242)'),\n",
    "        width = 4,\n",
    "        dash = 'dash')\n",
    ")\n",
    "\n",
    "d = [trace0, trace1, trace2]\n",
    "    \n",
    "layout = dict(title = 'Comparison of normal and deseasonal data',\n",
    "              xaxis = dict(title = 'Thresholds',\n",
    "              showticklabels=True,\n",
    "              tickmode='linear',\n",
    "              ticks='outside',\n",
    "              tick0=0,\n",
    "              dtick=0.05,\n",
    "              ticklen=8,\n",
    "              tickwidth=4,\n",
    "              tickcolor='#000'),\n",
    "              yaxis = dict(title = 'R-squared',\n",
    "              showticklabels=True,\n",
    "              tickmode='linear',\n",
    "              ticks='outside',\n",
    "              tick0=0,\n",
    "              dtick=0.1,\n",
    "              ticklen=8,\n",
    "              tickwidth=4,\n",
    "              tickcolor='#000'),\n",
    "                            shapes = [\n",
    "        {\n",
    "            'type': 'line',\n",
    "            'x0': 0.35,\n",
    "            'y0': 0,\n",
    "            'x1': 0.35,\n",
    "            'y1': 1,\n",
    "            'line': {\n",
    "                'color': 'rgb(0, 0, 0)',\n",
    "                'width': 0.5,\n",
    "            },\n",
    "        }]\n",
    "              )\n",
    "\n",
    "fig = dict(data=d, layout=layout)\n",
    "py.iplot(fig, filename='styled-line')"
   ]
  },
  {
   "cell_type": "code",
   "execution_count": 28,
   "metadata": {},
   "outputs": [
    {
     "data": {
      "text/html": [
       "<iframe id=\"igraph\" scrolling=\"no\" style=\"border:none;\" seamless=\"seamless\" src=\"https://plot.ly/~mohammad5617/8.embed\" height=\"525px\" width=\"100%\"></iframe>"
      ],
      "text/plain": [
       "<chart_studio.tools.PlotlyDisplay object>"
      ]
     },
     "execution_count": 28,
     "metadata": {},
     "output_type": "execute_result"
    }
   ],
   "source": [
    "trace0 = go.Scatter(\n",
    "    x = r,\n",
    "    y = average_shortest_path_length,\n",
    "    name = 'Average Shortest Path of normal data',\n",
    "    line = dict(\n",
    "        color = ('rgb(205, 12, 24)'),\n",
    "        width = 2)\n",
    ")\n",
    "trace1 = go.Scatter(\n",
    "    x = r,\n",
    "    y = average_shortest_path_length_ds,\n",
    "    name = 'Average Shortest Path of deseasonal data',\n",
    "    line = dict(\n",
    "        color = ('rgb(22, 96, 167)'),\n",
    "        width = 2,)\n",
    ")    \n",
    "d = [trace0, trace1]\n",
    "    \n",
    "layout = dict(title = 'Comparison of normal and deseasonal data',\n",
    "              xaxis = dict(title = 'Thresholds'),\n",
    "              yaxis = dict(title = 'Average Shortest Path'),\n",
    "              shapes = [\n",
    "        {\n",
    "            'type': 'line',\n",
    "            'x0': 0.35,\n",
    "            'y0': 0,\n",
    "            'x1': 0.35,\n",
    "            'y1': 3.5,\n",
    "            'line': {\n",
    "                'color': 'rgb(0, 0, 0)',\n",
    "                'width': 0.5,\n",
    "            },\n",
    "        }]\n",
    "              )\n",
    "\n",
    "fig = dict(data=d, layout=layout)s\n",
    "py.iplot(fig, filename='styled-line')"
   ]
  },
  {
   "cell_type": "code",
   "execution_count": 14,
   "metadata": {},
   "outputs": [
    {
     "data": {
      "text/html": [
       "<iframe id=\"igraph\" scrolling=\"no\" style=\"border:none;\" seamless=\"seamless\" src=\"https://plot.ly/~mohammad5617/8.embed\" height=\"525px\" width=\"100%\"></iframe>"
      ],
      "text/plain": [
       "<chart_studio.tools.PlotlyDisplay object>"
      ]
     },
     "execution_count": 14,
     "metadata": {},
     "output_type": "execute_result"
    }
   ],
   "source": [
    "trace0 = go.Scatter(\n",
    "    x = r,\n",
    "    y = average_betweennes,\n",
    "    name = 'Average Betweennes of normal data',\n",
    "    line = dict(\n",
    "        color = ('rgb(205, 12, 24)'),\n",
    "        width = 2)\n",
    ")\n",
    "trace1 = go.Scatter(\n",
    "    x = r,\n",
    "    y = average_betweennes_ds,\n",
    "    name = 'Average Betweennes of deseasonal data',\n",
    "    line = dict(\n",
    "        color = ('rgb(22, 96, 167)'),\n",
    "        width = 2,)\n",
    ")    \n",
    "d = [trace0, trace1]\n",
    "    \n",
    "layout = dict(title = 'Comparison of normal and deseasonal data',\n",
    "              xaxis = dict(title = 'Thresholds'),\n",
    "              yaxis = dict(title = 'Average Betweennes'),\n",
    "              )\n",
    "\n",
    "fig = dict(data=d, layout=layout)\n",
    "py.iplot(fig, filename='styled-line')"
   ]
  },
  {
   "cell_type": "code",
   "execution_count": 19,
   "metadata": {},
   "outputs": [],
   "source": [
    "data = pr[16:23,10:16,:]\n",
    "data = cf.unflatten(data)\n",
    "data = np.swapaxes(data,0,1)"
   ]
  },
  {
   "cell_type": "code",
   "execution_count": 20,
   "metadata": {},
   "outputs": [],
   "source": [
    "R2, MSE, average_betweennes, average_shortest_path_length, error, null_r2 = cf.model(data,\"NN\",\"normal\")\n",
    "\n",
    "data_deseasonal= cf.deseasonal_STL(data)\n",
    "R2_ds, MSE_ds, average_betweennes_ds, average_shortest_path_length_ds, error_ds, null_r2_ds = cf.model(data_deseasonal,\"NN\",\"normal\")\n",
    "\n",
    "data_deseasonal_monthly= cf.deseasonal_monthly_anomaly(data)\n",
    "R2_dsm, MSE_dsm, average_betweennes_dsm, average_shortest_path_length_dsm, error_dsm, null_r2_dsm = cf.model(data_deseasonal_monthly,\"NN\",\"normal\")\n"
   ]
  },
  {
   "cell_type": "code",
   "execution_count": 21,
   "metadata": {},
   "outputs": [
    {
     "data": {
      "text/html": [
       "<iframe id=\"igraph\" scrolling=\"no\" style=\"border:none;\" seamless=\"seamless\" src=\"https://plot.ly/~mohammad5617/8.embed\" height=\"525px\" width=\"100%\"></iframe>"
      ],
      "text/plain": [
       "<chart_studio.tools.PlotlyDisplay object>"
      ]
     },
     "execution_count": 21,
     "metadata": {},
     "output_type": "execute_result"
    }
   ],
   "source": [
    "trace0 = go.Scatter(\n",
    "    x = r,\n",
    "    y = R2,\n",
    "    name = 'R2 of normal data',\n",
    "    line = dict(\n",
    "        color = ('rgb(205, 12, 24)'),\n",
    "        width = 2,)\n",
    ")\n",
    "trace1 = go.Scatter(\n",
    "    x = r,\n",
    "    y = R2_ds,\n",
    "    name = 'R2 of STL deseasonal data',\n",
    "    line = dict(\n",
    "        color = ('rgb(22, 96, 167)'),\n",
    "        width = 2,\n",
    "        dash = 'dot')\n",
    ")    \n",
    "\n",
    "trace2 = go.Scatter(\n",
    "    x = r,\n",
    "    y = R2_dsm,\n",
    "    name = 'R2 of monthly deseasonal data',\n",
    "    line = dict(\n",
    "        color = ('rgb(33, 164, 242)'),\n",
    "        width = 4,\n",
    "        dash = 'dash')\n",
    ")\n",
    "\n",
    "d = [trace0, trace1, trace2]\n",
    "    \n",
    "layout = dict(title = 'Comparison of normal and deseasonal data',\n",
    "              xaxis = dict(title = 'Thresholds',\n",
    "              showticklabels=True,\n",
    "              tickmode='linear',\n",
    "              ticks='outside',\n",
    "              tick0=0,\n",
    "              dtick=0.05,\n",
    "              ticklen=8,\n",
    "              tickwidth=4,\n",
    "              tickcolor='#000'),\n",
    "              yaxis = dict(title = 'R-squared',\n",
    "              showticklabels=True,\n",
    "              tickmode='linear',\n",
    "              ticks='outside',\n",
    "              tick0=0,\n",
    "              dtick=0.1,\n",
    "              ticklen=8,\n",
    "              tickwidth=4,\n",
    "              tickcolor='#000'),\n",
    "              )\n",
    "\n",
    "fig = dict(data=d, layout=layout)\n",
    "py.iplot(fig, filename='styled-line')"
   ]
  },
  {
   "cell_type": "code",
   "execution_count": 22,
   "metadata": {},
   "outputs": [],
   "source": [
    "data = pr[16:23,10:16,:]\n",
    "data = cf.unflatten(data)\n",
    "data = np.swapaxes(data,0,1)"
   ]
  },
  {
   "cell_type": "code",
   "execution_count": 23,
   "metadata": {},
   "outputs": [],
   "source": [
    "R2, MSE, average_betweennes, average_shortest_path_length, error, null_r2 = cf.model(data,\"RF\",\"normal\")\n",
    "\n",
    "data_deseasonal= cf.deseasonal_STL(data)\n",
    "R2_ds, MSE_ds, average_betweennes_ds, average_shortest_path_length_ds, error_ds, null_r2_ds = cf.model(data_deseasonal,\"RF\",\"normal\")\n",
    "\n",
    "data_deseasonal_monthly= cf.deseasonal_monthly_anomaly(data)\n",
    "R2_dsm, MSE_dsm, average_betweennes_dsm, average_shortest_path_length_dsm, error_dsm, null_r2_dsm = cf.model(data_deseasonal_monthly,\"RF\",\"normal\")"
   ]
  },
  {
   "cell_type": "code",
   "execution_count": 24,
   "metadata": {
    "scrolled": true
   },
   "outputs": [
    {
     "data": {
      "text/html": [
       "<iframe id=\"igraph\" scrolling=\"no\" style=\"border:none;\" seamless=\"seamless\" src=\"https://plot.ly/~mohammad5617/8.embed\" height=\"525px\" width=\"100%\"></iframe>"
      ],
      "text/plain": [
       "<chart_studio.tools.PlotlyDisplay object>"
      ]
     },
     "execution_count": 24,
     "metadata": {},
     "output_type": "execute_result"
    }
   ],
   "source": [
    "trace0 = go.Scatter(\n",
    "    x = r,\n",
    "    y = R2,\n",
    "    name = 'R2 of normal data',\n",
    "    line = dict(\n",
    "        color = ('rgb(205, 12, 24)'),\n",
    "        width = 2,)\n",
    ")\n",
    "trace1 = go.Scatter(\n",
    "    x = r,\n",
    "    y = R2_ds,\n",
    "    name = 'R2 of STL deseasonal data',\n",
    "    line = dict(\n",
    "        color = ('rgb(22, 96, 167)'),\n",
    "        width = 2,\n",
    "        dash = 'dot')\n",
    ")    \n",
    "\n",
    "trace2 = go.Scatter(\n",
    "    x = r,\n",
    "    y = R2_dsm,\n",
    "    name = 'R2 of monthly deseasonal data',\n",
    "    line = dict(\n",
    "        color = ('rgb(33, 164, 242)'),\n",
    "        width = 4,\n",
    "        dash = 'dash')\n",
    ")\n",
    "\n",
    "d = [trace0, trace1, trace2]\n",
    "    \n",
    "layout = dict(title = 'Comparison of normal and deseasonal data',\n",
    "              xaxis = dict(title = 'Thresholds',\n",
    "              showticklabels=True,\n",
    "              tickmode='linear',\n",
    "              ticks='outside',\n",
    "              tick0=0,\n",
    "              dtick=0.05,\n",
    "              ticklen=8,\n",
    "              tickwidth=4,\n",
    "              tickcolor='#000'),\n",
    "              yaxis = dict(title = 'R-squared',\n",
    "              showticklabels=True,\n",
    "              tickmode='linear',\n",
    "              ticks='outside',\n",
    "              tick0=0,\n",
    "              dtick=0.1,\n",
    "              ticklen=8,\n",
    "              tickwidth=4,\n",
    "              tickcolor='#000'),\n",
    "              )\n",
    "\n",
    "fig = dict(data=d, layout=layout)\n",
    "py.iplot(fig, filename='styled-line')"
   ]
  },
  {
   "cell_type": "code",
   "execution_count": null,
   "metadata": {},
   "outputs": [],
   "source": []
  },
  {
   "cell_type": "code",
   "execution_count": null,
   "metadata": {},
   "outputs": [],
   "source": []
  },
  {
   "cell_type": "code",
   "execution_count": null,
   "metadata": {},
   "outputs": [],
   "source": []
  },
  {
   "cell_type": "code",
   "execution_count": 5,
   "metadata": {},
   "outputs": [],
   "source": [
    "r = np.arange(0.1,1,0.05)\n",
    "df = cf.feature_importance(data)"
   ]
  },
  {
   "cell_type": "code",
   "execution_count": 9,
   "metadata": {},
   "outputs": [
    {
     "data": {
      "text/html": [
       "<iframe id=\"igraph\" scrolling=\"no\" style=\"border:none;\" seamless=\"seamless\" src=\"https://plot.ly/~mohammad5617/8.embed\" height=\"525px\" width=\"100%\"></iframe>"
      ],
      "text/plain": [
       "<chart_studio.tools.PlotlyDisplay object>"
      ]
     },
     "execution_count": 9,
     "metadata": {},
     "output_type": "execute_result"
    }
   ],
   "source": [
    "trace0 = go.Scatter(\n",
    "    x = r,\n",
    "    y = df['degree'],\n",
    "    name = 'degree',\n",
    "    line = dict(\n",
    "        color = ('rgb(205, 12, 24)'),\n",
    "        width = 2,\n",
    "    dash = 'solid')\n",
    ")\n",
    " \n",
    "trace2 = go.Scatter(\n",
    "    x = r,\n",
    "    y = df['closseness'],\n",
    "    name = 'closseness',\n",
    "    line = dict(\n",
    "        color = ('rgb(33, 164, 242)'),\n",
    "        width = 4,\n",
    "        dash = 'dash')\n",
    ")\n",
    "\n",
    "trace3 = go.Scatter(\n",
    "    x = r,\n",
    "    y = df['kcore'],\n",
    "    name = 'kcore',\n",
    "    line = dict(\n",
    "        color = ('rgb(202, 125, 68)'),\n",
    "        width = 4,\n",
    "        dash = 'dot')\n",
    ")\n",
    "trace4 = go.Scatter(\n",
    "    x = r,\n",
    "    y = df['betweeness'],\n",
    "    name = 'betweeness',\n",
    "    line = dict(\n",
    "        color = ('rgb(105, 184, 68)'),\n",
    "        width = 4,\n",
    "        dash = 'dashdot')\n",
    ")\n",
    "trace5 = go.Scatter(\n",
    "    x = r,\n",
    "    y = df['pagerank'],\n",
    "    name = 'pagerank',\n",
    "    line = dict(\n",
    "        color = ('rgb(3, 1, 5)'),\n",
    "        width = 4,\n",
    "        dash = 'longdashdot')\n",
    ")\n",
    "trace6 = go.Scatter(\n",
    "    x = r,\n",
    "    y = df['eigenvector'],\n",
    "    name = 'eigenvector',\n",
    "    line = dict(\n",
    "        color = ('rgb(239, 38, 205)'),\n",
    "        width = 4,\n",
    "        dash = 'longdash')\n",
    ")\n",
    "trace7 = go.Scatter(\n",
    "    x = r,\n",
    "    y = df['clustering'],\n",
    "    name = 'clustering',\n",
    "    line = dict(\n",
    "        color = ('rgb(248, 215, 34)'),\n",
    "        width = 4,\n",
    "        dash = 'dash')\n",
    ")\n",
    "d = [trace0, trace2, trace3, trace4, trace5, trace6, trace7]\n",
    "\n",
    "layout = dict(title = 'Features Importance based on Random Forest',\n",
    "              xaxis = dict(title = 'Thresholds',\n",
    "              showticklabels=True,\n",
    "              tickmode='linear',\n",
    "              ticks='outside',\n",
    "              tick0=0,\n",
    "              dtick=0.05,\n",
    "              ticklen=8,\n",
    "              tickwidth=4,\n",
    "              tickcolor='#000'),\n",
    "              yaxis = dict(title = 'Importance',\n",
    "              showticklabels=True,\n",
    "              tickmode='linear',\n",
    "              ticks='outside',\n",
    "              tick0=0,\n",
    "              dtick=1,\n",
    "              ticklen=8,\n",
    "              tickwidth=4,\n",
    "              tickcolor='#000'),\n",
    "              )\n",
    "\n",
    "fig = dict(data=d, layout=layout)\n",
    "py.iplot(fig, filename='styled-line')"
   ]
  },
  {
   "cell_type": "code",
   "execution_count": 10,
   "metadata": {},
   "outputs": [
    {
     "data": {
      "text/html": [
       "<iframe id=\"igraph\" scrolling=\"no\" style=\"border:none;\" seamless=\"seamless\" src=\"https://plot.ly/~mohammad5617/8.embed\" height=\"525px\" width=\"100%\"></iframe>"
      ],
      "text/plain": [
       "<chart_studio.tools.PlotlyDisplay object>"
      ]
     },
     "execution_count": 10,
     "metadata": {},
     "output_type": "execute_result"
    }
   ],
   "source": [
    "data_deseasonal= cf.deseasonal_STL(data)\n",
    "df = cf.feature_importance(data_deseasonal)\n",
    "\n",
    "trace0 = go.Scatter(\n",
    "    x = r,\n",
    "    y = df['degree'],\n",
    "    name = 'degree',\n",
    "    line = dict(\n",
    "        color = ('rgb(205, 12, 24)'),\n",
    "        width = 2,\n",
    "    dash = 'solid')\n",
    ")\n",
    " \n",
    "trace2 = go.Scatter(\n",
    "    x = r,\n",
    "    y = df['closseness'],\n",
    "    name = 'closseness',\n",
    "    line = dict(\n",
    "        color = ('rgb(33, 164, 242)'),\n",
    "        width = 4,\n",
    "        dash = 'dash')\n",
    ")\n",
    "\n",
    "trace3 = go.Scatter(\n",
    "    x = r,\n",
    "    y = df['kcore'],\n",
    "    name = 'kcore',\n",
    "    line = dict(\n",
    "        color = ('rgb(202, 125, 68)'),\n",
    "        width = 4,\n",
    "        dash = 'dot')\n",
    ")\n",
    "trace4 = go.Scatter(\n",
    "    x = r,\n",
    "    y = df['betweeness'],\n",
    "    name = 'betweeness',\n",
    "    line = dict(\n",
    "        color = ('rgb(105, 184, 68)'),\n",
    "        width = 4,\n",
    "        dash = 'dashdot')\n",
    ")\n",
    "trace5 = go.Scatter(\n",
    "    x = r,\n",
    "    y = df['pagerank'],\n",
    "    name = 'pagerank',\n",
    "    line = dict(\n",
    "        color = ('rgb(3, 1, 5)'),\n",
    "        width = 4,\n",
    "        dash = 'longdashdot')\n",
    ")\n",
    "trace6 = go.Scatter(\n",
    "    x = r,\n",
    "    y = df['eigenvector'],\n",
    "    name = 'eigenvector',\n",
    "    line = dict(\n",
    "        color = ('rgb(239, 38, 205)'),\n",
    "        width = 4,\n",
    "        dash = 'longdash')\n",
    ")\n",
    "trace7 = go.Scatter(\n",
    "    x = r,\n",
    "    y = df['clustering'],\n",
    "    name = 'clustering',\n",
    "    line = dict(\n",
    "        color = ('rgb(248, 215, 34)'),\n",
    "        width = 4,\n",
    "        dash = 'dash')\n",
    ")\n",
    "d = [trace0, trace2, trace3, trace4, trace5, trace6, trace7]\n",
    "\n",
    "layout = dict(title = 'Features Importance based on Random Forest',\n",
    "              xaxis = dict(title = 'Thresholds',\n",
    "              showticklabels=True,\n",
    "              tickmode='linear',\n",
    "              ticks='outside',\n",
    "              tick0=0,\n",
    "              dtick=0.05,\n",
    "              ticklen=8,\n",
    "              tickwidth=4,\n",
    "              tickcolor='#000'),\n",
    "              yaxis = dict(title = 'Importance',\n",
    "              showticklabels=True,\n",
    "              tickmode='linear',\n",
    "              ticks='outside',\n",
    "              tick0=0,\n",
    "              dtick=1,\n",
    "              ticklen=8,\n",
    "              tickwidth=4,\n",
    "              tickcolor='#000'),\n",
    "              )\n",
    "\n",
    "fig = dict(data=d, layout=layout)\n",
    "py.iplot(fig, filename='styled-line')"
   ]
  },
  {
   "cell_type": "code",
   "execution_count": null,
   "metadata": {},
   "outputs": [],
   "source": []
  },
  {
   "cell_type": "code",
   "execution_count": null,
   "metadata": {},
   "outputs": [],
   "source": []
  },
  {
   "cell_type": "code",
   "execution_count": null,
   "metadata": {},
   "outputs": [],
   "source": []
  },
  {
   "cell_type": "code",
   "execution_count": null,
   "metadata": {},
   "outputs": [],
   "source": []
  },
  {
   "cell_type": "code",
   "execution_count": null,
   "metadata": {},
   "outputs": [],
   "source": []
  },
  {
   "cell_type": "code",
   "execution_count": null,
   "metadata": {},
   "outputs": [],
   "source": []
  },
  {
   "cell_type": "code",
   "execution_count": null,
   "metadata": {},
   "outputs": [],
   "source": []
  },
  {
   "cell_type": "code",
   "execution_count": 8,
   "metadata": {},
   "outputs": [
    {
     "data": {
      "text/html": [
       "<iframe id=\"igraph\" scrolling=\"no\" style=\"border:none;\" seamless=\"seamless\" src=\"https://plot.ly/~mohammad5617/6.embed\" height=\"525px\" width=\"100%\"></iframe>"
      ],
      "text/plain": [
       "<chart_studio.tools.PlotlyDisplay object>"
      ]
     },
     "execution_count": 8,
     "metadata": {},
     "output_type": "execute_result"
    }
   ],
   "source": [
    "trace = go.Scatter(\n",
    "    x = r,\n",
    "    y = MSE\n",
    ")\n",
    "\n",
    "data = [trace]\n",
    "layout = {}\n",
    "fig = go.Figure(data = data, layout = layout)\n",
    "py.iplot(fig, filename='line-mode')"
   ]
  },
  {
   "cell_type": "code",
   "execution_count": null,
   "metadata": {},
   "outputs": [],
   "source": []
  }
 ],
 "metadata": {
  "kernelspec": {
   "display_name": "Python 3",
   "language": "python",
   "name": "python3"
  },
  "language_info": {
   "codemirror_mode": {
    "name": "ipython",
    "version": 3
   },
   "file_extension": ".py",
   "mimetype": "text/x-python",
   "name": "python",
   "nbconvert_exporter": "python",
   "pygments_lexer": "ipython3",
   "version": "3.6.8"
  }
 },
 "nbformat": 4,
 "nbformat_minor": 2
}
