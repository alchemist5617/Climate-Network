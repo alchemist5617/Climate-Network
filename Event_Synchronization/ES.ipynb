{
 "cells": [
  {
   "cell_type": "code",
   "execution_count": 1,
   "metadata": {},
   "outputs": [],
   "source": [
    "import math\n",
    "import numpy as np\n",
    "from netCDF4 import Dataset"
   ]
  },
  {
   "cell_type": "code",
   "execution_count": 2,
   "metadata": {},
   "outputs": [],
   "source": [
    "def tau_computer(t1_index, i):\n",
    "    if (len(t1_index) != 1):  \n",
    "        if(i == 0):\n",
    "            tau_t1 = t1_index[i+1] - t1_index[i]\n",
    "        elif(i == (len(t1_index)-1)):\n",
    "            tau_t1 = t1_index[i] - t1_index[i-1]\n",
    "        else:\n",
    "            tau_t1 = min(t1_index[i+1] - t1_index[i],t1_index[i] - t1_index[i-1])\n",
    "    else:\n",
    "        tau_t1 = float('NaN')\n",
    "    return(tau_t1)"
   ]
  },
  {
   "cell_type": "code",
   "execution_count": null,
   "metadata": {},
   "outputs": [],
   "source": []
  },
  {
   "cell_type": "code",
   "execution_count": 80,
   "metadata": {},
   "outputs": [],
   "source": [
    "def ES(t1, t2, t_max):\n",
    "    t1_index = np.where((t1 == 0) & (np.roll(t1,-1) == 1))[0] + 1\n",
    "    t2_index = np.where((t2 == 0) & (np.roll(t2,-1) == 1))[0] + 1\n",
    "    s = 0\n",
    "    if((len(t1_index)!=0) and (len(t2_index)!=0)): \n",
    "        for i in range(len(t1_index)):\n",
    "            for j in range(len(t2_index)):\n",
    "                if(t2_index[j] < t1_index[i]): \n",
    "                    continue\n",
    "                d = t2_index[j] - t1_index[i]\n",
    "                tau_t1 = tau_computer(t1_index, i)   \n",
    "                tau_t2 = tau_computer(t2_index, j)\n",
    "                if(np.isnan(tau_t1) and not np.isnan(tau_t2)):\n",
    "                    tau = tau_t2/2\n",
    "                elif(not np.isnan(tau_t1) and np.isnan(tau_t2)):\n",
    "                    tau = tau_t1/2\n",
    "                elif(np.isnan(tau_t1) and np.isnan(tau_t2)):\n",
    "                    tau = float('NaN')\n",
    "                else:\n",
    "                    tau = min(tau_t1, tau_t2)/2\n",
    "                \n",
    "                if(np.isnan(tau)):\n",
    "                    if(d<=t_max):\n",
    "                        if(t1_index[i] == t2_index[j]): \n",
    "                            s = s + 0.5\n",
    "                        else:\n",
    "                            s = s + 1                   \n",
    "                else:\n",
    "                    if((d<=t_max) and (d<=tau)):\n",
    "                        if(t1_index[i] == t2_index[j]): \n",
    "                            s = s + 0.5\n",
    "                        else:\n",
    "                            s = s + 1\n",
    "    if(len(t1_index)>0): s = s/len(t1_index)                        \n",
    "    return(s)"
   ]
  },
  {
   "cell_type": "code",
   "execution_count": 83,
   "metadata": {},
   "outputs": [],
   "source": [
    "t1 = np.array([0,0,1,0,1,1,1,0,0,0])\n",
    "t2 = np.array([0,0,0,0,1,0,0,0,0,0])"
   ]
  },
  {
   "cell_type": "code",
   "execution_count": 87,
   "metadata": {},
   "outputs": [
    {
     "data": {
      "text/plain": [
       "0.5"
      ]
     },
     "execution_count": 87,
     "metadata": {},
     "output_type": "execute_result"
    }
   ],
   "source": [
    "ES(t2,t1,2)"
   ]
  },
  {
   "cell_type": "code",
   "execution_count": 85,
   "metadata": {},
   "outputs": [],
   "source": [
    "t1_index = np.where((t1 == 0) & (np.roll(t1,-1) == 1))[0] + 1\n",
    "t2_index = np.where((t2 == 0) & (np.roll(t2,-1) == 1))[0] + 1"
   ]
  },
  {
   "cell_type": "code",
   "execution_count": 86,
   "metadata": {},
   "outputs": [
    {
     "data": {
      "text/plain": [
       "array([2, 4])"
      ]
     },
     "execution_count": 86,
     "metadata": {},
     "output_type": "execute_result"
    }
   ],
   "source": [
    "t1_index"
   ]
  },
  {
   "cell_type": "code",
   "execution_count": 46,
   "metadata": {},
   "outputs": [
    {
     "data": {
      "text/plain": [
       "array([2, 4])"
      ]
     },
     "execution_count": 46,
     "metadata": {},
     "output_type": "execute_result"
    }
   ],
   "source": [
    "t1_index"
   ]
  },
  {
   "cell_type": "code",
   "execution_count": 52,
   "metadata": {},
   "outputs": [],
   "source": [
    "f = Dataset('spi3_6_12_1deg_cru_ts_3_21_1949_2012.nc') \n",
    "spi = f.variables['spi3']"
   ]
  },
  {
   "cell_type": "code",
   "execution_count": 62,
   "metadata": {},
   "outputs": [],
   "source": [
    "data1 = spi[:,90,200]\n",
    "data2 = spi[:,95,205]"
   ]
  },
  {
   "cell_type": "code",
   "execution_count": 65,
   "metadata": {},
   "outputs": [
    {
     "data": {
      "text/plain": [
       "0"
      ]
     },
     "execution_count": 65,
     "metadata": {},
     "output_type": "execute_result"
    }
   ],
   "source": [
    "ES(data1,data2,12)"
   ]
  },
  {
   "cell_type": "code",
   "execution_count": 66,
   "metadata": {},
   "outputs": [],
   "source": [
    "ES = np.load(\"ESMatrix.npy\")"
   ]
  },
  {
   "cell_type": "code",
   "execution_count": 76,
   "metadata": {},
   "outputs": [
    {
     "data": {
      "text/plain": [
       "0.0"
      ]
     },
     "execution_count": 76,
     "metadata": {},
     "output_type": "execute_result"
    }
   ],
   "source": [
    "np.min(ES)"
   ]
  },
  {
   "cell_type": "code",
   "execution_count": 73,
   "metadata": {},
   "outputs": [
    {
     "data": {
      "text/plain": [
       "(1886, 1886)"
      ]
     },
     "execution_count": 73,
     "metadata": {},
     "output_type": "execute_result"
    }
   ],
   "source": [
    "ES.shape"
   ]
  },
  {
   "cell_type": "code",
   "execution_count": null,
   "metadata": {},
   "outputs": [],
   "source": []
  }
 ],
 "metadata": {
  "kernelspec": {
   "display_name": "Python 3",
   "language": "python",
   "name": "python3"
  },
  "language_info": {
   "codemirror_mode": {
    "name": "ipython",
    "version": 3
   },
   "file_extension": ".py",
   "mimetype": "text/x-python",
   "name": "python",
   "nbconvert_exporter": "python",
   "pygments_lexer": "ipython3",
   "version": "3.6.9"
  }
 },
 "nbformat": 4,
 "nbformat_minor": 2
}
